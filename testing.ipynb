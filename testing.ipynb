{
 "cells": [
  {
   "cell_type": "code",
   "execution_count": 1,
   "id": "8090ea1a",
   "metadata": {},
   "outputs": [],
   "source": [
    "from src.clients.microlink.microlink import Microlink_Client"
   ]
  },
  {
   "cell_type": "code",
   "execution_count": 2,
   "id": "75b90b73",
   "metadata": {},
   "outputs": [
    {
     "name": "stdout",
     "output_type": "stream",
     "text": [
      "<Response [200]>\n"
     ]
    }
   ],
   "source": [
    "mc = Microlink_Client()\n",
    "response = mc.get_url(\"https://about.google/company-info/\")\n",
    "print(response)"
   ]
  },
  {
   "cell_type": "code",
   "execution_count": 3,
   "id": "3fffe2e5",
   "metadata": {},
   "outputs": [
    {
     "name": "stdout",
     "output_type": "stream",
     "text": [
      "status: success\n",
      "  success\n",
      "data: {'lang': 'en', 'author': None, 'title': 'About Google: History, office locations, commitments, initiatives', 'publisher': 'About Google', 'image': {'url': 'https://www.gstatic.com/marketing-cms/assets/images/0b/d4/e6516d32418884386205621ad689/about-companyinfo-hero.jpg=n-w2240-h700-fcrop64=1,2dbc0000d244ffff-rw', 'type': 'webp', 'size': 83778, 'height': 700, 'width': 1439, 'size_pretty': '83.8 kB'}, 'date': '2025-05-15T17:57:49.000Z', 'url': 'https://about.google/company-info/', 'description': 'Learn more about Google&rsquo;s office locations, history and commitments, plus our key initiatives around sustainability, accessibility and more.', 'logo': {'url': 'https://www.gstatic.com/marketing-cms/assets/images/d9/02/e128911b499e9d8de33f9117beee/googleg-standard-color-120dp.png=s180', 'type': 'png', 'size': 7490, 'height': 180, 'width': 180, 'size_pretty': '7.49 kB'}}\n",
      "  lang: en\n",
      "  author: None\n",
      "  title: About Google: History, office locations, commitments, initiatives\n",
      "  publisher: About Google\n",
      "  image: {'url': 'https://www.gstatic.com/marketing-cms/assets/images/0b/d4/e6516d32418884386205621ad689/about-companyinfo-hero.jpg=n-w2240-h700-fcrop64=1,2dbc0000d244ffff-rw', 'type': 'webp', 'size': 83778, 'height': 700, 'width': 1439, 'size_pretty': '83.8 kB'}\n",
      "  date: 2025-05-15T17:57:49.000Z\n",
      "  url: https://about.google/company-info/\n",
      "  description: Learn more about Google&rsquo;s office locations, history and commitments, plus our key initiatives around sustainability, accessibility and more.\n",
      "  logo: {'url': 'https://www.gstatic.com/marketing-cms/assets/images/d9/02/e128911b499e9d8de33f9117beee/googleg-standard-color-120dp.png=s180', 'type': 'png', 'size': 7490, 'height': 180, 'width': 180, 'size_pretty': '7.49 kB'}\n",
      "statusCode: 200\n",
      "  200\n",
      "redirects: []\n",
      "headers: {'accept-ranges': 'bytes', 'alt-svc': 'h3=\":443\"; ma=2592000,h3-29=\":443\"; ma=2592000', 'cache-control': 'no-cache, must-revalidate', 'content-encoding': 'gzip', 'content-security-policy': \"script-src 'nonce-uR2dolzsj4IO2DBc7rhU1Q' 'report-sample' 'strict-dynamic' 'unsafe-eval' 'unsafe-inline' http: https:; object-src 'none'; report-uri https://csp.withgoogle.com/csp/uxe-owners-acl/about_google; base-uri 'none'\", 'content-security-policy-report-only': \"require-trusted-types-for 'script'; report-uri https://csp.withgoogle.com/csp/uxe-owners-acl/about_google\", 'content-type': 'text/html', 'cross-origin-opener-policy-report-only': 'same-origin; report-to=\"uxe-owners-acl/about_google\"', 'cross-origin-resource-policy': 'cross-origin', 'date': 'Thu, 15 May 2025 17:57:49 GMT', 'expires': 'Fri, 01 Jan 1990 00:00:00 GMT', 'pragma': 'no-cache', 'report-to': '{\"group\":\"uxe-owners-acl/about_google\",\"max_age\":2592000,\"endpoints\":[{\"url\":\"https://csp.withgoogle.com/csp/report-to/uxe-owners-acl/about_google\"}]}', 'server': 'sffe', 'strict-transport-security': 'max-age=31536000', 'vary': 'Accept-Encoding', 'x-content-type-options': 'nosniff', 'x-xss-protection': '0'}\n",
      "  accept-ranges: bytes\n",
      "  alt-svc: h3=\":443\"; ma=2592000,h3-29=\":443\"; ma=2592000\n",
      "  cache-control: no-cache, must-revalidate\n",
      "  content-encoding: gzip\n",
      "  content-security-policy: script-src 'nonce-uR2dolzsj4IO2DBc7rhU1Q' 'report-sample' 'strict-dynamic' 'unsafe-eval' 'unsafe-inline' http: https:; object-src 'none'; report-uri https://csp.withgoogle.com/csp/uxe-owners-acl/about_google; base-uri 'none'\n",
      "  content-security-policy-report-only: require-trusted-types-for 'script'; report-uri https://csp.withgoogle.com/csp/uxe-owners-acl/about_google\n",
      "  content-type: text/html\n",
      "  cross-origin-opener-policy-report-only: same-origin; report-to=\"uxe-owners-acl/about_google\"\n",
      "  cross-origin-resource-policy: cross-origin\n",
      "  date: Thu, 15 May 2025 17:57:49 GMT\n",
      "  expires: Fri, 01 Jan 1990 00:00:00 GMT\n",
      "  pragma: no-cache\n",
      "  report-to: {\"group\":\"uxe-owners-acl/about_google\",\"max_age\":2592000,\"endpoints\":[{\"url\":\"https://csp.withgoogle.com/csp/report-to/uxe-owners-acl/about_google\"}]}\n",
      "  server: sffe\n",
      "  strict-transport-security: max-age=31536000\n",
      "  vary: Accept-Encoding\n",
      "  x-content-type-options: nosniff\n",
      "  x-xss-protection: 0\n"
     ]
    }
   ],
   "source": [
    "content_dict = response.json()\n",
    "if content_dict:\n",
    "    for key, value in content_dict.items():\n",
    "        print(f\"{key}: {value}\")\n",
    "        if value:\n",
    "            if isinstance(value, dict):\n",
    "                for sub_key, sub_value in value.items():\n",
    "                    print(f\"  {sub_key}: {sub_value}\")\n",
    "            elif isinstance(value, list):\n",
    "                for item in value:\n",
    "                    print(f\"  - {item}\")\n",
    "            else:\n",
    "                print(f\"  {value}\")"
   ]
  },
  {
   "cell_type": "code",
   "execution_count": 5,
   "id": "eed3edfc",
   "metadata": {},
   "outputs": [],
   "source": [
    "pdf_response = mc.get_pdf(\"https://about.google/company-info/\")"
   ]
  },
  {
   "cell_type": "code",
   "execution_count": 7,
   "id": "f04beb52",
   "metadata": {},
   "outputs": [
    {
     "name": "stdout",
     "output_type": "stream",
     "text": [
      "b'{\"status\":\"success\",\"data\":{\"lang\":\"en\",\"author\":null,\"title\":\"About Google: History, office locations, commitments, initiatives\",\"publisher\":\"About Google\",\"image\":{\"url\":\"https://www.gstatic.com/marketing-cms/assets/images/0b/d4/e6516d32418884386205621ad689/about-companyinfo-hero.jpg=n-w2240-h700-fcrop64=1,2dbc0000d244ffff-rw\",\"type\":\"webp\",\"size\":83778,\"height\":700,\"width\":1439,\"size_pretty\":\"83.8 kB\"},\"date\":\"2025-05-15T18:03:20.000Z\",\"url\":\"https://about.google/company-info/\",\"description\":\"Learn more about Google&rsquo;s office locations, history and commitments, plus our key initiatives around sustainability, accessibility and more.\",\"logo\":{\"url\":\"https://www.gstatic.com/marketing-cms/assets/images/d9/02/e128911b499e9d8de33f9117beee/googleg-standard-color-120dp.png=s180\",\"type\":\"png\",\"size\":7490,\"height\":180,\"width\":180,\"size_pretty\":\"7.49 kB\"},\"pdf\":{\"url\":\"https://iad.microlink.io/MuHhOo5tZTjSdeBZNcHcus19Mg6Xwl48YzRttOs7PAb_VDg_NBdp2FIMU_pc4Txz6iDIwr_gUld6UMg4nzwAxg.pdf\",\"size_pretty\":\"2.86 MB\",\"size\":2856212,\"type\":\"pdf\"}},\"statusCode\":200,\"redirects\":[],\"headers\":{\"accept-ranges\":\"bytes\",\"alt-svc\":\"h3=\\\\\":443\\\\\"; ma=2592000,h3-29=\\\\\":443\\\\\"; ma=2592000\",\"cache-control\":\"no-cache, must-revalidate\",\"content-encoding\":\"gzip\",\"content-security-policy\":\"script-src \\'nonce-X4-mJealhGd1d-8mLSFSsw\\' \\'report-sample\\' \\'strict-dynamic\\' \\'unsafe-eval\\' \\'unsafe-inline\\' http: https:; object-src \\'none\\'; report-uri https://csp.withgoogle.com/csp/uxe-owners-acl/about_google; base-uri \\'none\\'\",\"content-security-policy-report-only\":\"require-trusted-types-for \\'script\\'; report-uri https://csp.withgoogle.com/csp/uxe-owners-acl/about_google\",\"content-type\":\"text/html\",\"cross-origin-opener-policy-report-only\":\"same-origin; report-to=\\\\\"uxe-owners-acl/about_google\\\\\"\",\"cross-origin-resource-policy\":\"cross-origin\",\"date\":\"Thu, 15 May 2025 18:03:20 GMT\",\"expires\":\"Fri, 01 Jan 1990 00:00:00 GMT\",\"pragma\":\"no-cache\",\"report-to\":\"{\\\\\"group\\\\\":\\\\\"uxe-owners-acl/about_google\\\\\",\\\\\"max_age\\\\\":2592000,\\\\\"endpoints\\\\\":[{\\\\\"url\\\\\":\\\\\"https://csp.withgoogle.com/csp/report-to/uxe-owners-acl/about_google\\\\\"}]}\",\"server\":\"sffe\",\"strict-transport-security\":\"max-age=31536000\",\"vary\":\"Accept-Encoding\",\"x-content-type-options\":\"nosniff\",\"x-xss-protection\":\"0\"}}'\n"
     ]
    }
   ],
   "source": [
    "print(pdf_response.content)"
   ]
  },
  {
   "cell_type": "code",
   "execution_count": 8,
   "id": "658d208b",
   "metadata": {},
   "outputs": [
    {
     "name": "stdout",
     "output_type": "stream",
     "text": [
      "status: success\n",
      "  success\n",
      "data: {'lang': 'en', 'author': None, 'title': 'About Google: History, office locations, commitments, initiatives', 'publisher': 'About Google', 'image': {'url': 'https://www.gstatic.com/marketing-cms/assets/images/0b/d4/e6516d32418884386205621ad689/about-companyinfo-hero.jpg=n-w2240-h700-fcrop64=1,2dbc0000d244ffff-rw', 'type': 'webp', 'size': 83778, 'height': 700, 'width': 1439, 'size_pretty': '83.8 kB'}, 'date': '2025-05-15T18:03:20.000Z', 'url': 'https://about.google/company-info/', 'description': 'Learn more about Google&rsquo;s office locations, history and commitments, plus our key initiatives around sustainability, accessibility and more.', 'logo': {'url': 'https://www.gstatic.com/marketing-cms/assets/images/d9/02/e128911b499e9d8de33f9117beee/googleg-standard-color-120dp.png=s180', 'type': 'png', 'size': 7490, 'height': 180, 'width': 180, 'size_pretty': '7.49 kB'}, 'pdf': {'url': 'https://iad.microlink.io/MuHhOo5tZTjSdeBZNcHcus19Mg6Xwl48YzRttOs7PAb_VDg_NBdp2FIMU_pc4Txz6iDIwr_gUld6UMg4nzwAxg.pdf', 'size_pretty': '2.86 MB', 'size': 2856212, 'type': 'pdf'}}\n",
      "  lang: en\n",
      "  author: None\n",
      "  title: About Google: History, office locations, commitments, initiatives\n",
      "  publisher: About Google\n",
      "  image: {'url': 'https://www.gstatic.com/marketing-cms/assets/images/0b/d4/e6516d32418884386205621ad689/about-companyinfo-hero.jpg=n-w2240-h700-fcrop64=1,2dbc0000d244ffff-rw', 'type': 'webp', 'size': 83778, 'height': 700, 'width': 1439, 'size_pretty': '83.8 kB'}\n",
      "  date: 2025-05-15T18:03:20.000Z\n",
      "  url: https://about.google/company-info/\n",
      "  description: Learn more about Google&rsquo;s office locations, history and commitments, plus our key initiatives around sustainability, accessibility and more.\n",
      "  logo: {'url': 'https://www.gstatic.com/marketing-cms/assets/images/d9/02/e128911b499e9d8de33f9117beee/googleg-standard-color-120dp.png=s180', 'type': 'png', 'size': 7490, 'height': 180, 'width': 180, 'size_pretty': '7.49 kB'}\n",
      "  pdf: {'url': 'https://iad.microlink.io/MuHhOo5tZTjSdeBZNcHcus19Mg6Xwl48YzRttOs7PAb_VDg_NBdp2FIMU_pc4Txz6iDIwr_gUld6UMg4nzwAxg.pdf', 'size_pretty': '2.86 MB', 'size': 2856212, 'type': 'pdf'}\n",
      "statusCode: 200\n",
      "  200\n",
      "redirects: []\n",
      "headers: {'accept-ranges': 'bytes', 'alt-svc': 'h3=\":443\"; ma=2592000,h3-29=\":443\"; ma=2592000', 'cache-control': 'no-cache, must-revalidate', 'content-encoding': 'gzip', 'content-security-policy': \"script-src 'nonce-X4-mJealhGd1d-8mLSFSsw' 'report-sample' 'strict-dynamic' 'unsafe-eval' 'unsafe-inline' http: https:; object-src 'none'; report-uri https://csp.withgoogle.com/csp/uxe-owners-acl/about_google; base-uri 'none'\", 'content-security-policy-report-only': \"require-trusted-types-for 'script'; report-uri https://csp.withgoogle.com/csp/uxe-owners-acl/about_google\", 'content-type': 'text/html', 'cross-origin-opener-policy-report-only': 'same-origin; report-to=\"uxe-owners-acl/about_google\"', 'cross-origin-resource-policy': 'cross-origin', 'date': 'Thu, 15 May 2025 18:03:20 GMT', 'expires': 'Fri, 01 Jan 1990 00:00:00 GMT', 'pragma': 'no-cache', 'report-to': '{\"group\":\"uxe-owners-acl/about_google\",\"max_age\":2592000,\"endpoints\":[{\"url\":\"https://csp.withgoogle.com/csp/report-to/uxe-owners-acl/about_google\"}]}', 'server': 'sffe', 'strict-transport-security': 'max-age=31536000', 'vary': 'Accept-Encoding', 'x-content-type-options': 'nosniff', 'x-xss-protection': '0'}\n",
      "  accept-ranges: bytes\n",
      "  alt-svc: h3=\":443\"; ma=2592000,h3-29=\":443\"; ma=2592000\n",
      "  cache-control: no-cache, must-revalidate\n",
      "  content-encoding: gzip\n",
      "  content-security-policy: script-src 'nonce-X4-mJealhGd1d-8mLSFSsw' 'report-sample' 'strict-dynamic' 'unsafe-eval' 'unsafe-inline' http: https:; object-src 'none'; report-uri https://csp.withgoogle.com/csp/uxe-owners-acl/about_google; base-uri 'none'\n",
      "  content-security-policy-report-only: require-trusted-types-for 'script'; report-uri https://csp.withgoogle.com/csp/uxe-owners-acl/about_google\n",
      "  content-type: text/html\n",
      "  cross-origin-opener-policy-report-only: same-origin; report-to=\"uxe-owners-acl/about_google\"\n",
      "  cross-origin-resource-policy: cross-origin\n",
      "  date: Thu, 15 May 2025 18:03:20 GMT\n",
      "  expires: Fri, 01 Jan 1990 00:00:00 GMT\n",
      "  pragma: no-cache\n",
      "  report-to: {\"group\":\"uxe-owners-acl/about_google\",\"max_age\":2592000,\"endpoints\":[{\"url\":\"https://csp.withgoogle.com/csp/report-to/uxe-owners-acl/about_google\"}]}\n",
      "  server: sffe\n",
      "  strict-transport-security: max-age=31536000\n",
      "  vary: Accept-Encoding\n",
      "  x-content-type-options: nosniff\n",
      "  x-xss-protection: 0\n"
     ]
    }
   ],
   "source": [
    "pdf_dict = pdf_response.json()\n",
    "if pdf_dict:\n",
    "    for key, value in pdf_dict.items():\n",
    "        print(f\"{key}: {value}\")\n",
    "        if value:\n",
    "            if isinstance(value, dict):\n",
    "                for sub_key, sub_value in value.items():\n",
    "                    print(f\"  {sub_key}: {sub_value}\")\n",
    "            elif isinstance(value, list):\n",
    "                for item in value:\n",
    "                    print(f\"  - {item}\")\n",
    "            else:\n",
    "                print(f\"  {value}\")"
   ]
  },
  {
   "cell_type": "code",
   "execution_count": 9,
   "id": "047882bb",
   "metadata": {},
   "outputs": [
    {
     "name": "stdout",
     "output_type": "stream",
     "text": [
      "{'lang': 'en', 'author': None, 'title': 'About Google: History, office locations, commitments, initiatives', 'publisher': 'About Google', 'image': {'url': 'https://www.gstatic.com/marketing-cms/assets/images/0b/d4/e6516d32418884386205621ad689/about-companyinfo-hero.jpg=n-w2240-h700-fcrop64=1,2dbc0000d244ffff-rw', 'type': 'webp', 'size': 83778, 'height': 700, 'width': 1439, 'size_pretty': '83.8 kB'}, 'date': '2025-05-15T18:03:20.000Z', 'url': 'https://about.google/company-info/', 'description': 'Learn more about Google&rsquo;s office locations, history and commitments, plus our key initiatives around sustainability, accessibility and more.', 'logo': {'url': 'https://www.gstatic.com/marketing-cms/assets/images/d9/02/e128911b499e9d8de33f9117beee/googleg-standard-color-120dp.png=s180', 'type': 'png', 'size': 7490, 'height': 180, 'width': 180, 'size_pretty': '7.49 kB'}, 'pdf': {'url': 'https://iad.microlink.io/MuHhOo5tZTjSdeBZNcHcus19Mg6Xwl48YzRttOs7PAb_VDg_NBdp2FIMU_pc4Txz6iDIwr_gUld6UMg4nzwAxg.pdf', 'size_pretty': '2.86 MB', 'size': 2856212, 'type': 'pdf'}}\n"
     ]
    }
   ],
   "source": [
    "pdf_data = pdf_dict['data']\n",
    "print(pdf_data)"
   ]
  },
  {
   "cell_type": "code",
   "execution_count": 10,
   "id": "3ce80415",
   "metadata": {},
   "outputs": [
    {
     "name": "stdout",
     "output_type": "stream",
     "text": [
      "{'url': 'https://iad.microlink.io/MuHhOo5tZTjSdeBZNcHcus19Mg6Xwl48YzRttOs7PAb_VDg_NBdp2FIMU_pc4Txz6iDIwr_gUld6UMg4nzwAxg.pdf', 'size_pretty': '2.86 MB', 'size': 2856212, 'type': 'pdf'}\n"
     ]
    }
   ],
   "source": [
    "pdf = pdf_data['pdf']\n",
    "print(pdf)"
   ]
  },
  {
   "cell_type": "code",
   "execution_count": null,
   "id": "18246ffb",
   "metadata": {},
   "outputs": [],
   "source": [
    "#load in pdf"
   ]
  }
 ],
 "metadata": {
  "kernelspec": {
   "display_name": ".venv",
   "language": "python",
   "name": "python3"
  },
  "language_info": {
   "codemirror_mode": {
    "name": "ipython",
    "version": 3
   },
   "file_extension": ".py",
   "mimetype": "text/x-python",
   "name": "python",
   "nbconvert_exporter": "python",
   "pygments_lexer": "ipython3",
   "version": "3.12.6"
  }
 },
 "nbformat": 4,
 "nbformat_minor": 5
}
