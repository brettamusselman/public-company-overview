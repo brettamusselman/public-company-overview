{
 "cells": [
  {
   "cell_type": "markdown",
   "id": "1d32dfac",
   "metadata": {},
   "source": [
    "Testing Microlink"
   ]
  },
  {
   "cell_type": "code",
   "execution_count": 1,
   "id": "8090ea1a",
   "metadata": {},
   "outputs": [],
   "source": [
    "from src.clients.microlink.microlink import Microlink_Client"
   ]
  },
  {
   "cell_type": "code",
   "execution_count": 2,
   "id": "75b90b73",
   "metadata": {},
   "outputs": [
    {
     "name": "stdout",
     "output_type": "stream",
     "text": [
      "<Response [200]>\n"
     ]
    }
   ],
   "source": [
    "mc = Microlink_Client()\n",
    "response = mc.get_url(\"https://about.google/company-info/\")\n",
    "print(response)"
   ]
  },
  {
   "cell_type": "code",
   "execution_count": 3,
   "id": "3fffe2e5",
   "metadata": {},
   "outputs": [
    {
     "name": "stdout",
     "output_type": "stream",
     "text": [
      "status: success\n",
      "  success\n",
      "data: {'lang': 'en', 'author': None, 'title': 'About Google: History, office locations, commitments, initiatives', 'publisher': 'About Google', 'image': {'url': 'https://www.gstatic.com/marketing-cms/assets/images/0b/d4/e6516d32418884386205621ad689/about-companyinfo-hero.jpg=n-w2240-h700-fcrop64=1,2dbc0000d244ffff-rw', 'type': 'webp', 'size': 83778, 'height': 700, 'width': 1439, 'size_pretty': '83.8 kB'}, 'date': '2025-05-15T17:57:49.000Z', 'url': 'https://about.google/company-info/', 'description': 'Learn more about Google&rsquo;s office locations, history and commitments, plus our key initiatives around sustainability, accessibility and more.', 'logo': {'url': 'https://www.gstatic.com/marketing-cms/assets/images/d9/02/e128911b499e9d8de33f9117beee/googleg-standard-color-120dp.png=s180', 'type': 'png', 'size': 7490, 'height': 180, 'width': 180, 'size_pretty': '7.49 kB'}}\n",
      "  lang: en\n",
      "  author: None\n",
      "  title: About Google: History, office locations, commitments, initiatives\n",
      "  publisher: About Google\n",
      "  image: {'url': 'https://www.gstatic.com/marketing-cms/assets/images/0b/d4/e6516d32418884386205621ad689/about-companyinfo-hero.jpg=n-w2240-h700-fcrop64=1,2dbc0000d244ffff-rw', 'type': 'webp', 'size': 83778, 'height': 700, 'width': 1439, 'size_pretty': '83.8 kB'}\n",
      "  date: 2025-05-15T17:57:49.000Z\n",
      "  url: https://about.google/company-info/\n",
      "  description: Learn more about Google&rsquo;s office locations, history and commitments, plus our key initiatives around sustainability, accessibility and more.\n",
      "  logo: {'url': 'https://www.gstatic.com/marketing-cms/assets/images/d9/02/e128911b499e9d8de33f9117beee/googleg-standard-color-120dp.png=s180', 'type': 'png', 'size': 7490, 'height': 180, 'width': 180, 'size_pretty': '7.49 kB'}\n",
      "statusCode: 200\n",
      "  200\n",
      "redirects: []\n",
      "headers: {'accept-ranges': 'bytes', 'alt-svc': 'h3=\":443\"; ma=2592000,h3-29=\":443\"; ma=2592000', 'cache-control': 'no-cache, must-revalidate', 'content-encoding': 'gzip', 'content-security-policy': \"script-src 'nonce-uR2dolzsj4IO2DBc7rhU1Q' 'report-sample' 'strict-dynamic' 'unsafe-eval' 'unsafe-inline' http: https:; object-src 'none'; report-uri https://csp.withgoogle.com/csp/uxe-owners-acl/about_google; base-uri 'none'\", 'content-security-policy-report-only': \"require-trusted-types-for 'script'; report-uri https://csp.withgoogle.com/csp/uxe-owners-acl/about_google\", 'content-type': 'text/html', 'cross-origin-opener-policy-report-only': 'same-origin; report-to=\"uxe-owners-acl/about_google\"', 'cross-origin-resource-policy': 'cross-origin', 'date': 'Thu, 15 May 2025 17:57:49 GMT', 'expires': 'Fri, 01 Jan 1990 00:00:00 GMT', 'pragma': 'no-cache', 'report-to': '{\"group\":\"uxe-owners-acl/about_google\",\"max_age\":2592000,\"endpoints\":[{\"url\":\"https://csp.withgoogle.com/csp/report-to/uxe-owners-acl/about_google\"}]}', 'server': 'sffe', 'strict-transport-security': 'max-age=31536000', 'vary': 'Accept-Encoding', 'x-content-type-options': 'nosniff', 'x-xss-protection': '0'}\n",
      "  accept-ranges: bytes\n",
      "  alt-svc: h3=\":443\"; ma=2592000,h3-29=\":443\"; ma=2592000\n",
      "  cache-control: no-cache, must-revalidate\n",
      "  content-encoding: gzip\n",
      "  content-security-policy: script-src 'nonce-uR2dolzsj4IO2DBc7rhU1Q' 'report-sample' 'strict-dynamic' 'unsafe-eval' 'unsafe-inline' http: https:; object-src 'none'; report-uri https://csp.withgoogle.com/csp/uxe-owners-acl/about_google; base-uri 'none'\n",
      "  content-security-policy-report-only: require-trusted-types-for 'script'; report-uri https://csp.withgoogle.com/csp/uxe-owners-acl/about_google\n",
      "  content-type: text/html\n",
      "  cross-origin-opener-policy-report-only: same-origin; report-to=\"uxe-owners-acl/about_google\"\n",
      "  cross-origin-resource-policy: cross-origin\n",
      "  date: Thu, 15 May 2025 17:57:49 GMT\n",
      "  expires: Fri, 01 Jan 1990 00:00:00 GMT\n",
      "  pragma: no-cache\n",
      "  report-to: {\"group\":\"uxe-owners-acl/about_google\",\"max_age\":2592000,\"endpoints\":[{\"url\":\"https://csp.withgoogle.com/csp/report-to/uxe-owners-acl/about_google\"}]}\n",
      "  server: sffe\n",
      "  strict-transport-security: max-age=31536000\n",
      "  vary: Accept-Encoding\n",
      "  x-content-type-options: nosniff\n",
      "  x-xss-protection: 0\n"
     ]
    }
   ],
   "source": [
    "content_dict = response.json()\n",
    "if content_dict:\n",
    "    for key, value in content_dict.items():\n",
    "        print(f\"{key}: {value}\")\n",
    "        if value:\n",
    "            if isinstance(value, dict):\n",
    "                for sub_key, sub_value in value.items():\n",
    "                    print(f\"  {sub_key}: {sub_value}\")\n",
    "            elif isinstance(value, list):\n",
    "                for item in value:\n",
    "                    print(f\"  - {item}\")\n",
    "            else:\n",
    "                print(f\"  {value}\")"
   ]
  },
  {
   "cell_type": "code",
   "execution_count": 5,
   "id": "eed3edfc",
   "metadata": {},
   "outputs": [],
   "source": [
    "pdf_response = mc.get_pdf(\"https://about.google/company-info/\")"
   ]
  },
  {
   "cell_type": "code",
   "execution_count": 7,
   "id": "f04beb52",
   "metadata": {},
   "outputs": [
    {
     "name": "stdout",
     "output_type": "stream",
     "text": [
      "b'{\"status\":\"success\",\"data\":{\"lang\":\"en\",\"author\":null,\"title\":\"About Google: History, office locations, commitments, initiatives\",\"publisher\":\"About Google\",\"image\":{\"url\":\"https://www.gstatic.com/marketing-cms/assets/images/0b/d4/e6516d32418884386205621ad689/about-companyinfo-hero.jpg=n-w2240-h700-fcrop64=1,2dbc0000d244ffff-rw\",\"type\":\"webp\",\"size\":83778,\"height\":700,\"width\":1439,\"size_pretty\":\"83.8 kB\"},\"date\":\"2025-05-15T18:03:20.000Z\",\"url\":\"https://about.google/company-info/\",\"description\":\"Learn more about Google&rsquo;s office locations, history and commitments, plus our key initiatives around sustainability, accessibility and more.\",\"logo\":{\"url\":\"https://www.gstatic.com/marketing-cms/assets/images/d9/02/e128911b499e9d8de33f9117beee/googleg-standard-color-120dp.png=s180\",\"type\":\"png\",\"size\":7490,\"height\":180,\"width\":180,\"size_pretty\":\"7.49 kB\"},\"pdf\":{\"url\":\"https://iad.microlink.io/MuHhOo5tZTjSdeBZNcHcus19Mg6Xwl48YzRttOs7PAb_VDg_NBdp2FIMU_pc4Txz6iDIwr_gUld6UMg4nzwAxg.pdf\",\"size_pretty\":\"2.86 MB\",\"size\":2856212,\"type\":\"pdf\"}},\"statusCode\":200,\"redirects\":[],\"headers\":{\"accept-ranges\":\"bytes\",\"alt-svc\":\"h3=\\\\\":443\\\\\"; ma=2592000,h3-29=\\\\\":443\\\\\"; ma=2592000\",\"cache-control\":\"no-cache, must-revalidate\",\"content-encoding\":\"gzip\",\"content-security-policy\":\"script-src \\'nonce-X4-mJealhGd1d-8mLSFSsw\\' \\'report-sample\\' \\'strict-dynamic\\' \\'unsafe-eval\\' \\'unsafe-inline\\' http: https:; object-src \\'none\\'; report-uri https://csp.withgoogle.com/csp/uxe-owners-acl/about_google; base-uri \\'none\\'\",\"content-security-policy-report-only\":\"require-trusted-types-for \\'script\\'; report-uri https://csp.withgoogle.com/csp/uxe-owners-acl/about_google\",\"content-type\":\"text/html\",\"cross-origin-opener-policy-report-only\":\"same-origin; report-to=\\\\\"uxe-owners-acl/about_google\\\\\"\",\"cross-origin-resource-policy\":\"cross-origin\",\"date\":\"Thu, 15 May 2025 18:03:20 GMT\",\"expires\":\"Fri, 01 Jan 1990 00:00:00 GMT\",\"pragma\":\"no-cache\",\"report-to\":\"{\\\\\"group\\\\\":\\\\\"uxe-owners-acl/about_google\\\\\",\\\\\"max_age\\\\\":2592000,\\\\\"endpoints\\\\\":[{\\\\\"url\\\\\":\\\\\"https://csp.withgoogle.com/csp/report-to/uxe-owners-acl/about_google\\\\\"}]}\",\"server\":\"sffe\",\"strict-transport-security\":\"max-age=31536000\",\"vary\":\"Accept-Encoding\",\"x-content-type-options\":\"nosniff\",\"x-xss-protection\":\"0\"}}'\n"
     ]
    }
   ],
   "source": [
    "print(pdf_response.content)"
   ]
  },
  {
   "cell_type": "code",
   "execution_count": 8,
   "id": "658d208b",
   "metadata": {},
   "outputs": [
    {
     "name": "stdout",
     "output_type": "stream",
     "text": [
      "status: success\n",
      "  success\n",
      "data: {'lang': 'en', 'author': None, 'title': 'About Google: History, office locations, commitments, initiatives', 'publisher': 'About Google', 'image': {'url': 'https://www.gstatic.com/marketing-cms/assets/images/0b/d4/e6516d32418884386205621ad689/about-companyinfo-hero.jpg=n-w2240-h700-fcrop64=1,2dbc0000d244ffff-rw', 'type': 'webp', 'size': 83778, 'height': 700, 'width': 1439, 'size_pretty': '83.8 kB'}, 'date': '2025-05-15T18:03:20.000Z', 'url': 'https://about.google/company-info/', 'description': 'Learn more about Google&rsquo;s office locations, history and commitments, plus our key initiatives around sustainability, accessibility and more.', 'logo': {'url': 'https://www.gstatic.com/marketing-cms/assets/images/d9/02/e128911b499e9d8de33f9117beee/googleg-standard-color-120dp.png=s180', 'type': 'png', 'size': 7490, 'height': 180, 'width': 180, 'size_pretty': '7.49 kB'}, 'pdf': {'url': 'https://iad.microlink.io/MuHhOo5tZTjSdeBZNcHcus19Mg6Xwl48YzRttOs7PAb_VDg_NBdp2FIMU_pc4Txz6iDIwr_gUld6UMg4nzwAxg.pdf', 'size_pretty': '2.86 MB', 'size': 2856212, 'type': 'pdf'}}\n",
      "  lang: en\n",
      "  author: None\n",
      "  title: About Google: History, office locations, commitments, initiatives\n",
      "  publisher: About Google\n",
      "  image: {'url': 'https://www.gstatic.com/marketing-cms/assets/images/0b/d4/e6516d32418884386205621ad689/about-companyinfo-hero.jpg=n-w2240-h700-fcrop64=1,2dbc0000d244ffff-rw', 'type': 'webp', 'size': 83778, 'height': 700, 'width': 1439, 'size_pretty': '83.8 kB'}\n",
      "  date: 2025-05-15T18:03:20.000Z\n",
      "  url: https://about.google/company-info/\n",
      "  description: Learn more about Google&rsquo;s office locations, history and commitments, plus our key initiatives around sustainability, accessibility and more.\n",
      "  logo: {'url': 'https://www.gstatic.com/marketing-cms/assets/images/d9/02/e128911b499e9d8de33f9117beee/googleg-standard-color-120dp.png=s180', 'type': 'png', 'size': 7490, 'height': 180, 'width': 180, 'size_pretty': '7.49 kB'}\n",
      "  pdf: {'url': 'https://iad.microlink.io/MuHhOo5tZTjSdeBZNcHcus19Mg6Xwl48YzRttOs7PAb_VDg_NBdp2FIMU_pc4Txz6iDIwr_gUld6UMg4nzwAxg.pdf', 'size_pretty': '2.86 MB', 'size': 2856212, 'type': 'pdf'}\n",
      "statusCode: 200\n",
      "  200\n",
      "redirects: []\n",
      "headers: {'accept-ranges': 'bytes', 'alt-svc': 'h3=\":443\"; ma=2592000,h3-29=\":443\"; ma=2592000', 'cache-control': 'no-cache, must-revalidate', 'content-encoding': 'gzip', 'content-security-policy': \"script-src 'nonce-X4-mJealhGd1d-8mLSFSsw' 'report-sample' 'strict-dynamic' 'unsafe-eval' 'unsafe-inline' http: https:; object-src 'none'; report-uri https://csp.withgoogle.com/csp/uxe-owners-acl/about_google; base-uri 'none'\", 'content-security-policy-report-only': \"require-trusted-types-for 'script'; report-uri https://csp.withgoogle.com/csp/uxe-owners-acl/about_google\", 'content-type': 'text/html', 'cross-origin-opener-policy-report-only': 'same-origin; report-to=\"uxe-owners-acl/about_google\"', 'cross-origin-resource-policy': 'cross-origin', 'date': 'Thu, 15 May 2025 18:03:20 GMT', 'expires': 'Fri, 01 Jan 1990 00:00:00 GMT', 'pragma': 'no-cache', 'report-to': '{\"group\":\"uxe-owners-acl/about_google\",\"max_age\":2592000,\"endpoints\":[{\"url\":\"https://csp.withgoogle.com/csp/report-to/uxe-owners-acl/about_google\"}]}', 'server': 'sffe', 'strict-transport-security': 'max-age=31536000', 'vary': 'Accept-Encoding', 'x-content-type-options': 'nosniff', 'x-xss-protection': '0'}\n",
      "  accept-ranges: bytes\n",
      "  alt-svc: h3=\":443\"; ma=2592000,h3-29=\":443\"; ma=2592000\n",
      "  cache-control: no-cache, must-revalidate\n",
      "  content-encoding: gzip\n",
      "  content-security-policy: script-src 'nonce-X4-mJealhGd1d-8mLSFSsw' 'report-sample' 'strict-dynamic' 'unsafe-eval' 'unsafe-inline' http: https:; object-src 'none'; report-uri https://csp.withgoogle.com/csp/uxe-owners-acl/about_google; base-uri 'none'\n",
      "  content-security-policy-report-only: require-trusted-types-for 'script'; report-uri https://csp.withgoogle.com/csp/uxe-owners-acl/about_google\n",
      "  content-type: text/html\n",
      "  cross-origin-opener-policy-report-only: same-origin; report-to=\"uxe-owners-acl/about_google\"\n",
      "  cross-origin-resource-policy: cross-origin\n",
      "  date: Thu, 15 May 2025 18:03:20 GMT\n",
      "  expires: Fri, 01 Jan 1990 00:00:00 GMT\n",
      "  pragma: no-cache\n",
      "  report-to: {\"group\":\"uxe-owners-acl/about_google\",\"max_age\":2592000,\"endpoints\":[{\"url\":\"https://csp.withgoogle.com/csp/report-to/uxe-owners-acl/about_google\"}]}\n",
      "  server: sffe\n",
      "  strict-transport-security: max-age=31536000\n",
      "  vary: Accept-Encoding\n",
      "  x-content-type-options: nosniff\n",
      "  x-xss-protection: 0\n"
     ]
    }
   ],
   "source": [
    "pdf_dict = pdf_response.json()\n",
    "if pdf_dict:\n",
    "    for key, value in pdf_dict.items():\n",
    "        print(f\"{key}: {value}\")\n",
    "        if value:\n",
    "            if isinstance(value, dict):\n",
    "                for sub_key, sub_value in value.items():\n",
    "                    print(f\"  {sub_key}: {sub_value}\")\n",
    "            elif isinstance(value, list):\n",
    "                for item in value:\n",
    "                    print(f\"  - {item}\")\n",
    "            else:\n",
    "                print(f\"  {value}\")"
   ]
  },
  {
   "cell_type": "code",
   "execution_count": 9,
   "id": "047882bb",
   "metadata": {},
   "outputs": [
    {
     "name": "stdout",
     "output_type": "stream",
     "text": [
      "{'lang': 'en', 'author': None, 'title': 'About Google: History, office locations, commitments, initiatives', 'publisher': 'About Google', 'image': {'url': 'https://www.gstatic.com/marketing-cms/assets/images/0b/d4/e6516d32418884386205621ad689/about-companyinfo-hero.jpg=n-w2240-h700-fcrop64=1,2dbc0000d244ffff-rw', 'type': 'webp', 'size': 83778, 'height': 700, 'width': 1439, 'size_pretty': '83.8 kB'}, 'date': '2025-05-15T18:03:20.000Z', 'url': 'https://about.google/company-info/', 'description': 'Learn more about Google&rsquo;s office locations, history and commitments, plus our key initiatives around sustainability, accessibility and more.', 'logo': {'url': 'https://www.gstatic.com/marketing-cms/assets/images/d9/02/e128911b499e9d8de33f9117beee/googleg-standard-color-120dp.png=s180', 'type': 'png', 'size': 7490, 'height': 180, 'width': 180, 'size_pretty': '7.49 kB'}, 'pdf': {'url': 'https://iad.microlink.io/MuHhOo5tZTjSdeBZNcHcus19Mg6Xwl48YzRttOs7PAb_VDg_NBdp2FIMU_pc4Txz6iDIwr_gUld6UMg4nzwAxg.pdf', 'size_pretty': '2.86 MB', 'size': 2856212, 'type': 'pdf'}}\n"
     ]
    }
   ],
   "source": [
    "pdf_data = pdf_dict['data']\n",
    "print(pdf_data)"
   ]
  },
  {
   "cell_type": "code",
   "execution_count": 10,
   "id": "3ce80415",
   "metadata": {},
   "outputs": [
    {
     "name": "stdout",
     "output_type": "stream",
     "text": [
      "{'url': 'https://iad.microlink.io/MuHhOo5tZTjSdeBZNcHcus19Mg6Xwl48YzRttOs7PAb_VDg_NBdp2FIMU_pc4Txz6iDIwr_gUld6UMg4nzwAxg.pdf', 'size_pretty': '2.86 MB', 'size': 2856212, 'type': 'pdf'}\n"
     ]
    }
   ],
   "source": [
    "pdf = pdf_data['pdf']\n",
    "print(pdf)"
   ]
  },
  {
   "cell_type": "code",
   "execution_count": 12,
   "id": "18246ffb",
   "metadata": {},
   "outputs": [
    {
     "name": "stdout",
     "output_type": "stream",
     "text": [
      "Our mission is to organize the world’s\n",
      "information and make it universally\n",
      "accessible and useful\n",
      "Research and technology\n",
      "Our teams are working to solve complex challenges, advance the field of AI and help as many people as possible.Careers Locations\n",
      "Contact us\n"
     ]
    }
   ],
   "source": [
    "#load in pdf\n",
    "import requests\n",
    "import io\n",
    "from PyPDF2 import PdfReader\n",
    "\n",
    "pdf_file_link = pdf['url']\n",
    "response = requests.get(pdf_file_link)\n",
    "pdf_file = io.BytesIO(response.content)\n",
    "reader = PdfReader(pdf_file)\n",
    "\n",
    "# Display the first page of the PDF\n",
    "page = reader.pages[0]\n",
    "print(page.extract_text())"
   ]
  },
  {
   "cell_type": "code",
   "execution_count": 15,
   "id": "0eb745b8",
   "metadata": {},
   "outputs": [],
   "source": [
    "from pdf2image import convert_from_path\n",
    "from PIL import Image\n",
    "images = convert_from_path(pdf_file_link)\n",
    "\n",
    "#get first page\n",
    "first_page = images[0]\n",
    "\n",
    "#show\n",
    "first_page.show()"
   ]
  },
  {
   "cell_type": "code",
   "execution_count": 18,
   "id": "69e9bdcb",
   "metadata": {},
   "outputs": [
    {
     "data": {
      "image/jpeg": "[encoded data removed]",
      "image/png": "[encoded data removed]",
      "text/plain": [
       "<PIL.PpmImagePlugin.PpmImageFile image mode=RGB size=188x244>"
      ]
     },
     "metadata": {},
     "output_type": "display_data"
    }
   ],
   "source": [
    "#show first_page inline in ipynb\n",
    "from IPython.display import display\n",
    "\n",
    "#set display size\n",
    "first_page.thumbnail((244, 244))\n",
    "\n",
    "display(first_page)"
   ]
  },
  {
   "cell_type": "markdown",
   "id": "2da2a6b9",
   "metadata": {},
   "source": [
    "Testing Secrets"
   ]
  },
  {
   "cell_type": "markdown",
   "id": "4b4c8b19",
   "metadata": {},
   "source": [
    "gcloud auth application-default login to set the application default credentials for running locally"
   ]
  },
  {
   "cell_type": "code",
   "execution_count": 11,
   "id": "cad359aa",
   "metadata": {},
   "outputs": [],
   "source": [
    "from src.clients.secrets.secrets import Secret_Manager"
   ]
  },
  {
   "cell_type": "code",
   "execution_count": 12,
   "id": "9d97cd8c",
   "metadata": {},
   "outputs": [
    {
     "name": "stderr",
     "output_type": "stream",
     "text": [
      "c:\\Users\\BrettMusselman\\source\\repos\\public-company-overview\\.venv\\Lib\\site-packages\\google\\auth\\_default.py:76: UserWarning: Your application has authenticated using end user credentials from Google Cloud SDK without a quota project. You might receive a \"quota exceeded\" or \"API not enabled\" error. See the following page for troubleshooting: https://cloud.google.com/docs/authentication/adc-troubleshooting/user-creds. \n",
      "  warnings.warn(_CLOUD_SDK_CREDENTIALS_WARNING)\n"
     ]
    }
   ],
   "source": [
    "project_id = \"public-company-overview\"\n",
    "sec = Secret_Manager(project_id)"
   ]
  },
  {
   "cell_type": "code",
   "execution_count": 13,
   "id": "12af0339",
   "metadata": {},
   "outputs": [],
   "source": [
    "#get secret \"pco-fmp\"\n",
    "fmp_key = sec.get_secret(\"pco-fmp\")"
   ]
  },
  {
   "cell_type": "code",
   "execution_count": 14,
   "id": "6c85bf7a",
   "metadata": {},
   "outputs": [],
   "source": [
    "#get secret \"pco-shodan\"\n",
    "shodan_key = sec.get_secret(\"pco-shodan\")"
   ]
  },
  {
   "cell_type": "markdown",
   "id": "bf14092f",
   "metadata": {},
   "source": [
    "Testing Shodan"
   ]
  },
  {
   "cell_type": "markdown",
   "id": "a45c607b",
   "metadata": {},
   "source": [
    "As a note, this will be done by secret manager with permissions through a service account when in prod."
   ]
  },
  {
   "cell_type": "code",
   "execution_count": 4,
   "id": "8052e734",
   "metadata": {},
   "outputs": [],
   "source": [
    "import logging\n",
    "logger = logging.getLogger(__name__)"
   ]
  },
  {
   "cell_type": "code",
   "execution_count": 5,
   "id": "3e781a9e",
   "metadata": {},
   "outputs": [],
   "source": [
    "from src.clients.shodan.shodan import Shodan_Client"
   ]
  },
  {
   "cell_type": "code",
   "execution_count": 6,
   "id": "e12727aa",
   "metadata": {},
   "outputs": [],
   "source": [
    "sc = Shodan_Client(api_key=shodan_key)"
   ]
  },
  {
   "cell_type": "code",
   "execution_count": 18,
   "id": "63a7d711",
   "metadata": {},
   "outputs": [],
   "source": [
    "all_ent_resp = sc.get_all_entities()"
   ]
  },
  {
   "cell_type": "code",
   "execution_count": 19,
   "id": "09a68676",
   "metadata": {},
   "outputs": [
    {
     "name": "stdout",
     "output_type": "stream",
     "text": [
      "<generator object Shodan_Client.get_all_entities at 0x00000251831679A0>\n"
     ]
    }
   ],
   "source": [
    "print(all_ent_resp)"
   ]
  },
  {
   "cell_type": "code",
   "execution_count": 20,
   "id": "b97a1d53",
   "metadata": {},
   "outputs": [
    {
     "name": "stdout",
     "output_type": "stream",
     "text": [
      "<Response [200]>\n"
     ]
    }
   ],
   "source": [
    "responses = []\n",
    "for obj in all_ent_resp:\n",
    "    print(obj)\n",
    "    responses.append(obj)"
   ]
  },
  {
   "cell_type": "code",
   "execution_count": 21,
   "id": "29a269cf",
   "metadata": {},
   "outputs": [
    {
     "data": {
      "text/plain": [
       "[<Response [200]>]"
      ]
     },
     "execution_count": 21,
     "metadata": {},
     "output_type": "execute_result"
    }
   ],
   "source": [
    "responses"
   ]
  },
  {
   "cell_type": "code",
   "execution_count": null,
   "id": "c5023226",
   "metadata": {},
   "outputs": [],
   "source": [
    "resp = responses[0]\n",
    "print(resp.content)"
   ]
  },
  {
   "cell_type": "code",
   "execution_count": 25,
   "id": "4bcf7e72",
   "metadata": {},
   "outputs": [],
   "source": [
    "shodan_content = responses[0].content"
   ]
  },
  {
   "cell_type": "code",
   "execution_count": 27,
   "id": "d107ea44",
   "metadata": {},
   "outputs": [
    {
     "data": {
      "application/vnd.microsoft.datawrangler.viewer.v0+json": {
       "columns": [
        {
         "name": "index",
         "rawType": "int64",
         "type": "integer"
        },
        {
         "name": "id",
         "rawType": "int64",
         "type": "integer"
        },
        {
         "name": "cik",
         "rawType": "int64",
         "type": "integer"
        },
        {
         "name": "tickers",
         "rawType": "object",
         "type": "unknown"
        },
        {
         "name": "entity_name",
         "rawType": "object",
         "type": "string"
        }
       ],
       "conversionMethod": "pd.DataFrame",
       "ref": "eb81678f-dba0-4830-ba53-d77f4407ad43",
       "rows": [
        [
         "0",
         "1",
         "320193",
         "['AAPL']",
         "Apple Inc."
        ],
        [
         "1",
         "2",
         "789019",
         "['MSFT']",
         "MICROSOFT CORP"
        ],
        [
         "2",
         "3",
         "1652044",
         "['GOOGL', 'GOOG']",
         "Alphabet Inc."
        ],
        [
         "3",
         "4",
         "1018724",
         "['AMZN']",
         "AMAZON COM INC"
        ],
        [
         "4",
         "5",
         "1045810",
         "['NVDA']",
         "NVIDIA CORP"
        ]
       ],
       "shape": {
        "columns": 4,
        "rows": 5
       }
      },
      "text/html": [
       "<div>\n",
       "<style scoped>\n",
       "    .dataframe tbody tr th:only-of-type {\n",
       "        vertical-align: middle;\n",
       "    }\n",
       "\n",
       "    .dataframe tbody tr th {\n",
       "        vertical-align: top;\n",
       "    }\n",
       "\n",
       "    .dataframe thead th {\n",
       "        text-align: right;\n",
       "    }\n",
       "</style>\n",
       "<table border=\"1\" class=\"dataframe\">\n",
       "  <thead>\n",
       "    <tr style=\"text-align: right;\">\n",
       "      <th></th>\n",
       "      <th>id</th>\n",
       "      <th>cik</th>\n",
       "      <th>tickers</th>\n",
       "      <th>entity_name</th>\n",
       "    </tr>\n",
       "  </thead>\n",
       "  <tbody>\n",
       "    <tr>\n",
       "      <th>0</th>\n",
       "      <td>1</td>\n",
       "      <td>320193</td>\n",
       "      <td>[AAPL]</td>\n",
       "      <td>Apple Inc.</td>\n",
       "    </tr>\n",
       "    <tr>\n",
       "      <th>1</th>\n",
       "      <td>2</td>\n",
       "      <td>789019</td>\n",
       "      <td>[MSFT]</td>\n",
       "      <td>MICROSOFT CORP</td>\n",
       "    </tr>\n",
       "    <tr>\n",
       "      <th>2</th>\n",
       "      <td>3</td>\n",
       "      <td>1652044</td>\n",
       "      <td>[GOOGL, GOOG]</td>\n",
       "      <td>Alphabet Inc.</td>\n",
       "    </tr>\n",
       "    <tr>\n",
       "      <th>3</th>\n",
       "      <td>4</td>\n",
       "      <td>1018724</td>\n",
       "      <td>[AMZN]</td>\n",
       "      <td>AMAZON COM INC</td>\n",
       "    </tr>\n",
       "    <tr>\n",
       "      <th>4</th>\n",
       "      <td>5</td>\n",
       "      <td>1045810</td>\n",
       "      <td>[NVDA]</td>\n",
       "      <td>NVIDIA CORP</td>\n",
       "    </tr>\n",
       "  </tbody>\n",
       "</table>\n",
       "</div>"
      ],
      "text/plain": [
       "   id      cik        tickers     entity_name\n",
       "0   1   320193         [AAPL]      Apple Inc.\n",
       "1   2   789019         [MSFT]  MICROSOFT CORP\n",
       "2   3  1652044  [GOOGL, GOOG]   Alphabet Inc.\n",
       "3   4  1018724         [AMZN]  AMAZON COM INC\n",
       "4   5  1045810         [NVDA]     NVIDIA CORP"
      ]
     },
     "execution_count": 27,
     "metadata": {},
     "output_type": "execute_result"
    }
   ],
   "source": [
    "import json\n",
    "shodan_json = json.loads(shodan_content)\n",
    "entities = shodan_json['entities']\n",
    "\n",
    "import pandas as pd\n",
    "entities_df = pd.DataFrame(entities)\n",
    "entities_df.head()"
   ]
  },
  {
   "cell_type": "code",
   "execution_count": 28,
   "id": "5f90425a",
   "metadata": {},
   "outputs": [
    {
     "name": "stdout",
     "output_type": "stream",
     "text": [
      "9564\n"
     ]
    }
   ],
   "source": [
    "print(len(entities_df))"
   ]
  },
  {
   "cell_type": "code",
   "execution_count": null,
   "id": "d31620b2",
   "metadata": {},
   "outputs": [],
   "source": [
    "#use all_entities with 500 limit\n",
    "all_entities_df = sc.all_entities_to_dataframe(limit=500)\n",
    "print(all_entities_df)"
   ]
  },
  {
   "cell_type": "markdown",
   "id": "35d34e74",
   "metadata": {},
   "source": [
    "That didn't get anymore rows so either the limit isn't working or there are only 9564 total entities in the db."
   ]
  },
  {
   "cell_type": "code",
   "execution_count": 31,
   "id": "b71650d7",
   "metadata": {},
   "outputs": [
    {
     "name": "stdout",
     "output_type": "stream",
     "text": [
      "<Response [200]>\n"
     ]
    }
   ],
   "source": [
    "#choose first entity id\n",
    "entity_id = all_entities_df.iloc[0]['id']\n",
    "\n",
    "#get info on entity \n",
    "entity_info = sc.get_entity_from_id(entity_id)\n",
    "print(entity_info)"
   ]
  },
  {
   "cell_type": "code",
   "execution_count": 32,
   "id": "464f4bb4",
   "metadata": {},
   "outputs": [
    {
     "name": "stdout",
     "output_type": "stream",
     "text": [
      "b'{\"finance_data\":[],\"entity\":{\"id\":1,\"cik\":320193,\"tickers\":[\"AAPL\"],\"entity_name\":\"Apple Inc.\",\"hostname\":\"www.apple.com\",\"entity_type\":\"operating\",\"sic\":\"3571\",\"sic_description\":\"Electronic Computers\",\"exchanges\":[\"NASDAQ\"],\"ein\":\"94-2404110\",\"fiscal_year_end\":\"September 27\",\"mail_address\":\"ONE APPLE PARK WAY, CUPERTINO, CA, 95014, CA\",\"business_address\":\"ONE APPLE PARK WAY, CUPERTINO, CA, 95014, CA\",\"phone\":\"(408) 996-1010\",\"updated_at\":\"2025-03-01 02:07:17\",\"asn_list\":[6185,714,1036,1042,2709,31128,63707],\"asns\":[{\"asn\":6185,\"as_name\":null,\"description\":null,\"status\":null,\"organization\":null,\"maintained_by\":null,\"notify\":[],\"country\":null,\"source\":null,\"route_views\":[{\"asn\":6185,\"prefix\":\"17.253.0.0/20\",\"as_set\":[],\"number_ips\":4096,\"summary\":\"17.253.0.0/20 (4096 IPs)\"},{\"asn\":6185,\"prefix\":\"17.253.16.0/23\",\"as_set\":[],\"number_ips\":512,\"summary\":\"17.253.16.0/23 (512 IPs)\"},{\"asn\":6185,\"prefix\":\"17.253.18.0/24\",\"as_set\":[],\"number_ips\":256,\"summary\":\"17.253.18.0/24 (256 IPs)\"},{\"asn\":6185,\"prefix\":\"17.253.20.0/22\",\"as_set\":[],\"number_ips\":1024,\"summary\":\"17.253.20.0/22 (1024 IPs)\"},{\"asn\":6185,\"prefix\":\"17.253.24.0/24\",\"as_set\":[],\"number_ips\":256,\"summary\":\"17.253.24.0/24 (256 IPs)\"},{\"asn\":6185,\"prefix\":\"17.253.26.0/23\",\"as_set\":[],\"number_ips\":512,\"summary\":\"17.253.26.0/23 (512 IPs)\"},{\"asn\":6185,\"prefix\":\"17.253.28.0/22\",\"as_set\":[],\"number_ips\":1024,\"summary\":\"17.253.28.0/22 (1024 IPs)\"},{\"asn\":6185,\"prefix\":\"17.253.32.0/23\",\"as_set\":[],\"number_ips\":512,\"summary\":\"17.253.32.0/23 (512 IPs)\"},{\"asn\":6185,\"prefix\":\"17.253.34.0/24\",\"as_set\":[],\"number_ips\":256,\"summary\":\"17.253.34.0/24 (256 IPs)\"},{\"asn\":6185,\"prefix\":\"17.253.36.0/22\",\"as_set\":[],\"number_ips\":1024,\"summary\":\"17.253.36.0/22 (1024 IPs)\"},{\"asn\":6185,\"prefix\":\"17.253.42.0/23\",\"as_set\":[],\"number_ips\":512,\"summary\":\"17.253.42.0/23 (512 IPs)\"},{\"asn\":6185,\"prefix\":\"17.253.44.0/22\",\"as_set\":[],\"number_ips\":1024,\"summary\":\"17.253.44.0/22 (1024 IPs)\"},{\"asn\":6185,\"prefix\":\"17.253.48.0/22\",\"as_set\":[],\"number_ips\":1024,\"summary\":\"17.253.48.0/22 (1024 IPs)\"},{\"asn\":6185,\"prefix\":\"17.253.52.0/23\",\"as_set\":[],\"number_ips\":512,\"summary\":\"17.253.52.0/23 (512 IPs)\"},{\"asn\":6185,\"prefix\":\"17.253.54.0/24\",\"as_set\":[],\"number_ips\":256,\"summary\":\"17.253.54.0/24 (256 IPs)\"},{\"asn\":6185,\"prefix\":\"17.253.56.0/21\",\"as_set\":[],\"number_ips\":2048,\"summary\":\"17.253.56.0/21 (2048 IPs)\"},{\"asn\":6185,\"prefix\":\"17.253.64.0/22\",\"as_set\":[],\"number_ips\":1024,\"summary\":\"17.253.64.0/22 (1024 IPs)\"},{\"asn\":6185,\"prefix\":\"17.253.68.0/23\",\"as_set\":[],\"number_ips\":512,\"summary\":\"17.253.68.0/23 (512 IPs)\"},{\"asn\":6185,\"prefix\":\"17.253.72.0/21\",\"as_set\":[],\"number_ips\":2048,\"summary\":\"17.253.72.0/21 (2048 IPs)\"},{\"asn\":6185,\"prefix\":\"17.253.80.0/21\",\"as_set\":[],\"number_ips\":2048,\"summary\":\"17.253.80.0/21 (2048 IPs)\"},{\"asn\":6185,\"prefix\":\"17.253.90.0/23\",\"as_set\":[],\"number_ips\":512,\"summary\":\"17.253.90.0/23 (512 IPs)\"},{\"asn\":6185,\"prefix\":\"17.253.92.0/22\",\"as_set\":[],\"number_ips\":1024,\"summary\":\"17.253.92.0/22 (1024 IPs)\"},{\"asn\":6185,\"prefix\":\"17.253.96.0/20\",\"as_set\":[],\"number_ips\":4096,\"summary\":\"17.253.96.0/20 (4096 IPs)\"},{\"asn\":6185,\"prefix\":\"17.253.112.0/21\",\"as_set\":[],\"number_ips\":2048,\"summary\":\"17.253.112.0/21 (2048 IPs)\"},{\"asn\":6185,\"prefix\":\"17.253.120.0/23\",\"as_set\":[],\"number_ips\":512,\"summary\":\"17.253.120.0/23 (512 IPs)\"},{\"asn\":6185,\"prefix\":\"17.253.122.0/24\",\"as_set\":[],\"number_ips\":256,\"summary\":\"17.253.122.0/24 (256 IPs)\"},{\"asn\":6185,\"prefix\":\"17.253.124.0/22\",\"as_set\":[],\"number_ips\":1024,\"summary\":\"17.253.124.0/22 (1024 IPs)\"},{\"asn\":6185,\"prefix\":\"139.178.159.0/24\",\"as_set\":[],\"number_ips\":256,\"summary\":\"139.178.159.0/24 (256 IPs)\"},{\"asn\":6185,\"prefix\":\"2403:300:a04::/47\",\"as_set\":[],\"number_ips\":2417851639229258349412352,\"summary\":\"2403:300:a04::/47 (2417851639229258349412352 IPs)\"},{\"asn\":6185,\"prefix\":\"2403:300:a08::/48\",\"as_set\":[],\"number_ips\":1208925819614629174706176,\"summary\":\"2403:300:a08::/48 (1208925819614629174706176 IPs)\"},{\"asn\":6185,\"prefix\":\"2403:300:a0a::/48\",\"as_set\":[],\"number_ips\":1208925819614629174706176,\"summary\":\"2403:300:a0a::/48 (1208925819614629174706176 IPs)\"},{\"asn\":6185,\"prefix\":\"2403:300:a0c::/48\",\"as_set\":[],\"number_ips\":1208925819614629174706176,\"summary\":\"2403:300:a0c::/48 (1208925819614629174706176 IPs)\"},{\"asn\":6185,\"prefix\":\"2403:300:a14::/48\",\"as_set\":[],\"number_ips\":1208925819614629174706176,\"summary\":\"2403:300:a14::/48 (1208925819614629174706176 IPs)\"},{\"asn\":6185,\"prefix\":\"2403:300:a16::/48\",\"as_set\":[],\"number_ips\":1208925819614629174706176,\"summary\":\"2403:300:a16::/48 (1208925819614629174706176 IPs)\"},{\"asn\":6185,\"prefix\":\"2403:300:a26::/48\",\"as_set\":[],\"number_ips\":1208925819614629174706176,\"summary\":\"2403:300:a26::/48 (1208925819614629174706176 IPs)\"},{\"asn\":6185,\"prefix\":\"2403:300:a30::/48\",\"as_set\":[],\"number_ips\":1208925819614629174706176,\"summary\":\"2403:300:a30::/48 (1208925819614629174706176 IPs)\"},{\"asn\":6185,\"prefix\":\"2403:300:a32::/47\",\"as_set\":[],\"number_ips\":2417851639229258349412352,\"summary\":\"2403:300:a32::/47 (2417851639229258349412352 IPs)\"},{\"asn\":6185,\"prefix\":\"2403:300:1500::/42\",\"as_set\":[],\"number_ips\":77371252455336267181195264,\"summary\":\"2403:300:1500::/42 (77371252455336267181195264 IPs)\"},{\"asn\":6185,\"prefix\":\"2620:149:a00::/48\",\"as_set\":[],\"number_ips\":1208925819614629174706176,\"summary\":\"2620:149:a00::/48 (1208925819614629174706176 IPs)\"},{\"asn\":6185,\"prefix\":\"2620:149:a06::/48\",\"as_set\":[],\"number_ips\":1208925819614629174706176,\"summary\":\"2620:149:a06::/48 (1208925819614629174706176 IPs)\"},{\"asn\":6185,\"prefix\":\"2620:149:a08::/47\",\"as_set\":[],\"number_ips\":2417851639229258349412352,\"summary\":\"2620:149:a08::/47 (2417851639229258349412352 IPs)\"},{\"asn\":6185,\"prefix\":\"2620:149:a0a::/48\",\"as_set\":[],\"number_ips\":1208925819614629174706176,\"summary\":\"2620:149:a0a::/48 (1208925819614629174706176 IPs)\"},{\"asn\":6185,\"prefix\":\"2620:149:a0c::/46\",\"as_set\":[],\"number_ips\":4835703278458516698824704,\"summary\":\"2620:149:a0c::/46 (4835703278458516698824704 IPs)\"},{\"asn\":6185,\"prefix\":\"2620:149:a10::/48\",\"as_set\":[],\"number_ips\":1208925819614629174706176,\"summary\":\"2620:149:a10::/48 (1208925819614629174706176 IPs)\"},{\"asn\":6185,\"prefix\":\"2620:149:a12::/48\",\"as_set\":[],\"number_ips\":1208925819614629174706176,\"summary\":\"2620:149:a12::/48 (1208925819614629174706176 IPs)\"},{\"asn\":6185,\"prefix\":\"2620:149:a14::/47\",\"as_set\":[],\"number_ips\":2417851639229258349412352,\"summary\":\"2620:149:a14::/47 (2417851639229258349412352 IPs)\"},{\"asn\":6185,\"prefix\":\"2620:149:a16::/48\",\"as_set\":[],\"number_ips\":1208925819614629174706176,\"summary\":\"2620:149:a16::/48 (1208925819614629174706176 IPs)\"},{\"asn\":6185,\"prefix\":\"2620:149:a18::/48\",\"as_set\":[],\"number_ips\":1208925819614629174706176,\"summary\":\"2620:149:a18::/48 (1208925819614629174706176 IPs)\"},{\"asn\":6185,\"prefix\":\"2620:149:a1a::/48\",\"as_set\":[],\"number_ips\":1208925819614629174706176,\"summary\":\"2620:149:a1a::/48 (1208925819614629174706176 IPs)\"},{\"asn\":6185,\"prefix\":\"2620:149:a1c::/48\",\"as_set\":[],\"number_ips\":1208925819614629174706176,\"summary\":\"2620:149:a1c::/48 (1208925819614629174706176 IPs)\"},{\"asn\":6185,\"prefix\":\"2620:149:a1e::/48\",\"as_set\":[],\"number_ips\":1208925819614629174706176,\"summary\":\"2620:149:a1e::/48 (1208925819614629174706176 IPs)\"},{\"asn\":6185,\"prefix\":\"2620:149:a21::/48\",\"as_set\":[],\"number_ips\":1208925819614629174706176,\"summary\":\"2620:149:a21::/48 (1208925819614629174706176 IPs)\"},{\"asn\":6185,\"prefix\":\"2620:149:a22::/47\",\"as_set\":[],\"number_ips\":2417851639229258349412352,\"summary\":\"2620:149:a22::/47 (2417851639229258349412352 IPs)\"},{\"asn\":6185,\"prefix\":\"2620:149:a25::/48\",\"as_set\":[],\"number_ips\":1208925819614629174706176,\"summary\":\"2620:149:a25::/48 (1208925819614629174706176 IPs)\"},{\"asn\":6185,\"prefix\":\"2620:149:a28::/47\",\"as_set\":[],\"number_ips\":2417851639229258349412352,\"summary\":\"2620:149:a28::/47 (2417851639229258349412352 IPs)\"},{\"asn\":6185,\"prefix\":\"2620:149:a31::/48\",\"as_set\":[],\"number_ips\":1208925819614629174706176,\"summary\":\"2620:149:a31::/48 (1208925819614629174706176 IPs)\"},{\"asn\":6185,\"prefix\":\"2620:149:a32::/47\",\"as_set\":[],\"number_ips\":2417851639229258349412352,\"summary\":\"2620:149:a32::/47 (2417851639229258349412352 IPs)\"},{\"asn\":6185,\"prefix\":\"2620:149:ae1::/48\",\"as_set\":[],\"number_ips\":1208925819614629174706176,\"summary\":\"2620:149:ae1::/48 (1208925819614629174706176 IPs)\"},{\"asn\":6185,\"prefix\":\"2620:149:ae6::/48\",\"as_set\":[],\"number_ips\":1208925819614629174706176,\"summary\":\"2620:149:ae6::/48 (1208925819614629174706176 IPs)\"},{\"asn\":6185,\"prefix\":\"2a01:b740:a00::/48\",\"as_set\":[],\"number_ips\":1208925819614629174706176,\"summary\":\"2a01:b740:a00::/48 (1208925819614629174706176 IPs)\"},{\"asn\":6185,\"prefix\":\"2a01:b740:a02::/48\",\"as_set\":[],\"number_ips\":1208925819614629174706176,\"summary\":\"2a01:b740:a02::/48 (1208925819614629174706176 IPs)\"},{\"asn\":6185,\"prefix\":\"2a01:b740:a06::/48\",\"as_set\":[],\"number_ips\":1208925819614629174706176,\"summary\":\"2a01:b740:a06::/48 (1208925819614629174706176 IPs)\"},{\"asn\":6185,\"prefix\":\"2a01:b740:a08::/48\",\"as_set\":[],\"number_ips\":1208925819614629174706176,\"summary\":\"2a01:b740:a08::/48 (1208925819614629174706176 IPs)\"},{\"asn\":6185,\"prefix\":\"2a01:b740:a0a::/48\",\"as_set\":[],\"number_ips\":1208925819614629174706176,\"summary\":\"2a01:b740:a0a::/48 (1208925819614629174706176 IPs)\"},{\"asn\":6185,\"prefix\":\"2a01:b740:a10::/47\",\"as_set\":[],\"number_ips\":2417851639229258349412352,\"summary\":\"2a01:b740:a10::/47 (2417851639229258349412352 IPs)\"},{\"asn\":6185,\"prefix\":\"2a01:b740:a14::/48\",\"as_set\":[],\"number_ips\":1208925819614629174706176,\"summary\":\"2a01:b740:a14::/48 (1208925819614629174706176 IPs)\"},{\"asn\":6185,\"prefix\":\"2a01:b740:a16::/48\",\"as_set\":[],\"number_ips\":1208925819614629174706176,\"summary\":\"2a01:b740:a16::/48 (1208925819614629174706176 IPs)\"},{\"asn\":6185,\"prefix\":\"2a01:b740:a18::/48\",\"as_set\":[],\"number_ips\":1208925819614629174706176,\"summary\":\"2a01:b740:a18::/48 (1208925819614629174706176 IPs)\"},{\"asn\":6185,\"prefix\":\"2a01:b740:a1a::/48\",\"as_set\":[],\"number_ips\":1208925819614629174706176,\"summary\":\"2a01:b740:a1a::/48 (1208925819614629174706176 IPs)\"},{\"asn\":6185,\"prefix\":\"2a01:b740:a1c::/48\",\"as_set\":[],\"number_ips\":1208925819614629174706176,\"summary\":\"2a01:b740:a1c::/48 (1208925819614629174706176 IPs)\"},{\"asn\":6185,\"prefix\":\"2a01:b740:a1e::/48\",\"as_set\":[],\"number_ips\":1208925819614629174706176,\"summary\":\"2a01:b740:a1e::/48 (1208925819614629174706176 IPs)\"},{\"asn\":6185,\"prefix\":\"2a01:b740:a20::/48\",\"as_set\":[],\"number_ips\":1208925819614629174706176,\"summary\":\"2a01:b740:a20::/48 (1208925819614629174706176 IPs)\"},{\"asn\":6185,\"prefix\":\"2a01:b740:a22::/48\",\"as_set\":[],\"number_ips\":1208925819614629174706176,\"summary\":\"2a01:b740:a22::/48 (1208925819614629174706176 IPs)\"},{\"asn\":6185,\"prefix\":\"2a01:b740:a24::/48\",\"as_set\":[],\"number_ips\":1208925819614629174706176,\"summary\":\"2a01:b740:a24::/48 (1208925819614629174706176 IPs)\"},{\"asn\":6185,\"prefix\":\"2a01:b740:a26::/48\",\"as_set\":[],\"number_ips\":1208925819614629174706176,\"summary\":\"2a01:b740:a26::/48 (1208925819614629174706176 IPs)\"},{\"asn\":6185,\"prefix\":\"2a01:b740:a30::/48\",\"as_set\":[],\"number_ips\":1208925819614629174706176,\"summary\":\"2a01:b740:a30::/48 (1208925819614629174706176 IPs)\"}]},{\"asn\":714,\"as_name\":null,\"description\":null,\"status\":null,\"organization\":null,\"maintained_by\":null,\"notify\":[],\"country\":null,\"source\":null,\"route_views\":[{\"asn\":714,\"prefix\":\"17.0.0.0/8\",\"as_set\":[],\"number_ips\":16777216,\"summary\":\"17.0.0.0/8 (16777216 IPs)\"},{\"asn\":714,\"prefix\":\"57.102.0.0/15\",\"as_set\":[],\"number_ips\":131072,\"summary\":\"57.102.0.0/15 (131072 IPs)\"},{\"asn\":714,\"prefix\":\"57.112.0.0/12\",\"as_set\":[],\"number_ips\":1048576,\"summary\":\"57.112.0.0/12 (1048576 IPs)\"},{\"asn\":714,\"prefix\":\"65.199.22.0/23\",\"as_set\":[],\"number_ips\":512,\"summary\":\"65.199.22.0/23 (512 IPs)\"},{\"asn\":714,\"prefix\":\"139.178.128.0/18\",\"as_set\":[],\"number_ips\":16384,\"summary\":\"139.178.128.0/18 (16384 IPs)\"},{\"asn\":714,\"prefix\":\"144.178.0.0/18\",\"as_set\":[],\"number_ips\":16384,\"summary\":\"144.178.0.0/18 (16384 IPs)\"},{\"asn\":714,\"prefix\":\"2403:300::/32\",\"as_set\":[],\"number_ips\":79228162514264337593543950336,\"summary\":\"2403:300::/32 (79228162514264337593543950336 IPs)\"},{\"asn\":714,\"prefix\":\"2620:0:1b00::/48\",\"as_set\":[],\"number_ips\":1208925819614629174706176,\"summary\":\"2620:0:1b00::/48 (1208925819614629174706176 IPs)\"},{\"asn\":714,\"prefix\":\"2620:149::/32\",\"as_set\":[],\"number_ips\":79228162514264337593543950336,\"summary\":\"2620:149::/32 (79228162514264337593543950336 IPs)\"},{\"asn\":714,\"prefix\":\"2a01:b740::/32\",\"as_set\":[],\"number_ips\":79228162514264337593543950336,\"summary\":\"2a01:b740::/32 (79228162514264337593543950336 IPs)\"},{\"asn\":714,\"prefix\":\"2a01:b747::/32\",\"as_set\":[],\"number_ips\":79228162514264337593543950336,\"summary\":\"2a01:b747::/32 (79228162514264337593543950336 IPs)\"}]},{\"asn\":1036,\"as_name\":null,\"description\":null,\"status\":null,\"organization\":null,\"maintained_by\":null,\"notify\":[],\"country\":null,\"source\":null,\"route_views\":[]},{\"asn\":1042,\"as_name\":null,\"description\":null,\"status\":null,\"organization\":null,\"maintained_by\":null,\"notify\":[],\"country\":null,\"source\":null,\"route_views\":[]},{\"asn\":2709,\"as_name\":null,\"description\":null,\"status\":null,\"organization\":null,\"maintained_by\":null,\"notify\":[],\"country\":null,\"source\":null,\"route_views\":[]},{\"asn\":31128,\"as_name\":\"SHAZAM-AS\",\"description\":null,\"status\":\"ASSIGNED\",\"organization\":null,\"maintained_by\":\"RIPE-NCC-END-MNT CC72744-MNT\",\"notify\":[],\"country\":null,\"source\":\"ripe\",\"route_views\":[{\"asn\":31128,\"prefix\":\"139.178.192.0/23\",\"as_set\":[],\"number_ips\":512,\"summary\":\"139.178.192.0/23 (512 IPs)\"},{\"asn\":31128,\"prefix\":\"2001:43f8:1700::/47\",\"as_set\":[],\"number_ips\":2417851639229258349412352,\"summary\":\"2001:43f8:1700::/47 (2417851639229258349412352 IPs)\"},{\"asn\":31128,\"prefix\":\"2a01:b746:100::/47\",\"as_set\":[],\"number_ips\":2417851639229258349412352,\"summary\":\"2a01:b746:100::/47 (2417851639229258349412352 IPs)\"}]},{\"asn\":63707,\"as_name\":\"APPLE-CN\",\"description\":\"Apple Computer Trading (Shanghai) Co. Ltd. No 391, Yuanshen Road, Pu Dong District, Building A, B & C,Shanghai, China 200135\",\"status\":null,\"organization\":null,\"maintained_by\":\"MAINT-CNNIC-AP\",\"notify\":[],\"country\":\"CN\",\"source\":\"apnic\",\"route_views\":[]}],\"extra_info\":{\"alias\":[\"APPLE INC\",\"Apple Computer Trading (Shanghai) Co. Ltd.\",\"APPLE DISTRIBUTION INTERNATIONAL LTD.\",\"Apple Inc.\"],\"domain\":[\"apple.com\",\"itunes.com\"]}},\"executives\":[]}'\n"
     ]
    }
   ],
   "source": [
    "print(entity_info.content)"
   ]
  },
  {
   "cell_type": "code",
   "execution_count": 34,
   "id": "4d1f58b6",
   "metadata": {},
   "outputs": [
    {
     "name": "stdout",
     "output_type": "stream",
     "text": [
      "<Response [200]>\n"
     ]
    }
   ],
   "source": [
    "#use the ticker APPL with get_entity_from_ticker\n",
    "ticker = \"AAPL\"\n",
    "entity_info_ticker = sc.get_entity_from_symbol(ticker)\n",
    "print(entity_info_ticker)"
   ]
  },
  {
   "cell_type": "code",
   "execution_count": null,
   "id": "19feaa83",
   "metadata": {},
   "outputs": [],
   "source": [
    "print(entity_info_ticker.content)"
   ]
  },
  {
   "cell_type": "code",
   "execution_count": null,
   "id": "f20c539b",
   "metadata": {},
   "outputs": [
    {
     "name": "stdout",
     "output_type": "stream",
     "text": [
      "{'id': 1, 'cik': 320193, 'tickers': ['AAPL'], 'entity_name': 'Apple Inc.', 'hostname': 'www.apple.com', 'entity_type': 'operating', 'sic': '3571', 'sic_description': 'Electronic Computers', 'exchanges': ['NASDAQ'], 'ein': '94-2404110', 'fiscal_year_end': 'September 27', 'mail_address': 'ONE APPLE PARK WAY, CUPERTINO, CA, 95014, CA', 'business_address': 'ONE APPLE PARK WAY, CUPERTINO, CA, 95014, CA', 'phone': '(408) 996-1010', 'updated_at': '2025-03-01 02:07:17', 'asn_list': [6185, 714, 1036, 1042, 2709, 31128, 63707], 'asns': [{'asn': 6185, 'as_name': None, 'description': None, 'status': None, 'organization': None, 'maintained_by': None, 'notify': [], 'country': None, 'source': None, 'route_views': [{'asn': 6185, 'prefix': '17.253.0.0/20', 'as_set': [], 'number_ips': 4096, 'summary': '17.253.0.0/20 (4096 IPs)'}, {'asn': 6185, 'prefix': '17.253.16.0/23', 'as_set': [], 'number_ips': 512, 'summary': '17.253.16.0/23 (512 IPs)'}, {'asn': 6185, 'prefix': '17.253.18.0/24', 'as_set': [], 'number_ips': 256, 'summary': '17.253.18.0/24 (256 IPs)'}, {'asn': 6185, 'prefix': '17.253.20.0/22', 'as_set': [], 'number_ips': 1024, 'summary': '17.253.20.0/22 (1024 IPs)'}, {'asn': 6185, 'prefix': '17.253.24.0/24', 'as_set': [], 'number_ips': 256, 'summary': '17.253.24.0/24 (256 IPs)'}, {'asn': 6185, 'prefix': '17.253.26.0/23', 'as_set': [], 'number_ips': 512, 'summary': '17.253.26.0/23 (512 IPs)'}, {'asn': 6185, 'prefix': '17.253.28.0/22', 'as_set': [], 'number_ips': 1024, 'summary': '17.253.28.0/22 (1024 IPs)'}, {'asn': 6185, 'prefix': '17.253.32.0/23', 'as_set': [], 'number_ips': 512, 'summary': '17.253.32.0/23 (512 IPs)'}, {'asn': 6185, 'prefix': '17.253.34.0/24', 'as_set': [], 'number_ips': 256, 'summary': '17.253.34.0/24 (256 IPs)'}, {'asn': 6185, 'prefix': '17.253.36.0/22', 'as_set': [], 'number_ips': 1024, 'summary': '17.253.36.0/22 (1024 IPs)'}, {'asn': 6185, 'prefix': '17.253.42.0/23', 'as_set': [], 'number_ips': 512, 'summary': '17.253.42.0/23 (512 IPs)'}, {'asn': 6185, 'prefix': '17.253.44.0/22', 'as_set': [], 'number_ips': 1024, 'summary': '17.253.44.0/22 (1024 IPs)'}, {'asn': 6185, 'prefix': '17.253.48.0/22', 'as_set': [], 'number_ips': 1024, 'summary': '17.253.48.0/22 (1024 IPs)'}, {'asn': 6185, 'prefix': '17.253.52.0/23', 'as_set': [], 'number_ips': 512, 'summary': '17.253.52.0/23 (512 IPs)'}, {'asn': 6185, 'prefix': '17.253.54.0/24', 'as_set': [], 'number_ips': 256, 'summary': '17.253.54.0/24 (256 IPs)'}, {'asn': 6185, 'prefix': '17.253.56.0/21', 'as_set': [], 'number_ips': 2048, 'summary': '17.253.56.0/21 (2048 IPs)'}, {'asn': 6185, 'prefix': '17.253.64.0/22', 'as_set': [], 'number_ips': 1024, 'summary': '17.253.64.0/22 (1024 IPs)'}, {'asn': 6185, 'prefix': '17.253.68.0/23', 'as_set': [], 'number_ips': 512, 'summary': '17.253.68.0/23 (512 IPs)'}, {'asn': 6185, 'prefix': '17.253.72.0/21', 'as_set': [], 'number_ips': 2048, 'summary': '17.253.72.0/21 (2048 IPs)'}, {'asn': 6185, 'prefix': '17.253.80.0/21', 'as_set': [], 'number_ips': 2048, 'summary': '17.253.80.0/21 (2048 IPs)'}, {'asn': 6185, 'prefix': '17.253.90.0/23', 'as_set': [], 'number_ips': 512, 'summary': '17.253.90.0/23 (512 IPs)'}, {'asn': 6185, 'prefix': '17.253.92.0/22', 'as_set': [], 'number_ips': 1024, 'summary': '17.253.92.0/22 (1024 IPs)'}, {'asn': 6185, 'prefix': '17.253.96.0/20', 'as_set': [], 'number_ips': 4096, 'summary': '17.253.96.0/20 (4096 IPs)'}, {'asn': 6185, 'prefix': '17.253.112.0/21', 'as_set': [], 'number_ips': 2048, 'summary': '17.253.112.0/21 (2048 IPs)'}, {'asn': 6185, 'prefix': '17.253.120.0/23', 'as_set': [], 'number_ips': 512, 'summary': '17.253.120.0/23 (512 IPs)'}, {'asn': 6185, 'prefix': '17.253.122.0/24', 'as_set': [], 'number_ips': 256, 'summary': '17.253.122.0/24 (256 IPs)'}, {'asn': 6185, 'prefix': '17.253.124.0/22', 'as_set': [], 'number_ips': 1024, 'summary': '17.253.124.0/22 (1024 IPs)'}, {'asn': 6185, 'prefix': '139.178.159.0/24', 'as_set': [], 'number_ips': 256, 'summary': '139.178.159.0/24 (256 IPs)'}, {'asn': 6185, 'prefix': '2403:300:a04::/47', 'as_set': [], 'number_ips': 2417851639229258349412352, 'summary': '2403:300:a04::/47 (2417851639229258349412352 IPs)'}, {'asn': 6185, 'prefix': '2403:300:a08::/48', 'as_set': [], 'number_ips': 1208925819614629174706176, 'summary': '2403:300:a08::/48 (1208925819614629174706176 IPs)'}, {'asn': 6185, 'prefix': '2403:300:a0a::/48', 'as_set': [], 'number_ips': 1208925819614629174706176, 'summary': '2403:300:a0a::/48 (1208925819614629174706176 IPs)'}, {'asn': 6185, 'prefix': '2403:300:a0c::/48', 'as_set': [], 'number_ips': 1208925819614629174706176, 'summary': '2403:300:a0c::/48 (1208925819614629174706176 IPs)'}, {'asn': 6185, 'prefix': '2403:300:a14::/48', 'as_set': [], 'number_ips': 1208925819614629174706176, 'summary': '2403:300:a14::/48 (1208925819614629174706176 IPs)'}, {'asn': 6185, 'prefix': '2403:300:a16::/48', 'as_set': [], 'number_ips': 1208925819614629174706176, 'summary': '2403:300:a16::/48 (1208925819614629174706176 IPs)'}, {'asn': 6185, 'prefix': '2403:300:a26::/48', 'as_set': [], 'number_ips': 1208925819614629174706176, 'summary': '2403:300:a26::/48 (1208925819614629174706176 IPs)'}, {'asn': 6185, 'prefix': '2403:300:a30::/48', 'as_set': [], 'number_ips': 1208925819614629174706176, 'summary': '2403:300:a30::/48 (1208925819614629174706176 IPs)'}, {'asn': 6185, 'prefix': '2403:300:a32::/47', 'as_set': [], 'number_ips': 2417851639229258349412352, 'summary': '2403:300:a32::/47 (2417851639229258349412352 IPs)'}, {'asn': 6185, 'prefix': '2403:300:1500::/42', 'as_set': [], 'number_ips': 77371252455336267181195264, 'summary': '2403:300:1500::/42 (77371252455336267181195264 IPs)'}, {'asn': 6185, 'prefix': '2620:149:a00::/48', 'as_set': [], 'number_ips': 1208925819614629174706176, 'summary': '2620:149:a00::/48 (1208925819614629174706176 IPs)'}, {'asn': 6185, 'prefix': '2620:149:a06::/48', 'as_set': [], 'number_ips': 1208925819614629174706176, 'summary': '2620:149:a06::/48 (1208925819614629174706176 IPs)'}, {'asn': 6185, 'prefix': '2620:149:a08::/47', 'as_set': [], 'number_ips': 2417851639229258349412352, 'summary': '2620:149:a08::/47 (2417851639229258349412352 IPs)'}, {'asn': 6185, 'prefix': '2620:149:a0a::/48', 'as_set': [], 'number_ips': 1208925819614629174706176, 'summary': '2620:149:a0a::/48 (1208925819614629174706176 IPs)'}, {'asn': 6185, 'prefix': '2620:149:a0c::/46', 'as_set': [], 'number_ips': 4835703278458516698824704, 'summary': '2620:149:a0c::/46 (4835703278458516698824704 IPs)'}, {'asn': 6185, 'prefix': '2620:149:a10::/48', 'as_set': [], 'number_ips': 1208925819614629174706176, 'summary': '2620:149:a10::/48 (1208925819614629174706176 IPs)'}, {'asn': 6185, 'prefix': '2620:149:a12::/48', 'as_set': [], 'number_ips': 1208925819614629174706176, 'summary': '2620:149:a12::/48 (1208925819614629174706176 IPs)'}, {'asn': 6185, 'prefix': '2620:149:a14::/47', 'as_set': [], 'number_ips': 2417851639229258349412352, 'summary': '2620:149:a14::/47 (2417851639229258349412352 IPs)'}, {'asn': 6185, 'prefix': '2620:149:a16::/48', 'as_set': [], 'number_ips': 1208925819614629174706176, 'summary': '2620:149:a16::/48 (1208925819614629174706176 IPs)'}, {'asn': 6185, 'prefix': '2620:149:a18::/48', 'as_set': [], 'number_ips': 1208925819614629174706176, 'summary': '2620:149:a18::/48 (1208925819614629174706176 IPs)'}, {'asn': 6185, 'prefix': '2620:149:a1a::/48', 'as_set': [], 'number_ips': 1208925819614629174706176, 'summary': '2620:149:a1a::/48 (1208925819614629174706176 IPs)'}, {'asn': 6185, 'prefix': '2620:149:a1c::/48', 'as_set': [], 'number_ips': 1208925819614629174706176, 'summary': '2620:149:a1c::/48 (1208925819614629174706176 IPs)'}, {'asn': 6185, 'prefix': '2620:149:a1e::/48', 'as_set': [], 'number_ips': 1208925819614629174706176, 'summary': '2620:149:a1e::/48 (1208925819614629174706176 IPs)'}, {'asn': 6185, 'prefix': '2620:149:a21::/48', 'as_set': [], 'number_ips': 1208925819614629174706176, 'summary': '2620:149:a21::/48 (1208925819614629174706176 IPs)'}, {'asn': 6185, 'prefix': '2620:149:a22::/47', 'as_set': [], 'number_ips': 2417851639229258349412352, 'summary': '2620:149:a22::/47 (2417851639229258349412352 IPs)'}, {'asn': 6185, 'prefix': '2620:149:a25::/48', 'as_set': [], 'number_ips': 1208925819614629174706176, 'summary': '2620:149:a25::/48 (1208925819614629174706176 IPs)'}, {'asn': 6185, 'prefix': '2620:149:a28::/47', 'as_set': [], 'number_ips': 2417851639229258349412352, 'summary': '2620:149:a28::/47 (2417851639229258349412352 IPs)'}, {'asn': 6185, 'prefix': '2620:149:a31::/48', 'as_set': [], 'number_ips': 1208925819614629174706176, 'summary': '2620:149:a31::/48 (1208925819614629174706176 IPs)'}, {'asn': 6185, 'prefix': '2620:149:a32::/47', 'as_set': [], 'number_ips': 2417851639229258349412352, 'summary': '2620:149:a32::/47 (2417851639229258349412352 IPs)'}, {'asn': 6185, 'prefix': '2620:149:ae1::/48', 'as_set': [], 'number_ips': 1208925819614629174706176, 'summary': '2620:149:ae1::/48 (1208925819614629174706176 IPs)'}, {'asn': 6185, 'prefix': '2620:149:ae6::/48', 'as_set': [], 'number_ips': 1208925819614629174706176, 'summary': '2620:149:ae6::/48 (1208925819614629174706176 IPs)'}, {'asn': 6185, 'prefix': '2a01:b740:a00::/48', 'as_set': [], 'number_ips': 1208925819614629174706176, 'summary': '2a01:b740:a00::/48 (1208925819614629174706176 IPs)'}, {'asn': 6185, 'prefix': '2a01:b740:a02::/48', 'as_set': [], 'number_ips': 1208925819614629174706176, 'summary': '2a01:b740:a02::/48 (1208925819614629174706176 IPs)'}, {'asn': 6185, 'prefix': '2a01:b740:a06::/48', 'as_set': [], 'number_ips': 1208925819614629174706176, 'summary': '2a01:b740:a06::/48 (1208925819614629174706176 IPs)'}, {'asn': 6185, 'prefix': '2a01:b740:a08::/48', 'as_set': [], 'number_ips': 1208925819614629174706176, 'summary': '2a01:b740:a08::/48 (1208925819614629174706176 IPs)'}, {'asn': 6185, 'prefix': '2a01:b740:a0a::/48', 'as_set': [], 'number_ips': 1208925819614629174706176, 'summary': '2a01:b740:a0a::/48 (1208925819614629174706176 IPs)'}, {'asn': 6185, 'prefix': '2a01:b740:a10::/47', 'as_set': [], 'number_ips': 2417851639229258349412352, 'summary': '2a01:b740:a10::/47 (2417851639229258349412352 IPs)'}, {'asn': 6185, 'prefix': '2a01:b740:a14::/48', 'as_set': [], 'number_ips': 1208925819614629174706176, 'summary': '2a01:b740:a14::/48 (1208925819614629174706176 IPs)'}, {'asn': 6185, 'prefix': '2a01:b740:a16::/48', 'as_set': [], 'number_ips': 1208925819614629174706176, 'summary': '2a01:b740:a16::/48 (1208925819614629174706176 IPs)'}, {'asn': 6185, 'prefix': '2a01:b740:a18::/48', 'as_set': [], 'number_ips': 1208925819614629174706176, 'summary': '2a01:b740:a18::/48 (1208925819614629174706176 IPs)'}, {'asn': 6185, 'prefix': '2a01:b740:a1a::/48', 'as_set': [], 'number_ips': 1208925819614629174706176, 'summary': '2a01:b740:a1a::/48 (1208925819614629174706176 IPs)'}, {'asn': 6185, 'prefix': '2a01:b740:a1c::/48', 'as_set': [], 'number_ips': 1208925819614629174706176, 'summary': '2a01:b740:a1c::/48 (1208925819614629174706176 IPs)'}, {'asn': 6185, 'prefix': '2a01:b740:a1e::/48', 'as_set': [], 'number_ips': 1208925819614629174706176, 'summary': '2a01:b740:a1e::/48 (1208925819614629174706176 IPs)'}, {'asn': 6185, 'prefix': '2a01:b740:a20::/48', 'as_set': [], 'number_ips': 1208925819614629174706176, 'summary': '2a01:b740:a20::/48 (1208925819614629174706176 IPs)'}, {'asn': 6185, 'prefix': '2a01:b740:a22::/48', 'as_set': [], 'number_ips': 1208925819614629174706176, 'summary': '2a01:b740:a22::/48 (1208925819614629174706176 IPs)'}, {'asn': 6185, 'prefix': '2a01:b740:a24::/48', 'as_set': [], 'number_ips': 1208925819614629174706176, 'summary': '2a01:b740:a24::/48 (1208925819614629174706176 IPs)'}, {'asn': 6185, 'prefix': '2a01:b740:a26::/48', 'as_set': [], 'number_ips': 1208925819614629174706176, 'summary': '2a01:b740:a26::/48 (1208925819614629174706176 IPs)'}, {'asn': 6185, 'prefix': '2a01:b740:a30::/48', 'as_set': [], 'number_ips': 1208925819614629174706176, 'summary': '2a01:b740:a30::/48 (1208925819614629174706176 IPs)'}]}, {'asn': 714, 'as_name': None, 'description': None, 'status': None, 'organization': None, 'maintained_by': None, 'notify': [], 'country': None, 'source': None, 'route_views': [{'asn': 714, 'prefix': '17.0.0.0/8', 'as_set': [], 'number_ips': 16777216, 'summary': '17.0.0.0/8 (16777216 IPs)'}, {'asn': 714, 'prefix': '57.102.0.0/15', 'as_set': [], 'number_ips': 131072, 'summary': '57.102.0.0/15 (131072 IPs)'}, {'asn': 714, 'prefix': '57.112.0.0/12', 'as_set': [], 'number_ips': 1048576, 'summary': '57.112.0.0/12 (1048576 IPs)'}, {'asn': 714, 'prefix': '65.199.22.0/23', 'as_set': [], 'number_ips': 512, 'summary': '65.199.22.0/23 (512 IPs)'}, {'asn': 714, 'prefix': '139.178.128.0/18', 'as_set': [], 'number_ips': 16384, 'summary': '139.178.128.0/18 (16384 IPs)'}, {'asn': 714, 'prefix': '144.178.0.0/18', 'as_set': [], 'number_ips': 16384, 'summary': '144.178.0.0/18 (16384 IPs)'}, {'asn': 714, 'prefix': '2403:300::/32', 'as_set': [], 'number_ips': 79228162514264337593543950336, 'summary': '2403:300::/32 (79228162514264337593543950336 IPs)'}, {'asn': 714, 'prefix': '2620:0:1b00::/48', 'as_set': [], 'number_ips': 1208925819614629174706176, 'summary': '2620:0:1b00::/48 (1208925819614629174706176 IPs)'}, {'asn': 714, 'prefix': '2620:149::/32', 'as_set': [], 'number_ips': 79228162514264337593543950336, 'summary': '2620:149::/32 (79228162514264337593543950336 IPs)'}, {'asn': 714, 'prefix': '2a01:b740::/32', 'as_set': [], 'number_ips': 79228162514264337593543950336, 'summary': '2a01:b740::/32 (79228162514264337593543950336 IPs)'}, {'asn': 714, 'prefix': '2a01:b747::/32', 'as_set': [], 'number_ips': 79228162514264337593543950336, 'summary': '2a01:b747::/32 (79228162514264337593543950336 IPs)'}]}, {'asn': 1036, 'as_name': None, 'description': None, 'status': None, 'organization': None, 'maintained_by': None, 'notify': [], 'country': None, 'source': None, 'route_views': []}, {'asn': 1042, 'as_name': None, 'description': None, 'status': None, 'organization': None, 'maintained_by': None, 'notify': [], 'country': None, 'source': None, 'route_views': []}, {'asn': 2709, 'as_name': None, 'description': None, 'status': None, 'organization': None, 'maintained_by': None, 'notify': [], 'country': None, 'source': None, 'route_views': []}, {'asn': 31128, 'as_name': 'SHAZAM-AS', 'description': None, 'status': 'ASSIGNED', 'organization': None, 'maintained_by': 'RIPE-NCC-END-MNT CC72744-MNT', 'notify': [], 'country': None, 'source': 'ripe', 'route_views': [{'asn': 31128, 'prefix': '139.178.192.0/23', 'as_set': [], 'number_ips': 512, 'summary': '139.178.192.0/23 (512 IPs)'}, {'asn': 31128, 'prefix': '2001:43f8:1700::/47', 'as_set': [], 'number_ips': 2417851639229258349412352, 'summary': '2001:43f8:1700::/47 (2417851639229258349412352 IPs)'}, {'asn': 31128, 'prefix': '2a01:b746:100::/47', 'as_set': [], 'number_ips': 2417851639229258349412352, 'summary': '2a01:b746:100::/47 (2417851639229258349412352 IPs)'}]}, {'asn': 63707, 'as_name': 'APPLE-CN', 'description': 'Apple Computer Trading (Shanghai) Co. Ltd. No 391, Yuanshen Road, Pu Dong District, Building A, B & C,Shanghai, China 200135', 'status': None, 'organization': None, 'maintained_by': 'MAINT-CNNIC-AP', 'notify': [], 'country': 'CN', 'source': 'apnic', 'route_views': []}], 'extra_info': {'alias': ['APPLE INC', 'Apple Computer Trading (Shanghai) Co. Ltd.', 'APPLE DISTRIBUTION INTERNATIONAL LTD.', 'Apple Inc.'], 'domain': ['apple.com', 'itunes.com']}}\n",
      "[]\n",
      "[]\n"
     ]
    }
   ],
   "source": [
    "entity_cont = entity_info.json()['entity']\n",
    "print(entity_cont)\n",
    "finance_cont = entity_info.json()['finance_data']\n",
    "print(finance_cont)\n",
    "executives_cont = entity_info.json()['executives']\n",
    "print(executives_cont)"
   ]
  },
  {
   "cell_type": "code",
   "execution_count": null,
   "id": "b7fd3e37",
   "metadata": {},
   "outputs": [],
   "source": [
    "#try it on GOOGL\n",
    "ticker = \"GOOGL\"\n",
    "entity_info_ticker = sc.get_entity_from_symbol(ticker)\n",
    "print(entity_info_ticker)\n",
    "print(entity_info_ticker.content)\n",
    "entity_cont = entity_info_ticker.json()['entity']\n",
    "print(entity_cont)\n",
    "finance_cont = entity_info_ticker.json()['finance_data']\n",
    "print(finance_cont)\n",
    "executives_cont = entity_info_ticker.json()['executives']\n",
    "print(executives_cont)"
   ]
  },
  {
   "cell_type": "markdown",
   "id": "0ede9e01",
   "metadata": {},
   "source": [
    "Seems like it doesn't have a consistent way to get finance data or executive information actually."
   ]
  },
  {
   "cell_type": "markdown",
   "id": "329acddb",
   "metadata": {},
   "source": [
    "Testing FMP"
   ]
  },
  {
   "cell_type": "code",
   "execution_count": 1,
   "id": "719a2212",
   "metadata": {},
   "outputs": [],
   "source": [
    "from src.clients.fmp.fmp import FMP_Client"
   ]
  },
  {
   "cell_type": "code",
   "execution_count": 2,
   "id": "6a080c23",
   "metadata": {},
   "outputs": [
    {
     "name": "stderr",
     "output_type": "stream",
     "text": [
      "c:\\Users\\BrettMusselman\\source\\repos\\public-company-overview\\.venv\\Lib\\site-packages\\google\\auth\\_default.py:76: UserWarning: Your application has authenticated using end user credentials from Google Cloud SDK without a quota project. You might receive a \"quota exceeded\" or \"API not enabled\" error. See the following page for troubleshooting: https://cloud.google.com/docs/authentication/adc-troubleshooting/user-creds. \n",
      "  warnings.warn(_CLOUD_SDK_CREDENTIALS_WARNING)\n"
     ]
    }
   ],
   "source": [
    "from src.clients.secrets.secrets import Secret_Manager\n",
    "project_id = \"public-company-overview\"\n",
    "sm = Secret_Manager(project_id)\n",
    "#get secret \"pco-fmp\"\n",
    "fmp_key = sm.get_secret(\"pco-fmp\")"
   ]
  },
  {
   "cell_type": "code",
   "execution_count": 3,
   "id": "40faac50",
   "metadata": {},
   "outputs": [],
   "source": [
    "fc = FMP_Client(fmp_key)"
   ]
  },
  {
   "cell_type": "code",
   "execution_count": 4,
   "id": "8f53ffa0",
   "metadata": {},
   "outputs": [
    {
     "name": "stdout",
     "output_type": "stream",
     "text": [
      "  symbol   price   beta    volAvg         mktCap  lastDiv         range  \\\n",
      "0   AAPL  206.86  1.275  61653365  3089619588000     1.01  169.21-260.1   \n",
      "\n",
      "   changes companyName currency  ...    zip   dcfDiff        dcf  \\\n",
      "0    -1.92  Apple Inc.      USD  ...  95014  56.26584  150.99916   \n",
      "\n",
      "                                               image     ipoDate defaultImage  \\\n",
      "0  https://images.financialmodelingprep.com/symbo...  1980-12-12        False   \n",
      "\n",
      "   isEtf isActivelyTrading  isAdr isFund  \n",
      "0  False              True  False  False  \n",
      "\n",
      "[1 rows x 36 columns]\n"
     ]
    }
   ],
   "source": [
    "#get company profile\n",
    "ticker = \"AAPL\"\n",
    "company_profile = fc.get_company_profile(ticker)\n",
    "print(company_profile)"
   ]
  },
  {
   "cell_type": "code",
   "execution_count": 5,
   "id": "02c6f37b",
   "metadata": {},
   "outputs": [
    {
     "name": "stdout",
     "output_type": "stream",
     "text": [
      "       cik symbol                    companyName  filingDate  \\\n",
      "0   886982     GS  The Goldman Sachs Group, Inc.  2022-03-18   \n",
      "1   886982     GS  The Goldman Sachs Group, Inc.  2022-03-18   \n",
      "2   886982     GS  The Goldman Sachs Group, Inc.  2022-03-18   \n",
      "3   886982     GS  The Goldman Sachs Group, Inc.  2022-03-18   \n",
      "4   886982     GS  The Goldman Sachs Group, Inc.  2022-03-18   \n",
      "5   886982     GS  The Goldman Sachs Group, Inc.  2022-03-18   \n",
      "6   886982     GS  The Goldman Sachs Group, Inc.  2022-03-18   \n",
      "7   886982     GS  The Goldman Sachs Group, Inc.  2022-03-18   \n",
      "8   886982     GS  The Goldman Sachs Group, Inc.  2022-03-18   \n",
      "9   886982     GS  The Goldman Sachs Group, Inc.  2022-03-18   \n",
      "10  886982     GS  The Goldman Sachs Group, Inc.  2022-03-18   \n",
      "\n",
      "           acceptedDate                           nameAndPosition  year  \\\n",
      "0   2022-03-18 11:02:14            David Solomon Chairman and CEO  2021   \n",
      "1   2022-03-18 11:02:14            David Solomon Chairman and CEO  2020   \n",
      "2   2022-03-18 11:02:14            David Solomon Chairman and CEO  2019   \n",
      "3   2022-03-18 11:02:14            John Waldron President and COO  2021   \n",
      "4   2022-03-18 11:02:14            John Waldron President and COO  2020   \n",
      "5   2022-03-18 11:02:14            John Waldron President and COO  2019   \n",
      "6   2022-03-18 11:02:14            Stephen Scherr CFO (Retired) *  2021   \n",
      "7   2022-03-18 11:02:14            Stephen Scherr CFO (Retired) *  2020   \n",
      "8   2022-03-18 11:02:14            Stephen Scherr CFO (Retired) *  2019   \n",
      "9   2022-03-18 11:02:14         Philip Berlinski Global Treasurer  2021   \n",
      "10  2022-03-18 11:02:14  Kathryn Ruemmler CLO and General Counsel  2021   \n",
      "\n",
      "     salary     bonus  stockAward  optionAward  incentivePlanCompensation  \\\n",
      "0   2000000   9900000    27380180            0                          0   \n",
      "1   2000000   4650000    17036275            0                          0   \n",
      "2   2000000   7650000    14724012            0                          0   \n",
      "3   1850000  12460000    20879205            0                          0   \n",
      "4   1850000   6660000    12970318            0                          0   \n",
      "5   1850000   9060000    11082050            0                          0   \n",
      "6   1850000  10460000     7800899            0                          0   \n",
      "7   1850000   5460000    11825118            0                          0   \n",
      "8   1850000   8260000     9896719            0                          0   \n",
      "9   1108046   6556898     6341994            0                          0   \n",
      "10  1500000   6400000     4731963            0                          0   \n",
      "\n",
      "    allOtherCompensation     total  \\\n",
      "0                 264892  39545072   \n",
      "1                 254190  23940657   \n",
      "2                 283429  24657737   \n",
      "3                 319593  35508798   \n",
      "4                 278153  21759730   \n",
      "5                 265912  22259802   \n",
      "6                 259799  20370698   \n",
      "7                 221096  19366032   \n",
      "8                 216519  20238095   \n",
      "9                2908899  16967355   \n",
      "10                 63358  12695321   \n",
      "\n",
      "                                                 link  \n",
      "0   https://www.sec.gov/Archives/edgar/data/886982...  \n",
      "1   https://www.sec.gov/Archives/edgar/data/886982...  \n",
      "2   https://www.sec.gov/Archives/edgar/data/886982...  \n",
      "3   https://www.sec.gov/Archives/edgar/data/886982...  \n",
      "4   https://www.sec.gov/Archives/edgar/data/886982...  \n",
      "5   https://www.sec.gov/Archives/edgar/data/886982...  \n",
      "6   https://www.sec.gov/Archives/edgar/data/886982...  \n",
      "7   https://www.sec.gov/Archives/edgar/data/886982...  \n",
      "8   https://www.sec.gov/Archives/edgar/data/886982...  \n",
      "9   https://www.sec.gov/Archives/edgar/data/886982...  \n",
      "10  https://www.sec.gov/Archives/edgar/data/886982...  \n"
     ]
    }
   ],
   "source": [
    "#try exec comp\n",
    "ticker = \"GS\"\n",
    "exec_comp = fc.get_exec_comp(ticker)\n",
    "print(exec_comp)"
   ]
  },
  {
   "cell_type": "code",
   "execution_count": 6,
   "id": "1a1ffe1e",
   "metadata": {},
   "outputs": [
    {
     "data": {
      "application/vnd.microsoft.datawrangler.viewer.v0+json": {
       "columns": [
        {
         "name": "index",
         "rawType": "int64",
         "type": "integer"
        },
        {
         "name": "symbol",
         "rawType": "object",
         "type": "string"
        },
        {
         "name": "price",
         "rawType": "float64",
         "type": "float"
        },
        {
         "name": "beta",
         "rawType": "float64",
         "type": "float"
        },
        {
         "name": "volAvg",
         "rawType": "int64",
         "type": "integer"
        },
        {
         "name": "mktCap",
         "rawType": "int64",
         "type": "integer"
        },
        {
         "name": "lastDiv",
         "rawType": "float64",
         "type": "float"
        },
        {
         "name": "range",
         "rawType": "object",
         "type": "string"
        },
        {
         "name": "changes",
         "rawType": "float64",
         "type": "float"
        },
        {
         "name": "companyName",
         "rawType": "object",
         "type": "string"
        },
        {
         "name": "currency",
         "rawType": "object",
         "type": "string"
        },
        {
         "name": "cik",
         "rawType": "int64",
         "type": "integer"
        },
        {
         "name": "isin",
         "rawType": "object",
         "type": "string"
        },
        {
         "name": "cusip",
         "rawType": "int64",
         "type": "integer"
        },
        {
         "name": "exchange",
         "rawType": "object",
         "type": "string"
        },
        {
         "name": "exchangeShortName",
         "rawType": "object",
         "type": "string"
        },
        {
         "name": "industry",
         "rawType": "object",
         "type": "string"
        },
        {
         "name": "website",
         "rawType": "object",
         "type": "string"
        },
        {
         "name": "description",
         "rawType": "object",
         "type": "string"
        },
        {
         "name": "ceo",
         "rawType": "object",
         "type": "string"
        },
        {
         "name": "sector",
         "rawType": "object",
         "type": "string"
        },
        {
         "name": "country",
         "rawType": "object",
         "type": "string"
        },
        {
         "name": "fullTimeEmployees",
         "rawType": "int64",
         "type": "integer"
        },
        {
         "name": "phone",
         "rawType": "object",
         "type": "string"
        },
        {
         "name": "address",
         "rawType": "object",
         "type": "string"
        },
        {
         "name": "city",
         "rawType": "object",
         "type": "string"
        },
        {
         "name": "state",
         "rawType": "object",
         "type": "string"
        },
        {
         "name": "zip",
         "rawType": "int64",
         "type": "integer"
        },
        {
         "name": "dcfDiff",
         "rawType": "float64",
         "type": "float"
        },
        {
         "name": "dcf",
         "rawType": "float64",
         "type": "float"
        },
        {
         "name": "image",
         "rawType": "object",
         "type": "string"
        },
        {
         "name": "ipoDate",
         "rawType": "object",
         "type": "string"
        },
        {
         "name": "defaultImage",
         "rawType": "bool",
         "type": "boolean"
        },
        {
         "name": "isEtf",
         "rawType": "bool",
         "type": "boolean"
        },
        {
         "name": "isActivelyTrading",
         "rawType": "bool",
         "type": "boolean"
        },
        {
         "name": "isAdr",
         "rawType": "bool",
         "type": "boolean"
        },
        {
         "name": "isFund",
         "rawType": "bool",
         "type": "boolean"
        }
       ],
       "conversionMethod": "pd.DataFrame",
       "ref": "13132614-7dfc-4458-9986-43490816520a",
       "rows": [
        [
         "0",
         "AAPL",
         "206.86",
         "1.275",
         "61653365",
         "3089619588000",
         "1.01",
         "169.21-260.1",
         "-1.92",
         "Apple Inc.",
         "USD",
         "320193",
         "US0378331005",
         "37833100",
         "NASDAQ Global Select",
         "NASDAQ",
         "Consumer Electronics",
         "https://www.apple.com",
         "Apple Inc. designs, manufactures, and markets smartphones, personal computers, tablets, wearables, and accessories worldwide. The company offers iPhone, a line of smartphones; Mac, a line of personal computers; iPad, a line of multi-purpose tablets; and wearables, home, and accessories comprising AirPods, Apple TV, Apple Watch, Beats products, and HomePod. It also provides AppleCare support and cloud services; and operates various platforms, including the App Store that allow customers to discover and download applications and digital content, such as books, music, video, games, and podcasts, as well as advertising services include third-party licensing arrangements and its own advertising platforms. In addition, the company offers various subscription-based services, such as Apple Arcade, a game subscription service; Apple Fitness+, a personalized fitness service; Apple Music, which offers users a curated listening experience with on-demand radio stations; Apple News+, a subscription news and magazine service; Apple TV+, which offers exclusive original content; Apple Card, a co-branded credit card; and Apple Pay, a cashless payment service, as well as licenses its intellectual property. The company serves consumers, and small and mid-sized businesses; and the education, enterprise, and government markets. It distributes third-party applications for its products through the App Store. The company also sells its products through its retail and online stores, and direct sales force; and third-party cellular network carriers, wholesalers, retailers, and resellers. Apple Inc. was founded in 1976 and is headquartered in Cupertino, California.",
         "Mr. Timothy D. Cook",
         "Technology",
         "US",
         "164000",
         "(408) 996-1010",
         "One Apple Park Way",
         "Cupertino",
         "CA",
         "95014",
         "56.26584",
         "150.99915979073526",
         "https://images.financialmodelingprep.com/symbol/AAPL.png",
         "1980-12-12",
         "False",
         "False",
         "True",
         "False",
         "False"
        ]
       ],
       "shape": {
        "columns": 36,
        "rows": 1
       }
      },
      "text/html": [
       "<div>\n",
       "<style scoped>\n",
       "    .dataframe tbody tr th:only-of-type {\n",
       "        vertical-align: middle;\n",
       "    }\n",
       "\n",
       "    .dataframe tbody tr th {\n",
       "        vertical-align: top;\n",
       "    }\n",
       "\n",
       "    .dataframe thead th {\n",
       "        text-align: right;\n",
       "    }\n",
       "</style>\n",
       "<table border=\"1\" class=\"dataframe\">\n",
       "  <thead>\n",
       "    <tr style=\"text-align: right;\">\n",
       "      <th></th>\n",
       "      <th>symbol</th>\n",
       "      <th>price</th>\n",
       "      <th>beta</th>\n",
       "      <th>volAvg</th>\n",
       "      <th>mktCap</th>\n",
       "      <th>lastDiv</th>\n",
       "      <th>range</th>\n",
       "      <th>changes</th>\n",
       "      <th>companyName</th>\n",
       "      <th>currency</th>\n",
       "      <th>...</th>\n",
       "      <th>zip</th>\n",
       "      <th>dcfDiff</th>\n",
       "      <th>dcf</th>\n",
       "      <th>image</th>\n",
       "      <th>ipoDate</th>\n",
       "      <th>defaultImage</th>\n",
       "      <th>isEtf</th>\n",
       "      <th>isActivelyTrading</th>\n",
       "      <th>isAdr</th>\n",
       "      <th>isFund</th>\n",
       "    </tr>\n",
       "  </thead>\n",
       "  <tbody>\n",
       "    <tr>\n",
       "      <th>0</th>\n",
       "      <td>AAPL</td>\n",
       "      <td>206.86</td>\n",
       "      <td>1.275</td>\n",
       "      <td>61653365</td>\n",
       "      <td>3089619588000</td>\n",
       "      <td>1.01</td>\n",
       "      <td>169.21-260.1</td>\n",
       "      <td>-1.92</td>\n",
       "      <td>Apple Inc.</td>\n",
       "      <td>USD</td>\n",
       "      <td>...</td>\n",
       "      <td>95014</td>\n",
       "      <td>56.26584</td>\n",
       "      <td>150.99916</td>\n",
       "      <td>https://images.financialmodelingprep.com/symbo...</td>\n",
       "      <td>1980-12-12</td>\n",
       "      <td>False</td>\n",
       "      <td>False</td>\n",
       "      <td>True</td>\n",
       "      <td>False</td>\n",
       "      <td>False</td>\n",
       "    </tr>\n",
       "  </tbody>\n",
       "</table>\n",
       "<p>1 rows × 36 columns</p>\n",
       "</div>"
      ],
      "text/plain": [
       "  symbol   price   beta    volAvg         mktCap  lastDiv         range  \\\n",
       "0   AAPL  206.86  1.275  61653365  3089619588000     1.01  169.21-260.1   \n",
       "\n",
       "   changes companyName currency  ...    zip   dcfDiff        dcf  \\\n",
       "0    -1.92  Apple Inc.      USD  ...  95014  56.26584  150.99916   \n",
       "\n",
       "                                               image     ipoDate defaultImage  \\\n",
       "0  https://images.financialmodelingprep.com/symbo...  1980-12-12        False   \n",
       "\n",
       "   isEtf isActivelyTrading  isAdr isFund  \n",
       "0  False              True  False  False  \n",
       "\n",
       "[1 rows x 36 columns]"
      ]
     },
     "execution_count": 6,
     "metadata": {},
     "output_type": "execute_result"
    }
   ],
   "source": [
    "company_profile.head()"
   ]
  },
  {
   "cell_type": "code",
   "execution_count": 7,
   "id": "bb9326c6",
   "metadata": {},
   "outputs": [
    {
     "name": "stdout",
     "output_type": "stream",
     "text": [
      "         date symbol reportedCurrency     cik fillingDate  \\\n",
      "0  2024-12-31     GS              USD  886982  2025-02-27   \n",
      "1  2023-12-31     GS              USD  886982  2024-02-28   \n",
      "2  2022-12-31     GS              USD  886982  2023-02-24   \n",
      "3  2021-12-31     GS              USD  886982  2022-02-25   \n",
      "4  2020-12-31     GS              USD  886982  2021-02-22   \n",
      "5  2019-12-31     GS              USD  886982  2020-02-21   \n",
      "6  2018-12-31     GS              USD  886982  2019-02-26   \n",
      "7  2017-12-31     GS              USD  886982  2018-02-26   \n",
      "8  2016-12-31     GS              USD  886982  2017-02-27   \n",
      "9  2015-12-31     GS              USD  886982  2016-02-22   \n",
      "10 2014-12-31     GS              USD  886982  2014-12-31   \n",
      "11 2013-12-31     GS              USD  886982  2013-12-31   \n",
      "12 2012-12-31     GS              USD  886982  2013-03-01   \n",
      "13 2011-12-31     GS              USD  886982  2012-02-28   \n",
      "14 2010-12-31     GS              USD  886982  2010-12-31   \n",
      "15 2009-12-31     GS              USD  886982  2009-12-31   \n",
      "16 2008-11-28     GS              USD  886982  2009-01-27   \n",
      "17 2007-11-30     GS              USD  886982  2007-11-30   \n",
      "18 2006-11-24     GS              USD  886982  2007-02-06   \n",
      "19 2005-11-25     GS              USD  886982  2006-02-07   \n",
      "20 2004-11-26     GS              USD  886982  2005-02-08   \n",
      "21 2003-11-28     GS              USD  886982  2004-02-24   \n",
      "22 2002-11-29     GS              USD  886982  2003-02-27   \n",
      "23 2001-11-30     GS              USD  886982  2001-11-30   \n",
      "24 2000-11-30     GS              USD  886982  2000-11-30   \n",
      "25 1999-11-26     GS              USD  886982  2000-02-14   \n",
      "\n",
      "           acceptedDate  calendarYear period      revenue  costOfRevenue  ...  \\\n",
      "0   2025-02-27 08:50:25          2024     FY  53512000000              0  ...   \n",
      "1   2024-02-27 21:46:02          2023     FY  46254000000              0  ...   \n",
      "2   2023-02-23 19:58:16          2022     FY  47365000000              0  ...   \n",
      "3   2022-02-24 21:09:11          2021     FY  59339000000              0  ...   \n",
      "4   2021-02-19 21:16:45          2020     FY  44559000000              0  ...   \n",
      "5   2020-02-20 21:09:56          2019     FY  36526000000              0  ...   \n",
      "6   2019-02-25 19:51:24          2018     FY  36456000000              0  ...   \n",
      "7   2018-02-23 20:16:10          2017     FY  32616000000              0  ...   \n",
      "8   2017-02-24 19:08:26          2016     FY  30790000000              0  ...   \n",
      "9   2016-02-19 19:11:09          2015     FY  33786000000              0  ...   \n",
      "10  2014-12-31 00:00:00          2014     FY  34528000000              0  ...   \n",
      "11  2013-12-31 00:00:00          2013     FY  34206000000              0  ...   \n",
      "12  2013-02-28 21:27:42          2012     FY  34163000000              0  ...   \n",
      "13  2012-02-28 17:22:17          2011     FY  28811000000              0  ...   \n",
      "14  2010-12-31 00:00:00          2010     FY  39161000000              0  ...   \n",
      "15  2009-12-31 00:00:00          2009     FY  45173000000              0  ...   \n",
      "16  2009-01-27 06:03:28          2008     FY  22222000000              0  ...   \n",
      "17  2007-11-30 00:00:00          2007     FY  45987000000              0  ...   \n",
      "18  2007-02-06 06:06:14          2006     FY  37665000000              0  ...   \n",
      "19  2006-02-07 08:19:42          2005     FY  25238000000              0  ...   \n",
      "20  2005-02-07 21:16:42          2004     FY  20951000000              0  ...   \n",
      "21  2004-02-24 09:05:23          2003     FY  16023000000              0  ...   \n",
      "22  2003-02-27 09:00:44          2002     FY  13986000000              0  ...   \n",
      "23  2001-11-30 00:00:00          2001     FY  15811000000              0  ...   \n",
      "24  2000-11-30 00:00:00          2000     FY  16590000000              0  ...   \n",
      "25  2000-02-14 00:00:00          1999     FY  13345000000              0  ...   \n",
      "\n",
      "    incomeBeforeTaxRatio  incomeTaxExpense    netIncome  netIncomeRatio  \\\n",
      "0               0.343792        4121000000  14276000000        0.266781   \n",
      "1               0.232175        2223000000   8516000000        0.184114   \n",
      "2               0.284725        2225000000  11261000000        0.237749   \n",
      "3               0.455754        5409000000  21635000000        0.364600   \n",
      "4               0.280056        3020000000   9459000000        0.212280   \n",
      "5               0.289739        2117000000   8466000000        0.231780   \n",
      "6               0.342358        2022000000  10459000000        0.286894   \n",
      "7               0.341305        6846000000   4286000000        0.131408   \n",
      "8               0.334654        2906000000   7398000000        0.240273   \n",
      "9               0.259812        2695000000   6083000000        0.180045   \n",
      "10              0.357883        3880000000   8477000000        0.245511   \n",
      "11              0.343127        3697000000   8040000000        0.235046   \n",
      "12              0.328045        3732000000   7475000000        0.218804   \n",
      "13              0.214120        1727000000   4442000000        0.154177   \n",
      "14              0.329205        4538000000   8354000000        0.213324   \n",
      "15              0.438957        6444000000  13385000000        0.296305   \n",
      "16              0.105121          14000000   2322000000        0.104491   \n",
      "17              0.382804        6005000000  11599000000        0.252223   \n",
      "18              0.386566        5023000000   9537000000        0.253206   \n",
      "19              0.327799        2647000000   5626000000        0.222918   \n",
      "20              0.318648        2123000000   4553000000        0.217317   \n",
      "21              0.277414        1440000000   3005000000        0.187543   \n",
      "22              0.232590        1139000000   2114000000        0.151151   \n",
      "23              0.233761        1386000000   2310000000        0.146101   \n",
      "24              0.302592        1953000000   3067000000        0.184870   \n",
      "25              0.149269        -716000000   2708000000        0.202922   \n",
      "\n",
      "      eps  epsdiluted  weightedAverageShsOut  weightedAverageShsOutDil  \\\n",
      "0   41.22       40.54              328100000                 333600000   \n",
      "1   23.05       22.87              340800000                 345800000   \n",
      "2   30.57       30.06              352100000                 358100000   \n",
      "3   60.35       59.45              350500000                 355800000   \n",
      "4   25.01       24.74              356400000                 360300000   \n",
      "5   21.25       21.03              371600000                 375500000   \n",
      "6   27.14       26.80              385399996                 390199996   \n",
      "7   10.48       10.48              401599995                 409099995   \n",
      "8   17.00       17.00              427399995                 435099995   \n",
      "9   13.26       13.26              448899995                 458599995   \n",
      "10  17.91       17.91              458899995                 473199995   \n",
      "11  16.09       16.09              498048061                 499599995   \n",
      "12  14.48       14.48              496199995                 516099994   \n",
      "13   7.98        7.98              556899994                 556899994   \n",
      "14  14.27       14.27              585299994                 585299994   \n",
      "15  24.30       24.30              550899994                 550899994   \n",
      "16   5.09        5.09              436999995                 456199995   \n",
      "17  25.15       25.15              461199995                 461199995   \n",
      "18  19.98       19.98              477399995                 477399995   \n",
      "19  11.25       11.25              478099995                 500199994   \n",
      "20   8.92        8.92              489499995                 510499994   \n",
      "21   5.87        5.87              488399995                 511899994   \n",
      "22   4.03        4.03              525099994                 525099994   \n",
      "23   4.26        4.26              541799994                 541799994   \n",
      "24   6.00        6.00              511499994                 511499994   \n",
      "25   5.57        5.57              475899995                 485799995   \n",
      "\n",
      "                                                 link  \\\n",
      "0   https://www.sec.gov/Archives/edgar/data/886982...   \n",
      "1   https://www.sec.gov/Archives/edgar/data/886982...   \n",
      "2   https://www.sec.gov/Archives/edgar/data/886982...   \n",
      "3   https://www.sec.gov/Archives/edgar/data/886982...   \n",
      "4   https://www.sec.gov/Archives/edgar/data/886982...   \n",
      "5   https://www.sec.gov/Archives/edgar/data/886982...   \n",
      "6   https://www.sec.gov/Archives/edgar/data/886982...   \n",
      "7   https://www.sec.gov/Archives/edgar/data/886982...   \n",
      "8   https://www.sec.gov/Archives/edgar/data/886982...   \n",
      "9   https://www.sec.gov/Archives/edgar/data/886982...   \n",
      "10                                               None   \n",
      "11                                               None   \n",
      "12  https://www.sec.gov/Archives/edgar/data/886982...   \n",
      "13  https://www.sec.gov/Archives/edgar/data/886982...   \n",
      "14                                               None   \n",
      "15                                               None   \n",
      "16  https://www.sec.gov/Archives/edgar/data/886982...   \n",
      "17                                               None   \n",
      "18  https://www.sec.gov/Archives/edgar/data/886982...   \n",
      "19  https://www.sec.gov/Archives/edgar/data/886982...   \n",
      "20  https://www.sec.gov/Archives/edgar/data/886982...   \n",
      "21  https://www.sec.gov/Archives/edgar/data/886982...   \n",
      "22  https://www.sec.gov/Archives/edgar/data/886982...   \n",
      "23                                               None   \n",
      "24                                               None   \n",
      "25  https://www.sec.gov/Archives/edgar/data/886982...   \n",
      "\n",
      "                                            finalLink  \n",
      "0   https://www.sec.gov/Archives/edgar/data/886982...  \n",
      "1   https://www.sec.gov/Archives/edgar/data/886982...  \n",
      "2   https://www.sec.gov/Archives/edgar/data/886982...  \n",
      "3   https://www.sec.gov/Archives/edgar/data/886982...  \n",
      "4   https://www.sec.gov/Archives/edgar/data/886982...  \n",
      "5   https://www.sec.gov/Archives/edgar/data/886982...  \n",
      "6   https://www.sec.gov/Archives/edgar/data/886982...  \n",
      "7   https://www.sec.gov/Archives/edgar/data/886982...  \n",
      "8   https://www.sec.gov/Archives/edgar/data/886982...  \n",
      "9   https://www.sec.gov/Archives/edgar/data/886982...  \n",
      "10                                               None  \n",
      "11                                               None  \n",
      "12  https://www.sec.gov/Archives/edgar/data/886982...  \n",
      "13  https://www.sec.gov/Archives/edgar/data/886982...  \n",
      "14                                               None  \n",
      "15                                               None  \n",
      "16  https://www.sec.gov/Archives/edgar/data/886982...  \n",
      "17                                               None  \n",
      "18  https://www.sec.gov/Archives/edgar/data/886982...  \n",
      "19  https://www.sec.gov/Archives/edgar/data/886982...  \n",
      "20  https://www.sec.gov/Archives/edgar/data/886982...  \n",
      "21  https://www.sec.gov/Archives/edgar/data/886982...  \n",
      "22  https://www.sec.gov/Archives/edgar/data/886982...  \n",
      "23                                               None  \n",
      "24                                               None  \n",
      "25  https://www.sec.gov/Archives/edgar/data/886982...  \n",
      "\n",
      "[26 rows x 38 columns]\n"
     ]
    }
   ],
   "source": [
    "#get income statement\n",
    "income_statement = fc.get_income_statement(ticker)\n",
    "print(income_statement)"
   ]
  },
  {
   "cell_type": "code",
   "execution_count": 8,
   "id": "d40dace1",
   "metadata": {},
   "outputs": [
    {
     "name": "stdout",
     "output_type": "stream",
     "text": [
      "                                               title  \\\n",
      "0  Executive Vice President, Lead Director & Secr...   \n",
      "1              Controller & Chief Accounting Officer   \n",
      "2                           Chief Compliance Officer   \n",
      "3                                           Director   \n",
      "4      President, Chief Operating Officer & Director   \n",
      "5                Partner & Chief Information Officer   \n",
      "6  Chair of Goldman Sachs EMEA & Chair of Investm...   \n",
      "7                            Chief Financial Officer   \n",
      "8   Chief Legal Officer, Secretary & General Counsel   \n",
      "9                 Chairman & Chief Executive Officer   \n",
      "\n",
      "                               name         pay currencyPay  gender  yearBorn  \\\n",
      "0             Mr. John F. W. Rogers   7490528.0         USD    male    1957.0   \n",
      "1             Ms. Sheara J. Fredman         NaN         USD  female    1976.0   \n",
      "2       Mr. Michael J. Richman J.D.         NaN         USD    male       NaN   \n",
      "3                 Mr. J. D. Gardner         NaN         USD    male       NaN   \n",
      "4               Mr. John E. Waldron  14464600.0         USD    male    1970.0   \n",
      "5                Mr. Marco  Argenti         NaN         USD    male       NaN   \n",
      "6  Mr. Francois-Xavier  De Mallmann         NaN         USD    male       NaN   \n",
      "7          Mr. Denis P. Coleman III  10435693.0         USD    male    1975.0   \n",
      "8           Ms. Kathryn H. Ruemmler   9329689.0         USD  female    1972.0   \n",
      "9                Mr. David  Solomon  11450298.0         USD    male    1962.0   \n",
      "\n",
      "   titleSince  \n",
      "0         NaN  \n",
      "1         NaN  \n",
      "2         NaN  \n",
      "3         NaN  \n",
      "4         NaN  \n",
      "5         NaN  \n",
      "6         NaN  \n",
      "7         NaN  \n",
      "8         NaN  \n",
      "9         NaN  \n"
     ]
    }
   ],
   "source": [
    "#try key_executives\n",
    "key_executives = fc.get_key_executives(ticker)\n",
    "print(key_executives)"
   ]
  },
  {
   "cell_type": "code",
   "execution_count": 9,
   "id": "17e235e1",
   "metadata": {},
   "outputs": [
    {
     "name": "stdout",
     "output_type": "stream",
     "text": [
      "   symbol        publishedDate        publisher  \\\n",
      "0    AAPL  2025-05-20 21:23:00  The Motley Fool   \n",
      "1    AAPL  2025-05-20 19:39:39      VentureBeat   \n",
      "2    AAPL  2025-05-20 18:59:40             CNBC   \n",
      "3    AAPL  2025-05-20 18:30:33          Reuters   \n",
      "4    AAPL  2025-05-20 18:02:33           PYMNTS   \n",
      "..    ...                  ...              ...   \n",
      "95   AAPL  2025-05-15 13:13:54  CNBC Television   \n",
      "96   AAPL  2025-05-15 13:01:51             CNBC   \n",
      "97   AAPL  2025-05-15 12:49:00     Market Watch   \n",
      "98   AAPL  2025-05-15 12:40:41     Investopedia   \n",
      "99   AAPL  2025-05-15 12:11:55  CNBC Television   \n",
      "\n",
      "                                                title  \\\n",
      "0   Here Are 3 American Companies on Warren Buffet...   \n",
      "1     Fortnite finally returns to the Apple App Store   \n",
      "2   Fortnite approved by Apple, returns to U.S. Ap...   \n",
      "3   Epic Games' Fortnite back up on Apple app stor...   \n",
      "4   Report: Apple to Let Third-Party Developers Us...   \n",
      "..                                                ...   \n",
      "95  President Trump's Apple pressure: Here's what ...   \n",
      "96  YouTube launches weekly top podcast list to ri...   \n",
      "97  Trump isn't happy with how Apple plans to esca...   \n",
      "98  Trump Tells Apple Not to Boost iPhone Producti...   \n",
      "99  Trump pushes Apple to move iPhone production t...   \n",
      "\n",
      "                                                image              site  \\\n",
      "0   https://images.financialmodelingprep.com/news/...          fool.com   \n",
      "1   https://images.financialmodelingprep.com/news/...   venturebeat.com   \n",
      "2   https://images.financialmodelingprep.com/news/...          cnbc.com   \n",
      "3   https://images.financialmodelingprep.com/news/...       reuters.com   \n",
      "4   https://images.financialmodelingprep.com/news/...        pymnts.com   \n",
      "..                                                ...               ...   \n",
      "95  https://images.financialmodelingprep.com/news/...       youtube.com   \n",
      "96  https://images.financialmodelingprep.com/news/...          cnbc.com   \n",
      "97  https://images.financialmodelingprep.com/news/...   marketwatch.com   \n",
      "98  https://images.financialmodelingprep.com/news/...  investopedia.com   \n",
      "99  https://images.financialmodelingprep.com/news/...       youtube.com   \n",
      "\n",
      "                                                 text  \\\n",
      "0   It's a tough time to be excited about investin...   \n",
      "1   After over four years of fighting, including i...   \n",
      "2   Apple approved the Epic Games title Fortnite o...   \n",
      "3   Epic Games' \"Fortnite\" video game was availabl...   \n",
      "4   Apple reportedly plans to introduce tools that...   \n",
      "..                                                ...   \n",
      "95  CNBC's Steve Kovach joins ‘Halftime Report' to...   \n",
      "96  Alphabet-owned YouTube launched a weekly top p...   \n",
      "97  Apple Inc. is moving more of its production ou...   \n",
      "98  President Donald Trump on Thursday said he tol...   \n",
      "99  CNBC's Steve Kovach joins 'Money Movers' to di...   \n",
      "\n",
      "                                                  url  \n",
      "0   https://www.fool.com/investing/2025/05/20/here...  \n",
      "1   https://venturebeat.com/games/fortnite-finally...  \n",
      "2   https://www.cnbc.com/2025/05/20/apple-fortnite...  \n",
      "3   https://www.reuters.com/technology/epic-games-...  \n",
      "4   https://www.pymnts.com/news/artificial-intelli...  \n",
      "..                                                ...  \n",
      "95        https://www.youtube.com/watch?v=L1ICq2AZy5M  \n",
      "96  https://www.cnbc.com/2025/05/15/youtube-top-po...  \n",
      "97  https://www.marketwatch.com/story/trump-isnt-h...  \n",
      "98  https://www.investopedia.com/trump-tells-apple...  \n",
      "99        https://www.youtube.com/watch?v=hToiSR60AwA  \n",
      "\n",
      "[100 rows x 8 columns]\n"
     ]
    }
   ],
   "source": [
    "#get news\n",
    "news = fc.get_stock_news(ticker)\n",
    "print(news)"
   ]
  },
  {
   "cell_type": "code",
   "execution_count": 4,
   "id": "2d378941",
   "metadata": {},
   "outputs": [
    {
     "name": "stdout",
     "output_type": "stream",
     "text": [
      "Company Notes for AAPL:\n",
      "      cik symbol                  title exchange\n",
      "0  320193   AAPL  1.000% Notes due 2022   NASDAQ\n",
      "1  320193   AAPL  1.375% Notes due 2024   NASDAQ\n",
      "2  320193   AAPL  0.000% Notes due 2025   NASDAQ\n",
      "3  320193   AAPL  0.875% Notes due 2025   NASDAQ\n",
      "4  320193   AAPL  1.625% Notes due 2026   NASDAQ\n",
      "5  320193   AAPL  2.000% Notes due 2027   NASDAQ\n",
      "6  320193   AAPL  1.375% Notes due 2029   NASDAQ\n",
      "7  320193   AAPL  3.050% Notes due 2029   NASDAQ\n",
      "8  320193   AAPL  0.500% Notes due 2031   NASDAQ\n",
      "9  320193   AAPL  3.600% Notes due 2042   NASDAQ\n",
      "\n",
      "\n",
      "Company Notes for GOOGL:\n",
      "       cik symbol                                    title exchange\n",
      "0  1652044  GOOGL  Class C Capital Stock, $0.001 par value   NASDAQ\n",
      "1  1652044   GOOG  Class C Capital Stock, $0.001 par value   NASDAQ\n",
      "\n",
      "\n",
      "Company Notes for MSFT:\n",
      "      cik symbol                                              title exchange\n",
      "0  789019   MSFT                              2.125% Notes due 2021   NASDAQ\n",
      "1  789019   MSFT                              3.125% Notes due 2028   NASDAQ\n",
      "2  789019   MSFT                              2.625% Notes due 2033   NASDAQ\n",
      "3  789019   MSFT  Securities registered pursuant to Section 12(g...   NASDAQ\n",
      "\n",
      "\n",
      "Company Notes for AMZN:\n",
      "Empty DataFrame\n",
      "Columns: []\n",
      "Index: []\n",
      "\n",
      "\n",
      "Company Notes for TSLA:\n",
      "Empty DataFrame\n",
      "Columns: []\n",
      "Index: []\n",
      "\n",
      "\n"
     ]
    }
   ],
   "source": [
    "#get company notes\n",
    "tickers = [\"AAPL\", \"GOOGL\", \"MSFT\", \"AMZN\", \"TSLA\"]\n",
    "for ticker in tickers:\n",
    "    company_notes = fc.get_company_notes(ticker)\n",
    "    print(f\"Company Notes for {ticker}:\")\n",
    "    print(company_notes)\n",
    "    print(\"\\n\")"
   ]
  },
  {
   "cell_type": "code",
   "execution_count": 11,
   "id": "03432a9d",
   "metadata": {},
   "outputs": [
    {
     "name": "stdout",
     "output_type": "stream",
     "text": [
      "  symbol               companyName   price        mktCap\n",
      "0    AXP  American Express Company  296.17  207493444130\n",
      "1      C            Citigroup Inc.   75.90  141760707000\n",
      "2    JPM      JPMorgan Chase & Co.  265.68  738348631200\n",
      "3     MS            Morgan Stanley  129.13  207165841600\n",
      "4    WFC     Wells Fargo & Company   75.52  245755673600\n"
     ]
    }
   ],
   "source": [
    "#get stock peers\n",
    "stock_peers = fc.get_stock_peers(ticker)\n",
    "print(stock_peers)"
   ]
  },
  {
   "cell_type": "code",
   "execution_count": 12,
   "id": "d5506920",
   "metadata": {},
   "outputs": [
    {
     "name": "stdout",
     "output_type": "stream",
     "text": [
      "  symbol     cik       acceptanceTime periodOfReport  \\\n",
      "0     GS  886982  2025-02-27 08:50:25     2024-12-31   \n",
      "1     GS  886982  2024-02-22 20:39:25     2023-12-31   \n",
      "2     GS  886982  2023-02-23 19:58:16     2022-12-31   \n",
      "3     GS  886982  2022-02-24 21:09:11     2021-12-31   \n",
      "\n",
      "                     companyName formType  filingDate  employeeCount  \\\n",
      "0  The Goldman Sachs Group, Inc.     10-K  2025-02-27          46500   \n",
      "1  The Goldman Sachs Group, Inc.     10-K  2024-02-23          45300   \n",
      "2  The Goldman Sachs Group, Inc.     10-K  2023-02-24          48500   \n",
      "3  The Goldman Sachs Group, Inc.     10-K  2022-02-25          43900   \n",
      "\n",
      "                                              source  \n",
      "0  https://www.sec.gov/Archives/edgar/data/886982...  \n",
      "1  https://www.sec.gov/Archives/edgar/data/886982...  \n",
      "2  https://www.sec.gov/Archives/edgar/data/886982...  \n",
      "3  https://www.sec.gov/Archives/edgar/data/886982...  \n"
     ]
    }
   ],
   "source": [
    "#get employee count\n",
    "employee_count = fc.get_employee_count(ticker)\n",
    "print(employee_count)"
   ]
  },
  {
   "cell_type": "code",
   "execution_count": 13,
   "id": "76c7caaf",
   "metadata": {},
   "outputs": [
    {
     "name": "stdout",
     "output_type": "stream",
     "text": [
      "         date symbol reportedCurrency     cik fillingDate  \\\n",
      "0  2024-12-31     GS              USD  886982  2025-02-27   \n",
      "1  2023-12-31     GS              USD  886982  2024-02-28   \n",
      "2  2022-12-31     GS              USD  886982  2023-02-24   \n",
      "3  2021-12-31     GS              USD  886982  2022-02-25   \n",
      "4  2020-12-31     GS              USD  886982  2021-02-22   \n",
      "5  2019-12-31     GS              USD  886982  2020-02-21   \n",
      "6  2018-12-31     GS              USD  886982  2019-02-26   \n",
      "7  2017-12-31     GS              USD  886982  2018-02-26   \n",
      "8  2016-12-31     GS              USD  886982  2017-02-27   \n",
      "9  2015-12-31     GS              USD  886982  2016-02-22   \n",
      "10 2014-12-31     GS              USD  886982  2014-12-31   \n",
      "11 2013-12-31     GS              USD  886982  2013-12-31   \n",
      "12 2012-12-31     GS              USD  886982  2013-03-01   \n",
      "13 2011-12-31     GS              USD  886982  2012-02-28   \n",
      "14 2010-12-31     GS              USD  886982  2010-12-31   \n",
      "15 2009-12-31     GS              USD  886982  2009-12-31   \n",
      "16 2008-11-28     GS              USD  886982  2009-01-27   \n",
      "17 2007-11-30     GS              USD  886982  2007-11-30   \n",
      "18 2006-11-24     GS              USD  886982  2007-02-06   \n",
      "19 2005-11-25     GS              USD  886982  2006-02-07   \n",
      "20 2004-11-26     GS              USD  886982  2005-02-08   \n",
      "21 2003-11-28     GS              USD  886982  2004-02-24   \n",
      "22 2002-11-29     GS              USD  886982  2003-02-27   \n",
      "23 2001-11-30     GS              USD  886982  2001-11-30   \n",
      "24 2000-11-30     GS              USD  886982  2000-11-30   \n",
      "25 1999-11-26     GS              USD  886982  2000-02-14   \n",
      "\n",
      "           acceptedDate  calendarYear period  cashAndCashEquivalents  \\\n",
      "0   2025-02-27 08:50:25          2024     FY            182092000000   \n",
      "1   2024-02-27 21:46:02          2023     FY            241577000000   \n",
      "2   2023-02-23 19:58:16          2022     FY            241825000000   \n",
      "3   2022-02-24 21:09:11          2021     FY            261036000000   \n",
      "4   2021-02-19 21:16:45          2020     FY            155842000000   \n",
      "5   2020-02-20 21:09:56          2019     FY            133546000000   \n",
      "6   2019-02-25 19:51:24          2018     FY            130547000000   \n",
      "7   2018-02-23 20:16:10          2017     FY            110051000000   \n",
      "8   2017-02-24 19:08:26          2016     FY            121711000000   \n",
      "9   2016-02-19 19:11:09          2015     FY             93439000000   \n",
      "10  2014-12-31 00:00:00          2014     FY             57600000000   \n",
      "11  2013-12-31 00:00:00          2013     FY             61133000000   \n",
      "12  2013-02-28 21:27:42          2012     FY             72669000000   \n",
      "13  2012-02-28 17:22:17          2011     FY             56008000000   \n",
      "14  2010-12-31 00:00:00          2010     FY             39788000000   \n",
      "15  2009-12-31 00:00:00          2009     FY             38291000000   \n",
      "16  2009-01-27 06:03:28          2008     FY             15740000000   \n",
      "17  2007-11-30 00:00:00          2007     FY             10282000000   \n",
      "18  2007-02-06 06:06:14          2006     FY              6293000000   \n",
      "19  2006-02-07 08:19:42          2005     FY             10261000000   \n",
      "20  2005-02-07 21:16:42          2004     FY              4365000000   \n",
      "21  2004-02-24 09:05:23          2003     FY              7087000000   \n",
      "22  2003-02-27 09:00:44          2002     FY              4822000000   \n",
      "23  2001-11-30 00:00:00          2001     FY              6909000000   \n",
      "24  2000-11-30 00:00:00          2000     FY              3870000000   \n",
      "25  2000-02-14 00:00:00          1999     FY              4490000000   \n",
      "\n",
      "    shortTermInvestments  ...  totalStockholdersEquity   totalEquity  \\\n",
      "0           739738000000  ...             121996000000  121996000000   \n",
      "1           683368000000  ...             116905000000  116905000000   \n",
      "2           480129000000  ...             117189000000  117189000000   \n",
      "3           517684000000  ...             109926000000  109926000000   \n",
      "4           432635000000  ...              95932000000   95932000000   \n",
      "5           395802000000  ...              90265000000   90265000000   \n",
      "6           374607000000  ...              90185000000   90185000000   \n",
      "7           120822000000  ...              82243000000   82243000000   \n",
      "8           116925000000  ...              86893000000   86893000000   \n",
      "9           134308000000  ...              86728000000   86728000000   \n",
      "10          127938000000  ...              82797000000   82797000000   \n",
      "11          161732000000  ...              78467000000   78467000000   \n",
      "12          141334000000  ...              75716000000   75716000000   \n",
      "13          187789000000  ...              70379000000   70379000000   \n",
      "14          188355000000  ...              77356000000   77356000000   \n",
      "15          486681000000  ...              70714000000   70714000000   \n",
      "16          460346000000  ...              64369000000   66012000000   \n",
      "17           87317000000  ...              42800000000   50065000000   \n",
      "18           82126000000  ...              35786000000   35786000000   \n",
      "19           83619000000  ...              28002000000   28002000000   \n",
      "20           44257000000  ...              25079000000   25079000000   \n",
      "21           26856000000  ...              21632000000   21632000000   \n",
      "22           45772000000  ...              19003000000   19003000000   \n",
      "23           27651000000  ...              18231000000   18231000000   \n",
      "24           37324000000  ...              16530000000   16530000000   \n",
      "25           94799000000  ...              10145000000   10145000000   \n",
      "\n",
      "    totalLiabilitiesAndStockholdersEquity  minorityInterest  \\\n",
      "0                           1675972000000                 0   \n",
      "1                           1641594000000                 0   \n",
      "2                           1441799000000                 0   \n",
      "3                           1463988000000                 0   \n",
      "4                           1163028000000                 0   \n",
      "5                            992968000000                 0   \n",
      "6                            931796000000                 0   \n",
      "7                            916776000000                 0   \n",
      "8                            860165000000                 0   \n",
      "9                            861395000000                 0   \n",
      "10                           855842000000                 0   \n",
      "11                           911507000000                 0   \n",
      "12                           938555000000                 0   \n",
      "13                           923225000000                 0   \n",
      "14                           911332000000                 0   \n",
      "15                           848942000000                 0   \n",
      "16                           886190000000        1643000000   \n",
      "17                          1127061000000        7265000000   \n",
      "18                           838201000000                 0   \n",
      "19                           706804000000                 0   \n",
      "20                           531379000000                 0   \n",
      "21                           403799000000                 0   \n",
      "22                           355574000000                 0   \n",
      "23                           312218000000                 0   \n",
      "24                           284410000000                 0   \n",
      "25                           250491000000                 0   \n",
      "\n",
      "    totalLiabilitiesAndTotalEquity  totalInvestments     totalDebt  \\\n",
      "0                    1675972000000     1135997000000  616935000000   \n",
      "1                    1641594000000     1036562000000  583135000000   \n",
      "2                    1441799000000      841820000000  434548000000   \n",
      "3                    1463988000000      832473000000  487762000000   \n",
      "4                    1163028000000      710124000000  420960000000   \n",
      "5                     992968000000      615305000000  394781000000   \n",
      "6                     931796000000      565580000000  364807000000   \n",
      "7                     916776000000      503546000000  374115000000   \n",
      "8                     860165000000      463277000000  322274000000   \n",
      "9                     861395000000      493889000000  329532000000   \n",
      "10                    855842000000      469712000000  323708000000   \n",
      "11                    911507000000      516304000000  395730000000   \n",
      "12                    938555000000      548798000000  416786000000   \n",
      "13                    923225000000      552659000000  425539000000   \n",
      "14                    911332000000      546753000000  424489000000   \n",
      "15                    848942000000      488165000000  375095000000   \n",
      "16                    886190000000      461800000000  322444000000   \n",
      "17                   1127061000000      541926000000  460619000000   \n",
      "18                    838201000000      419451000000  368662000000   \n",
      "19                    706804000000      363610000000  304252000000   \n",
      "20                    531379000000      247522000000  334719000000   \n",
      "21                    403799000000      185689000000  264995000000   \n",
      "22                    355574000000      179740000000  234979000000   \n",
      "23                    312218000000      150949000000  189561000000   \n",
      "24                    284410000000      136865000000  177971000000   \n",
      "25                    250491000000      154854000000  108060000000   \n",
      "\n",
      "         netDebt                                               link  \\\n",
      "0   434843000000  https://www.sec.gov/Archives/edgar/data/886982...   \n",
      "1   341558000000  https://www.sec.gov/Archives/edgar/data/886982...   \n",
      "2   192723000000  https://www.sec.gov/Archives/edgar/data/886982...   \n",
      "3   226726000000  https://www.sec.gov/Archives/edgar/data/886982...   \n",
      "4   265118000000  https://www.sec.gov/Archives/edgar/data/886982...   \n",
      "5   261235000000  https://www.sec.gov/Archives/edgar/data/886982...   \n",
      "6   234260000000  https://www.sec.gov/Archives/edgar/data/886982...   \n",
      "7   264064000000  https://www.sec.gov/Archives/edgar/data/886982...   \n",
      "8   200563000000  https://www.sec.gov/Archives/edgar/data/886982...   \n",
      "9   236093000000  https://www.sec.gov/Archives/edgar/data/886982...   \n",
      "10  266108000000                                               None   \n",
      "11  334597000000                                               None   \n",
      "12  344117000000  https://www.sec.gov/Archives/edgar/data/886982...   \n",
      "13  369531000000  https://www.sec.gov/Archives/edgar/data/886982...   \n",
      "14  384701000000                                               None   \n",
      "15  336804000000                                               None   \n",
      "16  306704000000  https://www.sec.gov/Archives/edgar/data/886982...   \n",
      "17  450337000000                                               None   \n",
      "18  362369000000  https://www.sec.gov/Archives/edgar/data/886982...   \n",
      "19  293991000000  https://www.sec.gov/Archives/edgar/data/886982...   \n",
      "20  330354000000  https://www.sec.gov/Archives/edgar/data/886982...   \n",
      "21  257908000000  https://www.sec.gov/Archives/edgar/data/886982...   \n",
      "22  230157000000  https://www.sec.gov/Archives/edgar/data/886982...   \n",
      "23  182652000000                                               None   \n",
      "24  174101000000                                               None   \n",
      "25  103570000000  https://www.sec.gov/Archives/edgar/data/886982...   \n",
      "\n",
      "                                            finalLink  \n",
      "0   https://www.sec.gov/Archives/edgar/data/886982...  \n",
      "1   https://www.sec.gov/Archives/edgar/data/886982...  \n",
      "2   https://www.sec.gov/Archives/edgar/data/886982...  \n",
      "3   https://www.sec.gov/Archives/edgar/data/886982...  \n",
      "4   https://www.sec.gov/Archives/edgar/data/886982...  \n",
      "5   https://www.sec.gov/Archives/edgar/data/886982...  \n",
      "6   https://www.sec.gov/Archives/edgar/data/886982...  \n",
      "7   https://www.sec.gov/Archives/edgar/data/886982...  \n",
      "8   https://www.sec.gov/Archives/edgar/data/886982...  \n",
      "9   https://www.sec.gov/Archives/edgar/data/886982...  \n",
      "10                                               None  \n",
      "11                                               None  \n",
      "12  https://www.sec.gov/Archives/edgar/data/886982...  \n",
      "13  https://www.sec.gov/Archives/edgar/data/886982...  \n",
      "14                                               None  \n",
      "15                                               None  \n",
      "16  https://www.sec.gov/Archives/edgar/data/886982...  \n",
      "17                                               None  \n",
      "18  https://www.sec.gov/Archives/edgar/data/886982...  \n",
      "19  https://www.sec.gov/Archives/edgar/data/886982...  \n",
      "20  https://www.sec.gov/Archives/edgar/data/886982...  \n",
      "21  https://www.sec.gov/Archives/edgar/data/886982...  \n",
      "22  https://www.sec.gov/Archives/edgar/data/886982...  \n",
      "23                                               None  \n",
      "24                                               None  \n",
      "25  https://www.sec.gov/Archives/edgar/data/886982...  \n",
      "\n",
      "[26 rows x 54 columns]\n"
     ]
    }
   ],
   "source": [
    "#get balance sheet\n",
    "balance_sheet = fc.get_balance_sheet(ticker)\n",
    "print(balance_sheet)"
   ]
  },
  {
   "cell_type": "code",
   "execution_count": 14,
   "id": "eb0839c9",
   "metadata": {},
   "outputs": [
    {
     "name": "stdout",
     "output_type": "stream",
     "text": [
      "         date symbol reportedCurrency     cik fillingDate  \\\n",
      "0  2024-12-31     GS              USD  886982  2025-02-27   \n",
      "1  2023-12-31     GS              USD  886982  2024-02-28   \n",
      "2  2022-12-31     GS              USD  886982  2023-02-24   \n",
      "3  2021-12-31     GS              USD  886982  2022-02-25   \n",
      "4  2020-12-31     GS              USD  886982  2021-02-22   \n",
      "5  2019-12-31     GS              USD  886982  2020-02-21   \n",
      "6  2018-12-31     GS              USD  886982  2019-02-26   \n",
      "7  2017-12-31     GS              USD  886982  2018-02-26   \n",
      "8  2016-12-31     GS              USD  886982  2017-02-27   \n",
      "9  2015-12-31     GS              USD  886982  2016-02-22   \n",
      "10 2014-12-31     GS              USD  886982  2014-12-31   \n",
      "11 2013-12-31     GS              USD  886982  2013-12-31   \n",
      "12 2012-12-31     GS              USD  886982  2013-03-01   \n",
      "13 2011-12-31     GS              USD  886982  2012-02-28   \n",
      "14 2010-12-31     GS              USD  886982  2010-12-31   \n",
      "15 2009-12-31     GS              USD  886982  2009-12-31   \n",
      "16 2008-11-28     GS              USD  886982  2009-01-27   \n",
      "17 2007-11-30     GS              USD  886982  2007-11-30   \n",
      "18 2006-11-24     GS              USD  886982  2007-02-06   \n",
      "19 2005-11-25     GS              USD  886982  2006-02-07   \n",
      "20 2004-11-26     GS              USD  886982  2005-02-08   \n",
      "21 2003-11-28     GS              USD  886982  2004-02-24   \n",
      "22 2002-11-29     GS              USD  886982  2003-02-27   \n",
      "23 2001-11-30     GS              USD  886982  2001-11-30   \n",
      "24 2000-11-30     GS              USD  886982  2000-11-30   \n",
      "25 1999-11-26     GS              USD  886982  2000-02-14   \n",
      "\n",
      "           acceptedDate  calendarYear period    netIncome  \\\n",
      "0   2025-02-27 08:50:25          2024     FY  14276000000   \n",
      "1   2024-02-27 21:46:02          2023     FY   8516000000   \n",
      "2   2023-02-23 19:58:16          2022     FY  11261000000   \n",
      "3   2022-02-24 21:09:11          2021     FY  21635000000   \n",
      "4   2021-02-19 21:16:45          2020     FY   9459000000   \n",
      "5   2020-02-20 21:09:56          2019     FY   8466000000   \n",
      "6   2019-02-25 19:51:24          2018     FY  10459000000   \n",
      "7   2018-02-23 20:16:10          2017     FY   4286000000   \n",
      "8   2017-02-24 19:08:26          2016     FY   7398000000   \n",
      "9   2016-02-19 19:11:09          2015     FY   6083000000   \n",
      "10  2014-12-31 00:00:00          2014     FY   8477000000   \n",
      "11  2013-12-31 00:00:00          2013     FY   8040000000   \n",
      "12  2013-02-28 21:27:42          2012     FY   7475000000   \n",
      "13  2012-02-28 17:22:17          2011     FY   4442000000   \n",
      "14  2010-12-31 00:00:00          2010     FY   8354000000   \n",
      "15  2009-12-31 00:00:00          2009     FY  13385000000   \n",
      "16  2009-01-27 06:03:28          2008     FY   2322000000   \n",
      "17  2007-11-30 00:00:00          2007     FY  11599000000   \n",
      "18  2007-02-06 06:06:14          2006     FY   9537000000   \n",
      "19  2006-02-07 08:19:42          2005     FY   5626000000   \n",
      "20  2005-02-07 21:16:42          2004     FY   4553000000   \n",
      "21  2004-02-24 09:05:23          2003     FY   3005000000   \n",
      "22  2003-02-27 09:00:44          2002     FY   2114000000   \n",
      "23  2001-11-30 00:00:00          2001     FY   2310000000   \n",
      "24  2000-11-30 00:00:00          2000     FY   3067000000   \n",
      "25  2000-02-14 00:00:00          1999     FY   2708000000   \n",
      "\n",
      "    depreciationAndAmortization  ...  \\\n",
      "0                    2392000000  ...   \n",
      "1                    4856000000  ...   \n",
      "2                    2455000000  ...   \n",
      "3                    2015000000  ...   \n",
      "4                    1902000000  ...   \n",
      "5                    1704000000  ...   \n",
      "6                    1328000000  ...   \n",
      "7                    1152000000  ...   \n",
      "8                     998000000  ...   \n",
      "9                     991000000  ...   \n",
      "10                   1337000000  ...   \n",
      "11                   1322000000  ...   \n",
      "12                   1738000000  ...   \n",
      "13                   1869000000  ...   \n",
      "14                   1904000000  ...   \n",
      "15                   1943000000  ...   \n",
      "16                   1625000000  ...   \n",
      "17                   1167000000  ...   \n",
      "18                    995000000  ...   \n",
      "19                    854000000  ...   \n",
      "20                    624000000  ...   \n",
      "21                    881000000  ...   \n",
      "22                    744000000  ...   \n",
      "23                    873000000  ...   \n",
      "24                    486000000  ...   \n",
      "25                    337000000  ...   \n",
      "\n",
      "    netCashUsedProvidedByFinancingActivities  effectOfForexChangesOnCash  \\\n",
      "0                                 7323000000                 -3972000000   \n",
      "1                                27800000000                  1851000000   \n",
      "2                                59602000000                -11561000000   \n",
      "3                               134738000000                 -5377000000   \n",
      "4                                70380000000                  4807000000   \n",
      "5                                 3367000000                           0   \n",
      "6                                22752000000                           0   \n",
      "7                                35198000000                           0   \n",
      "8                                13432000000                           0   \n",
      "9                                29118000000                           0   \n",
      "10                               18999000000                           0   \n",
      "11                               -7351000000                           0   \n",
      "12                                7516000000                           0   \n",
      "13                               -6910000000                           0   \n",
      "14                                7839000000                           0   \n",
      "15                              -22828000000                           0   \n",
      "16                                7901000000                           0   \n",
      "17                               73390000000                           0   \n",
      "18                               53397000000                           0   \n",
      "19                               19373000000                           0   \n",
      "20                               31753000000                           0   \n",
      "21                               20581000000                           0   \n",
      "22                                9093000000                           0   \n",
      "23                               20124000000                           0   \n",
      "24                               -6664000000                           0   \n",
      "25                               13462000000                           0   \n",
      "\n",
      "    netChangeInCash  cashAtEndOfPeriod  cashAtBeginningOfPeriod  \\\n",
      "0      -59485000000       182092000000             241577000000   \n",
      "1        -248000000       241577000000             241825000000   \n",
      "2      -19211000000       241825000000             261036000000   \n",
      "3      105194000000       261036000000             155842000000   \n",
      "4       22296000000       155842000000             133546000000   \n",
      "5        2999000000       133546000000             130547000000   \n",
      "6       20496000000       130547000000             110051000000   \n",
      "7      -11660000000       110051000000             121711000000   \n",
      "8       28272000000       121711000000              93439000000   \n",
      "9       17505000000        75105000000              57600000000   \n",
      "10      -3533000000        57600000000              61133000000   \n",
      "11     -11536000000        61133000000              72669000000   \n",
      "12      16661000000        72669000000              56008000000   \n",
      "13      16220000000        56008000000              39788000000   \n",
      "14       1497000000        39788000000              38291000000   \n",
      "15      24486000000        38291000000              13805000000   \n",
      "16       5458000000        15740000000              10282000000   \n",
      "17       5589000000        11882000000               6293000000   \n",
      "18      -3968000000         6293000000              10261000000   \n",
      "19       5896000000        10261000000               4365000000   \n",
      "20      -2722000000         4365000000               7087000000   \n",
      "21       2265000000         7087000000               4822000000   \n",
      "22      -2087000000         4822000000               6909000000   \n",
      "23       3039000000         6909000000               3870000000   \n",
      "24        815000000         3870000000               3055000000   \n",
      "25        219000000         3055000000               2836000000   \n",
      "\n",
      "    operatingCashFlow  capitalExpenditure  freeCashFlow  \\\n",
      "0        -13212000000         -2091000000  -15303000000   \n",
      "1        -12587000000         -2316000000  -14903000000   \n",
      "2          8708000000         -3748000000    4960000000   \n",
      "3           921000000         -4667000000   -3746000000   \n",
      "4        -13728000000         -6309000000  -20037000000   \n",
      "5         23868000000         -8443000000   15425000000   \n",
      "6         20421000000         -7982000000   12439000000   \n",
      "7        -17742000000         -3185000000  -20927000000   \n",
      "8          5570000000         -2876000000    2694000000   \n",
      "9          6961000000         -1833000000    5128000000   \n",
      "10        -7623000000          -678000000   -8301000000   \n",
      "11         4543000000          -706000000    3837000000   \n",
      "12        12879000000          -961000000   11918000000   \n",
      "13        21645000000         -1184000000   20461000000   \n",
      "14        -6157000000         -1227000000   -7384000000   \n",
      "15        48875000000         -1556000000   47319000000   \n",
      "16         1894000000         -2027000000    -133000000   \n",
      "17       -68197000000         -2130000000  -70327000000   \n",
      "18       -47617000000         -1744000000  -49361000000   \n",
      "19       -12413000000         -1421000000  -13834000000   \n",
      "20       -33612000000          -608000000  -34220000000   \n",
      "21       -15655000000          -592000000  -16247000000   \n",
      "22       -10077000000         -1008000000  -11085000000   \n",
      "23       -15176000000         -1370000000  -16546000000   \n",
      "24        11135000000         -3540000000    7595000000   \n",
      "25       -12589000000          -843000000  -13432000000   \n",
      "\n",
      "                                                 link  \\\n",
      "0   https://www.sec.gov/Archives/edgar/data/886982...   \n",
      "1   https://www.sec.gov/Archives/edgar/data/886982...   \n",
      "2   https://www.sec.gov/Archives/edgar/data/886982...   \n",
      "3   https://www.sec.gov/Archives/edgar/data/886982...   \n",
      "4   https://www.sec.gov/Archives/edgar/data/886982...   \n",
      "5   https://www.sec.gov/Archives/edgar/data/886982...   \n",
      "6   https://www.sec.gov/Archives/edgar/data/886982...   \n",
      "7   https://www.sec.gov/Archives/edgar/data/886982...   \n",
      "8   https://www.sec.gov/Archives/edgar/data/886982...   \n",
      "9   https://www.sec.gov/Archives/edgar/data/886982...   \n",
      "10                                               None   \n",
      "11                                               None   \n",
      "12  https://www.sec.gov/Archives/edgar/data/886982...   \n",
      "13  https://www.sec.gov/Archives/edgar/data/886982...   \n",
      "14                                               None   \n",
      "15                                               None   \n",
      "16  https://www.sec.gov/Archives/edgar/data/886982...   \n",
      "17                                               None   \n",
      "18  https://www.sec.gov/Archives/edgar/data/886982...   \n",
      "19  https://www.sec.gov/Archives/edgar/data/886982...   \n",
      "20  https://www.sec.gov/Archives/edgar/data/886982...   \n",
      "21  https://www.sec.gov/Archives/edgar/data/886982...   \n",
      "22  https://www.sec.gov/Archives/edgar/data/886982...   \n",
      "23                                               None   \n",
      "24                                               None   \n",
      "25  https://www.sec.gov/Archives/edgar/data/886982...   \n",
      "\n",
      "                                            finalLink  \n",
      "0   https://www.sec.gov/Archives/edgar/data/886982...  \n",
      "1   https://www.sec.gov/Archives/edgar/data/886982...  \n",
      "2   https://www.sec.gov/Archives/edgar/data/886982...  \n",
      "3   https://www.sec.gov/Archives/edgar/data/886982...  \n",
      "4   https://www.sec.gov/Archives/edgar/data/886982...  \n",
      "5   https://www.sec.gov/Archives/edgar/data/886982...  \n",
      "6   https://www.sec.gov/Archives/edgar/data/886982...  \n",
      "7   https://www.sec.gov/Archives/edgar/data/886982...  \n",
      "8   https://www.sec.gov/Archives/edgar/data/886982...  \n",
      "9   https://www.sec.gov/Archives/edgar/data/886982...  \n",
      "10                                               None  \n",
      "11                                               None  \n",
      "12  https://www.sec.gov/Archives/edgar/data/886982...  \n",
      "13  https://www.sec.gov/Archives/edgar/data/886982...  \n",
      "14                                               None  \n",
      "15                                               None  \n",
      "16  https://www.sec.gov/Archives/edgar/data/886982...  \n",
      "17                                               None  \n",
      "18  https://www.sec.gov/Archives/edgar/data/886982...  \n",
      "19  https://www.sec.gov/Archives/edgar/data/886982...  \n",
      "20  https://www.sec.gov/Archives/edgar/data/886982...  \n",
      "21  https://www.sec.gov/Archives/edgar/data/886982...  \n",
      "22  https://www.sec.gov/Archives/edgar/data/886982...  \n",
      "23                                               None  \n",
      "24                                               None  \n",
      "25  https://www.sec.gov/Archives/edgar/data/886982...  \n",
      "\n",
      "[26 rows x 40 columns]\n"
     ]
    }
   ],
   "source": [
    "#get cash flow\n",
    "cash_flow = fc.get_cash_flow(ticker)\n",
    "print(cash_flow)"
   ]
  },
  {
   "cell_type": "code",
   "execution_count": 15,
   "id": "2d78dc7a",
   "metadata": {},
   "outputs": [
    {
     "ename": "Exception",
     "evalue": "Error fetching data: 402 - Premium Endpoint: This endpoint is not available under your current subscription please visit our subscription page to upgrade your plan at https://finanicalmodelingprep.com/",
     "output_type": "error",
     "traceback": [
      "\u001b[31m---------------------------------------------------------------------------\u001b[39m",
      "\u001b[31mException\u001b[39m                                 Traceback (most recent call last)",
      "\u001b[36mCell\u001b[39m\u001b[36m \u001b[39m\u001b[32mIn[15]\u001b[39m\u001b[32m, line 2\u001b[39m\n\u001b[32m      1\u001b[39m \u001b[38;5;66;03m#get earnings transcripts\u001b[39;00m\n\u001b[32m----> \u001b[39m\u001b[32m2\u001b[39m earning_transcripts = \u001b[43mfc\u001b[49m\u001b[43m.\u001b[49m\u001b[43mget_stock_earning_transcripts\u001b[49m\u001b[43m(\u001b[49m\u001b[43mticker\u001b[49m\u001b[43m,\u001b[49m\u001b[43m \u001b[49m\u001b[43myear\u001b[49m\u001b[43m=\u001b[49m\u001b[32;43m2020\u001b[39;49m\u001b[43m,\u001b[49m\u001b[43m \u001b[49m\u001b[43mquarter\u001b[49m\u001b[43m=\u001b[49m\u001b[32;43m1\u001b[39;49m\u001b[43m)\u001b[49m\n\u001b[32m      3\u001b[39m \u001b[38;5;28mprint\u001b[39m(earning_transcripts)\n",
      "\u001b[36mFile \u001b[39m\u001b[32mc:\\Users\\BrettMusselman\\source\\repos\\public-company-overview\\src\\clients\\fmp\\fmp.py:221\u001b[39m, in \u001b[36mFMP_Client.get_stock_earning_transcripts\u001b[39m\u001b[34m(self, symbol, year, quarter)\u001b[39m\n\u001b[32m    219\u001b[39m endpoint = \u001b[33mf\u001b[39m\u001b[33m\"\u001b[39m\u001b[33mearning-call-transcript\u001b[39m\u001b[33m\"\u001b[39m\n\u001b[32m    220\u001b[39m params = {\u001b[33m\"\u001b[39m\u001b[33msymbol\u001b[39m\u001b[33m\"\u001b[39m: symbol, \u001b[33m\"\u001b[39m\u001b[33myear\u001b[39m\u001b[33m\"\u001b[39m: year, \u001b[33m\"\u001b[39m\u001b[33mquarter\u001b[39m\u001b[33m\"\u001b[39m: quarter}\n\u001b[32m--> \u001b[39m\u001b[32m221\u001b[39m \u001b[38;5;28;01mreturn\u001b[39;00m \u001b[38;5;28;43mself\u001b[39;49m\u001b[43m.\u001b[49m\u001b[43m_get_data\u001b[49m\u001b[43m(\u001b[49m\u001b[43mendpoint\u001b[49m\u001b[43m,\u001b[49m\u001b[43m \u001b[49m\u001b[43mparams\u001b[49m\u001b[43m=\u001b[49m\u001b[43mparams\u001b[49m\u001b[43m,\u001b[49m\u001b[43m \u001b[49m\u001b[43mversion\u001b[49m\u001b[43m=\u001b[49m\u001b[33;43m'\u001b[39;49m\u001b[33;43mstable\u001b[39;49m\u001b[33;43m'\u001b[39;49m\u001b[43m,\u001b[49m\u001b[43m \u001b[49m\u001b[43mstable_end\u001b[49m\u001b[43m=\u001b[49m\u001b[38;5;28;43;01mTrue\u001b[39;49;00m\u001b[43m)\u001b[49m\n",
      "\u001b[36mFile \u001b[39m\u001b[32mc:\\Users\\BrettMusselman\\source\\repos\\public-company-overview\\src\\clients\\fmp\\fmp.py:78\u001b[39m, in \u001b[36mFMP_Client._get_data\u001b[39m\u001b[34m(self, endpoint, params, version, stable_end)\u001b[39m\n\u001b[32m     76\u001b[39m     logger.error(url.replace(\u001b[38;5;28mself\u001b[39m.key_str, \u001b[33m\"\u001b[39m\u001b[33mapi=<hidden>\u001b[39m\u001b[33m\"\u001b[39m))\n\u001b[32m     77\u001b[39m     logger.error(\u001b[33mf\u001b[39m\u001b[33m\"\u001b[39m\u001b[33mError fetching data: \u001b[39m\u001b[38;5;132;01m{\u001b[39;00mresponse.status_code\u001b[38;5;132;01m}\u001b[39;00m\u001b[33m - \u001b[39m\u001b[38;5;132;01m{\u001b[39;00mresponse.text\u001b[38;5;132;01m}\u001b[39;00m\u001b[33m\"\u001b[39m)\n\u001b[32m---> \u001b[39m\u001b[32m78\u001b[39m     \u001b[38;5;28;01mraise\u001b[39;00m \u001b[38;5;167;01mException\u001b[39;00m(\u001b[33mf\u001b[39m\u001b[33m\"\u001b[39m\u001b[33mError fetching data: \u001b[39m\u001b[38;5;132;01m{\u001b[39;00mresponse.status_code\u001b[38;5;132;01m}\u001b[39;00m\u001b[33m - \u001b[39m\u001b[38;5;132;01m{\u001b[39;00mresponse.text\u001b[38;5;132;01m}\u001b[39;00m\u001b[33m\"\u001b[39m)\n\u001b[32m     80\u001b[39m logger.info(\u001b[33mf\u001b[39m\u001b[33m\"\u001b[39m\u001b[33mFetched data from \u001b[39m\u001b[38;5;132;01m{\u001b[39;00murl\u001b[38;5;132;01m}\u001b[39;00m\u001b[33m\"\u001b[39m)\n\u001b[32m     82\u001b[39m \u001b[38;5;66;03m# Convert the response to a DataFrame\u001b[39;00m\n",
      "\u001b[31mException\u001b[39m: Error fetching data: 402 - Premium Endpoint: This endpoint is not available under your current subscription please visit our subscription page to upgrade your plan at https://finanicalmodelingprep.com/"
     ]
    }
   ],
   "source": [
    "#get earnings transcripts\n",
    "earning_transcripts = fc.get_stock_earning_transcripts(ticker, year=2020, quarter=1)\n",
    "print(earning_transcripts)"
   ]
  },
  {
   "cell_type": "code",
   "execution_count": 16,
   "id": "50da9928",
   "metadata": {},
   "outputs": [
    {
     "name": "stdout",
     "output_type": "stream",
     "text": [
      "       symbol                                               name currency  \\\n",
      "0       APC.F                                         Apple Inc.      EUR   \n",
      "1      APC.DE                                         Apple Inc.      EUR   \n",
      "2     AAPL.NE                                         Apple Inc.      CAD   \n",
      "3     AAPL.MX                                         Apple Inc.      MXN   \n",
      "4     AAPL.DE                                         Apple Inc.      EUR   \n",
      "5        AAPL                                         Apple Inc.      USD   \n",
      "6       APPLX                                     Appleseed Fund      USD   \n",
      "7       APUSD                                   AppleSwap AI USD      USD   \n",
      "8        APRU                           Apple Rush Company, Inc.      USD   \n",
      "9        APLE                       Apple Hospitality REIT, Inc.      USD   \n",
      "10     2788.T                      Apple International Co., Ltd.      JPY   \n",
      "11    APLY.NE              Apple (AAPL) Yield Shares Purpose ETF      CAD   \n",
      "12  603020.SS            Apple Flavor & Fragrance Group Co.,Ltd.      CNY   \n",
      "13       PNPL                                    Pineapple, Inc.      USD   \n",
      "14       PEGY                              Pineapple Energy Inc.      USD   \n",
      "15       PAPL                           Pineapple Financial Inc.      USD   \n",
      "16     PNPL.L                    Pineapple Power Corporation plc      GBp   \n",
      "17       MNAO                 Pineapple Express Cannabis Company      USD   \n",
      "18     AAPL.L                            LS 1x Apple Tracker ETC      GBp   \n",
      "19     AAP1.L                            LS 1x Apple Tracker ETC      EUR   \n",
      "20     1AAP.L                            LS 1x Apple Tracker ETC      USD   \n",
      "21       GAPJ                        Golden Apple Oil & Gas Inc.      USD   \n",
      "22       AAPX               T-Rex 2X Long Apple Daily Target ETF      USD   \n",
      "23        MLP                Maui Land & Pineapple Company, Inc.      USD   \n",
      "24     AAP3.L                       Leverage Shares 3x Apple ETC      USD   \n",
      "25     AAPE.L                     Leverage Shares 2x Apple ETC A      EUR   \n",
      "26     AAP2.L                     Leverage Shares 2x Apple ETC A      USD   \n",
      "27     2AAP.L                     Leverage Shares 2x Apple ETC A      GBp   \n",
      "28     SAPL.L                      Leverage Shares -1x Apple ETC      GBp   \n",
      "29     SAPE.L                      Leverage Shares -1x Apple ETC      EUR   \n",
      "30     APLS.L                      Leverage Shares -1x Apple ETC      USD   \n",
      "31     3LAP.L              GraniteShares 3x Long Apple Daily ETP      USD   \n",
      "32     3SAP.L             GraniteShares 3x Short Apple Daily ETP      USD   \n",
      "33     AAPS.L  Leverage Shares -3x Short Apple (AAPL) ETP Sec...      USD   \n",
      "34       AAPY       Kurv Yield Premium Strategy Apple (AAPL) ETF      USD   \n",
      "\n",
      "                   stockExchange exchangeShortName  \n",
      "0       Frankfurt Stock Exchange             XETRA  \n",
      "1                 Deutsche Börse             XETRA  \n",
      "2                        CBOE CA               NEO  \n",
      "3                         Mexico               MEX  \n",
      "4                 Deutsche Börse             XETRA  \n",
      "5           NASDAQ Global Select            NASDAQ  \n",
      "6                         NASDAQ            NASDAQ  \n",
      "7                            CCC            CRYPTO  \n",
      "8                      Other OTC               PNK  \n",
      "9        New York Stock Exchange              NYSE  \n",
      "10                         Tokyo               JPX  \n",
      "11                       CBOE CA               NEO  \n",
      "12                      Shanghai               SHH  \n",
      "13                     Other OTC               PNK  \n",
      "14         NASDAQ Capital Market            NASDAQ  \n",
      "15                          AMEX              AMEX  \n",
      "16         London Stock Exchange               LSE  \n",
      "17                     Other OTC               OTC  \n",
      "18         London Stock Exchange               LSE  \n",
      "19         London Stock Exchange               LSE  \n",
      "20         London Stock Exchange               LSE  \n",
      "21                     Other OTC               PNK  \n",
      "22                       Cboe US              CBOE  \n",
      "23       New York Stock Exchange              NYSE  \n",
      "24         London Stock Exchange               LSE  \n",
      "25         London Stock Exchange               LSE  \n",
      "26         London Stock Exchange               LSE  \n",
      "27         London Stock Exchange               LSE  \n",
      "28         London Stock Exchange               LSE  \n",
      "29         London Stock Exchange               LSE  \n",
      "30         London Stock Exchange               LSE  \n",
      "31         London Stock Exchange               LSE  \n",
      "32         London Stock Exchange               LSE  \n",
      "33         London Stock Exchange               LSE  \n",
      "34  New York Stock Exchange Arca              AMEX  \n"
     ]
    }
   ],
   "source": [
    "name = \"apple\"\n",
    "name_search = fc.company_name_search(name)\n",
    "print(name_search)"
   ]
  },
  {
   "cell_type": "code",
   "execution_count": 17,
   "id": "3dd99872",
   "metadata": {},
   "outputs": [
    {
     "name": "stdout",
     "output_type": "stream",
     "text": [
      "      symbol                                   companyName\n",
      "0       ALZN                          Alzamend Neuro, Inc.\n",
      "1      IMBBF                           Imperial Brands PLC\n",
      "2       GSIH                  General Steel Holdings, Inc.\n",
      "3       CWBR                                  CohBar, Inc.\n",
      "4        FTI                                TechnipFMC plc\n",
      "...      ...                                           ...\n",
      "35825    HIL                      Hill International, Inc.\n",
      "35826   DRTT            DIRTT Environmental Solutions Ltd.\n",
      "35827  ATRRF                                   Altarea SCA\n",
      "35828    IEA  Infrastructure and Energy Alternatives, Inc.\n",
      "35829   AENZ                                  Aenza S.A.A.\n",
      "\n",
      "[35830 rows x 2 columns]\n"
     ]
    }
   ],
   "source": [
    "tickers = fc.get_tickers()\n",
    "print(tickers)"
   ]
  },
  {
   "cell_type": "code",
   "execution_count": 18,
   "id": "e75d0367",
   "metadata": {},
   "outputs": [
    {
     "name": "stdout",
     "output_type": "stream",
     "text": [
      "      symbol                                   companyName tradingCurrency  \\\n",
      "0       ALZN                          Alzamend Neuro, Inc.             USD   \n",
      "1      IMBBF                           Imperial Brands PLC             USD   \n",
      "2       GSIH                  General Steel Holdings, Inc.             USD   \n",
      "3       CWBR                                  CohBar, Inc.             USD   \n",
      "4        FTI                                TechnipFMC plc             USD   \n",
      "...      ...                                           ...             ...   \n",
      "24775    HIL                      Hill International, Inc.             USD   \n",
      "24776   DRTT            DIRTT Environmental Solutions Ltd.             USD   \n",
      "24777  ATRRF                                   Altarea SCA             USD   \n",
      "24778    IEA  Infrastructure and Energy Alternatives, Inc.             USD   \n",
      "24779   AENZ                                  Aenza S.A.A.             USD   \n",
      "\n",
      "      reportingCurrency  \n",
      "0                   USD  \n",
      "1                   GBP  \n",
      "2                   USD  \n",
      "3                   USD  \n",
      "4                   USD  \n",
      "...                 ...  \n",
      "24775               USD  \n",
      "24776               CAD  \n",
      "24777               EUR  \n",
      "24778               USD  \n",
      "24779               PEN  \n",
      "\n",
      "[24780 rows x 4 columns]\n"
     ]
    }
   ],
   "source": [
    "tickers_w_fins = fc.get_tickers_with_financials()\n",
    "print(tickers_w_fins)"
   ]
  },
  {
   "cell_type": "code",
   "execution_count": 19,
   "id": "59cbc414",
   "metadata": {},
   "outputs": [
    {
     "name": "stdout",
     "output_type": "stream",
     "text": [
      "         cik                   companyName\n",
      "0    2053013      Emeth Value Capital, LLC\n",
      "1    2048951  Live Oak Acquisition Corp. V\n",
      "2    2047497       Rithm Acquisition Corp.\n",
      "3    2042694             Primo Brands Corp\n",
      "4    2042320                Alpha One Inc.\n",
      "..       ...                           ...\n",
      "995  2033766      Mt Princeton Capital LLC\n",
      "996  2033765                 NFT China Ltd\n",
      "997  2033764   HAB GRANDCHILDREN'S TRUST A\n",
      "998  2033763         PAVC Syndicate 2, LLC\n",
      "999  2033762           ZC GOLD Jewelry INC\n",
      "\n",
      "[1000 rows x 2 columns]\n"
     ]
    }
   ],
   "source": [
    "ciks = fc.get_ciks()\n",
    "print(ciks)"
   ]
  },
  {
   "cell_type": "code",
   "execution_count": 20,
   "id": "59e27aba",
   "metadata": {},
   "outputs": [
    {
     "name": "stdout",
     "output_type": "stream",
     "text": [
      "   exchange\n",
      "0      AMEX\n",
      "1       AMS\n",
      "2       AQS\n",
      "3       ASX\n",
      "4       ATH\n",
      "..      ...\n",
      "66     TSXV\n",
      "67      TWO\n",
      "68      VIE\n",
      "69      WSE\n",
      "70    XETRA\n",
      "\n",
      "[71 rows x 1 columns]\n"
     ]
    }
   ],
   "source": [
    "exchanges = fc.get_exchanges()\n",
    "print(exchanges)"
   ]
  },
  {
   "cell_type": "code",
   "execution_count": 21,
   "id": "98a2e0ed",
   "metadata": {},
   "outputs": [
    {
     "name": "stdout",
     "output_type": "stream",
     "text": [
      "                    sector\n",
      "0          Basic Materials\n",
      "1   Communication Services\n",
      "2        Consumer Cyclical\n",
      "3       Consumer Defensive\n",
      "4                   Energy\n",
      "5       Financial Services\n",
      "6               Healthcare\n",
      "7              Industrials\n",
      "8              Real Estate\n",
      "9               Technology\n",
      "10               Utilities\n"
     ]
    }
   ],
   "source": [
    "sectors = fc.get_sectors()\n",
    "print(sectors)"
   ]
  },
  {
   "cell_type": "code",
   "execution_count": 22,
   "id": "6d31e20d",
   "metadata": {},
   "outputs": [
    {
     "name": "stdout",
     "output_type": "stream",
     "text": [
      "                        industry\n",
      "0                          Steel\n",
      "1                         Silver\n",
      "2          Other Precious Metals\n",
      "3                           Gold\n",
      "4                         Copper\n",
      "..                           ...\n",
      "154                Regulated Gas\n",
      "155           Regulated Electric\n",
      "156  Independent Power Producers\n",
      "157        Diversified Utilities\n",
      "158            General Utilities\n",
      "\n",
      "[159 rows x 1 columns]\n"
     ]
    }
   ],
   "source": [
    "industries = fc.get_industries()\n",
    "print(industries)"
   ]
  },
  {
   "cell_type": "code",
   "execution_count": 23,
   "id": "022dc7fb",
   "metadata": {},
   "outputs": [
    {
     "name": "stdout",
     "output_type": "stream",
     "text": [
      "    country\n",
      "0        FK\n",
      "1        RU\n",
      "2        DK\n",
      "3        SN\n",
      "4        SI\n",
      "..      ...\n",
      "112      IS\n",
      "113      CR\n",
      "114      MK\n",
      "115      KH\n",
      "116      GR\n",
      "\n",
      "[117 rows x 1 columns]\n"
     ]
    }
   ],
   "source": [
    "countries = fc.get_countries()\n",
    "print(countries)"
   ]
  },
  {
   "cell_type": "markdown",
   "id": "04f72c37",
   "metadata": {},
   "source": [
    "Testing Polygon"
   ]
  },
  {
   "cell_type": "code",
   "execution_count": 9,
   "id": "c20253dc",
   "metadata": {},
   "outputs": [
    {
     "name": "stderr",
     "output_type": "stream",
     "text": [
      "c:\\Users\\BrettMusselman\\source\\repos\\public-company-overview\\.venv\\Lib\\site-packages\\google\\auth\\_default.py:76: UserWarning: Your application has authenticated using end user credentials from Google Cloud SDK without a quota project. You might receive a \"quota exceeded\" or \"API not enabled\" error. See the following page for troubleshooting: https://cloud.google.com/docs/authentication/adc-troubleshooting/user-creds. \n",
      "  warnings.warn(_CLOUD_SDK_CREDENTIALS_WARNING)\n"
     ]
    }
   ],
   "source": [
    "from src.clients.secrets.secrets import Secret_Manager\n",
    "sm = Secret_Manager()\n",
    "#get pco-polygon\n",
    "polygon_key = sm.get_secret(\"pco-polygon\")"
   ]
  },
  {
   "cell_type": "code",
   "execution_count": 10,
   "id": "2b34e84f",
   "metadata": {},
   "outputs": [],
   "source": [
    "from src.clients.polygon.polygon import Polygon_Wrapper\n",
    "pw = Polygon_Wrapper(polygon_key)"
   ]
  },
  {
   "cell_type": "code",
   "execution_count": 11,
   "id": "ada9c8ff",
   "metadata": {},
   "outputs": [],
   "source": [
    "tickers = pw.get_tickers()"
   ]
  },
  {
   "cell_type": "code",
   "execution_count": 12,
   "id": "ff041a6a",
   "metadata": {},
   "outputs": [
    {
     "name": "stdout",
     "output_type": "stream",
     "text": [
      "      ticker                                               name  market  \\\n",
      "0          A                          Agilent Technologies Inc.  stocks   \n",
      "1         AA                                  Alcoa Corporation  stocks   \n",
      "2        AAA     Alternative Access First Priority CLO Bond ETF  stocks   \n",
      "3      AAAIF                           ALTERNATIVE INVSTMENT TR     otc   \n",
      "4       AAAU             Goldman Sachs Physical Gold ETF Shares  stocks   \n",
      "...      ...                                                ...     ...   \n",
      "44086  ZZCMF                            ZHENGZHOU COAL MNG MACH     otc   \n",
      "44087  ZZHGF                             ZHONGAN ONLINE P&C ORD     otc   \n",
      "44088  ZZHGY                             ZHONGAN ONLINE P&C ADR     otc   \n",
      "44089    ZZZ  Cyber Hornet S&P 500 and Bitcoin 75/25 Strateg...  stocks   \n",
      "44090  ZZZOF                             ZINC ONE RESOURCES INC     otc   \n",
      "\n",
      "      locale primary_exchange  type  active currency_name         cik  \\\n",
      "0         us             XNYS    CS    True           usd  0001090872   \n",
      "1         us             XNYS    CS    True           usd  0001675149   \n",
      "2         us             ARCX   ETF    True           usd         NaN   \n",
      "3         us              NaN  FUND    True           USD         NaN   \n",
      "4         us             BATS   ETF    True           usd  0001708646   \n",
      "...      ...              ...   ...     ...           ...         ...   \n",
      "44086     us              NaN    OS    True           USD         NaN   \n",
      "44087     us              NaN    OS    True           USD         NaN   \n",
      "44088     us              NaN  ADRC    True           USD         NaN   \n",
      "44089     us             XNAS   ETF    True           usd         NaN   \n",
      "44090     us              NaN    OS    True           USD         NaN   \n",
      "\n",
      "      composite_figi share_class_figi          last_updated_utc  \\\n",
      "0       BBG000C2V3D6     BBG001SCTQY4      2025-05-15T00:00:00Z   \n",
      "1       BBG00B3T3HD3     BBG00B3T3HF1      2025-05-19T00:00:00Z   \n",
      "2       BBG01B0JRCS6     BBG01B0JRCT5      2025-05-19T00:00:00Z   \n",
      "3                NaN              NaN  2022-08-26T05:00:07.114Z   \n",
      "4       BBG00LPXX872     BBG00LPXX8Z1      2025-05-19T00:00:00Z   \n",
      "...              ...              ...                       ...   \n",
      "44086            NaN              NaN  2025-04-28T06:44:25.104Z   \n",
      "44087            NaN              NaN  2022-04-01T05:01:14.384Z   \n",
      "44088   BBG00JFF8C58     BBG00JFF8CW8  2025-04-04T05:03:04.119Z   \n",
      "44089   BBG01KS90D05     BBG01KS90DV1      2025-05-19T00:00:00Z   \n",
      "44090   BBG000WJ4YQ5     BBG001STKXP1  2023-10-11T21:28:38.759Z   \n",
      "\n",
      "      currency_symbol base_currency_symbol base_currency_name source_feed  \n",
      "0                 NaN                  NaN                NaN         NaN  \n",
      "1                 NaN                  NaN                NaN         NaN  \n",
      "2                 NaN                  NaN                NaN         NaN  \n",
      "3                 NaN                  NaN                NaN         NaN  \n",
      "4                 NaN                  NaN                NaN         NaN  \n",
      "...               ...                  ...                ...         ...  \n",
      "44086             NaN                  NaN                NaN         NaN  \n",
      "44087             NaN                  NaN                NaN         NaN  \n",
      "44088             NaN                  NaN                NaN         NaN  \n",
      "44089             NaN                  NaN                NaN         NaN  \n",
      "44090             NaN                  NaN                NaN         NaN  \n",
      "\n",
      "[44091 rows x 16 columns]\n"
     ]
    }
   ],
   "source": [
    "print(tickers)"
   ]
  },
  {
   "cell_type": "code",
   "execution_count": 13,
   "id": "3a367a65",
   "metadata": {},
   "outputs": [
    {
     "name": "stdout",
     "output_type": "stream",
     "text": [
      "     id      type asset_class  locale  \\\n",
      "0     1  exchange      stocks      us   \n",
      "1     2  exchange      stocks      us   \n",
      "2     3  exchange      stocks      us   \n",
      "3     4       TRF      stocks      us   \n",
      "4     5       SIP      stocks      us   \n",
      "5     6       TRF      stocks      us   \n",
      "6     7  exchange      stocks      us   \n",
      "7     8  exchange      stocks      us   \n",
      "8     9  exchange      stocks      us   \n",
      "9    10  exchange      stocks      us   \n",
      "10   11  exchange      stocks      us   \n",
      "11   12  exchange      stocks      us   \n",
      "12   13       SIP      stocks      us   \n",
      "13   14  exchange      stocks      us   \n",
      "14   15  exchange      stocks      us   \n",
      "15   16       TRF      stocks      us   \n",
      "16   17  exchange      stocks      us   \n",
      "17   18  exchange      stocks      us   \n",
      "18   19  exchange      stocks      us   \n",
      "19   20  exchange      stocks      us   \n",
      "20   21  exchange      stocks      us   \n",
      "21   62       ORF      stocks      us   \n",
      "22  201       TRF      stocks      us   \n",
      "23  202       TRF      stocks      us   \n",
      "24  203       TRF      stocks      us   \n",
      "25  300  exchange     options      us   \n",
      "26  301  exchange     options      us   \n",
      "27  302  exchange     options      us   \n",
      "28  303  exchange     options      us   \n",
      "29  304  exchange     options      us   \n",
      "30  307  exchange     options      us   \n",
      "31  308  exchange     options      us   \n",
      "32  309  exchange     options      us   \n",
      "33  310  exchange     options      us   \n",
      "34  312  exchange     options      us   \n",
      "35  313  exchange     options      us   \n",
      "36  314       SIP     options      us   \n",
      "37  315  exchange     options      us   \n",
      "38  316  exchange     options      us   \n",
      "39  318  exchange     options      us   \n",
      "40  319  exchange     options      us   \n",
      "41  320  exchange     options      us   \n",
      "42  322  exchange     options      us   \n",
      "43  323  exchange     options      us   \n",
      "44  325  exchange     options      us   \n",
      "45   48  exchange          fx  global   \n",
      "46    1  exchange      crypto  global   \n",
      "47    2  exchange      crypto  global   \n",
      "48    6  exchange      crypto  global   \n",
      "49   10  exchange      crypto  global   \n",
      "50   23  exchange      crypto  global   \n",
      "51    1  exchange     futures      us   \n",
      "52    2  exchange     futures      us   \n",
      "53    3  exchange     futures      us   \n",
      "54    4  exchange     futures      us   \n",
      "\n",
      "                                               name acronym   mic  \\\n",
      "0                                NYSE American, LLC    AMEX  XASE   \n",
      "1                               Nasdaq OMX BX, Inc.     NaN  XBOS   \n",
      "2                               NYSE National, Inc.     NSX  XCIS   \n",
      "3                FINRA Alternative Display Facility     NaN  XADF   \n",
      "4                       Unlisted Trading Privileges     NaN   NaN   \n",
      "5   International Securities Exchange, LLC - Stocks     NaN  XISE   \n",
      "6                                         Cboe EDGA     NaN  EDGA   \n",
      "7                                         Cboe EDGX     NaN  EDGX   \n",
      "8                                NYSE Chicago, Inc.     NaN  XCHI   \n",
      "9                           New York Stock Exchange     NaN  XNYS   \n",
      "10                                  NYSE Arca, Inc.     NaN  ARCX   \n",
      "11                                           Nasdaq     NaN  XNAS   \n",
      "12                    Consolidated Tape Association     NaN   NaN   \n",
      "13                         Long-Term Stock Exchange     NaN  LTSE   \n",
      "14                               Investors Exchange     NaN  IEXG   \n",
      "15                              Cboe Stock Exchange     NaN  CBSX   \n",
      "16                 Nasdaq Philadelphia Exchange LLC     NaN  XPHL   \n",
      "17                                         Cboe BYX     NaN  BATY   \n",
      "18                                         Cboe BZX     NaN  BATS   \n",
      "19                                       MIAX Pearl     NaN  EPRL   \n",
      "20                                 Members Exchange     NaN  MEMX   \n",
      "21                              OTC Equity Security     NaN  OOTC   \n",
      "22                                   FINRA NYSE TRF     NaN  FINY   \n",
      "23                        FINRA Nasdaq TRF Carteret     NaN  FINN   \n",
      "24                         FINRA Nasdaq TRF Chicago     NaN  FINC   \n",
      "25                            NYSE American Options     NaN  AMXO   \n",
      "26                          Boston Options Exchange     NaN  XBOX   \n",
      "27                   Chicago Board Options Exchange     NaN  XCBO   \n",
      "28                                MIAX Emerald, LLC     NaN  EMLD   \n",
      "29                                Cboe EDGX Options     NaN  EDGO   \n",
      "30             Nasdaq Global Markets Exchange Group    GEMX  GEMX   \n",
      "31           International Securities Exchange, LLC     ISE  XISX   \n",
      "32                      Nasdaq MRX Options Exchange     NaN  MCRY   \n",
      "33                     Nasdaq GMNI Options Exchange     NaN  GMNI   \n",
      "34      MIAX International Securities Exchange, LLC     NaN  XMIO   \n",
      "35                        NYSE Arca, Inc. - Options     NaN  ARCO   \n",
      "36                Options Price Reporting Authority     NaN  OPRA   \n",
      "37                        MIAX Pearl, LLC - Options     NaN  MPRL   \n",
      "38                            Nasdaq Options Market     NaN  XNDQ   \n",
      "39                               MIAX SAPPHIRE, LLC     NaN  SPHR   \n",
      "40                              Nasdaq BX - Options     NaN  XBXO   \n",
      "41                         Members Options Exchange     NaN  MXOP   \n",
      "42                         Cboe C2 Options Exchange     NaN  C2OX   \n",
      "43      Nasdaq Philadelphia Exchange, LLC - Options     NaN  XPHO   \n",
      "44                        Cboe BZX Options Exchange     NaN  BATO   \n",
      "45                                 Currency Banks 1     NaN   NaN   \n",
      "46                                         Coinbase     NaN   NaN   \n",
      "47                                         Bitfinex     NaN   NaN   \n",
      "48                                         Bitstamp     NaN   NaN   \n",
      "49                                          Binance     NaN   NaN   \n",
      "50                                           Kraken     NaN   NaN   \n",
      "51                     New York Mercantile Exchange   NYMEX  XNYM   \n",
      "52                      Commodities Exchange Center   COMEX  XCEC   \n",
      "53                           Chicago Board of Trade    CBOT  XCBT   \n",
      "54                      Chicago Mercantile Exchange     CME  XCME   \n",
      "\n",
      "   operating_mic participant_id  \\\n",
      "0           XNYS              A   \n",
      "1           XNAS              B   \n",
      "2           XNYS              C   \n",
      "3           FINR              D   \n",
      "4           XNAS              E   \n",
      "5           XNAS              I   \n",
      "6           XCBO              J   \n",
      "7           XCBO              K   \n",
      "8           XNYS              M   \n",
      "9           XNYS              N   \n",
      "10          XNYS              P   \n",
      "11          XNAS              T   \n",
      "12          XNYS              S   \n",
      "13          LTSE              L   \n",
      "14          IEXG              V   \n",
      "15          XCBO              W   \n",
      "16          XNAS              X   \n",
      "17          XCBO              Y   \n",
      "18          XCBO              Z   \n",
      "19          MIHI              H   \n",
      "20          MEMX              U   \n",
      "21          FINR            NaN   \n",
      "22          FINR            NaN   \n",
      "23          FINR            NaN   \n",
      "24          FINR            NaN   \n",
      "25          XNYS              A   \n",
      "26          XBOX              B   \n",
      "27          XCBO              C   \n",
      "28          MIHI              D   \n",
      "29          XCBO              E   \n",
      "30          GEMX              H   \n",
      "31          XISX              I   \n",
      "32          XISX              J   \n",
      "33          XISX            NaN   \n",
      "34          MIHI              M   \n",
      "35          XNYS              N   \n",
      "36          OPRA              O   \n",
      "37          MIHI              P   \n",
      "38          XNAS              Q   \n",
      "39          MIHI              S   \n",
      "40          XNAS              T   \n",
      "41          MEMX              U   \n",
      "42          XCBO              W   \n",
      "43          XNAS              X   \n",
      "44          XCBO              Z   \n",
      "45           NaN            NaN   \n",
      "46           NaN            NaN   \n",
      "47           NaN            NaN   \n",
      "48           NaN            NaN   \n",
      "49           NaN            NaN   \n",
      "50           NaN            NaN   \n",
      "51          XNYM            NaN   \n",
      "52          XNYM            NaN   \n",
      "53          XCBT            NaN   \n",
      "54          XCME            NaN   \n",
      "\n",
      "                                                  url  \n",
      "0          https://www.nyse.com/markets/nyse-american  \n",
      "1   https://www.nasdaq.com/solutions/nasdaq-bx-sto...  \n",
      "2          https://www.nyse.com/markets/nyse-national  \n",
      "3                               https://www.finra.org  \n",
      "4                             https://www.utpplan.com  \n",
      "5             https://nasdaq.com/solutions/nasdaq-ise  \n",
      "6                    https://www.cboe.com/us/equities  \n",
      "7                    https://www.cboe.com/us/equities  \n",
      "8           https://www.nyse.com/markets/nyse-chicago  \n",
      "9                                https://www.nyse.com  \n",
      "10             https://www.nyse.com/markets/nyse-arca  \n",
      "11                             https://www.nasdaq.com  \n",
      "12                      https://www.nyse.com/data/cta  \n",
      "13                               https://www.ltse.com  \n",
      "14                         https://www.iextrading.com  \n",
      "15                               https://www.cboe.com  \n",
      "16       https://www.nasdaq.com/solutions/nasdaq-phlx  \n",
      "17                   https://www.cboe.com/us/equities  \n",
      "18                   https://www.cboe.com/us/equities  \n",
      "19  https://www.miaxoptions.com/alerts/pearl-equities  \n",
      "20                               https://www.memx.com  \n",
      "21  https://www.finra.org/filing-reporting/over-th...  \n",
      "22                              https://www.finra.org  \n",
      "23                              https://www.finra.org  \n",
      "24                              https://www.finra.org  \n",
      "25      https://www.nyse.com/markets/american-options  \n",
      "26                         https://www.boxoptions.com  \n",
      "27                               https://www.cboe.com  \n",
      "28         https://www.miaxoptions.com/alerts/emerald  \n",
      "29                    https://www.cboe.com/us/options  \n",
      "30       https://www.nasdaq.com/solutions/nasdaq-gemx  \n",
      "31        https://www.nasdaq.com/solutions/nasdaq-ise  \n",
      "32        https://www.nasdaq.com/solutions/nasdaq-mrx  \n",
      "33                            https://www.nasdaq.com/  \n",
      "34                 https://www.miaxoptions.com/alerts  \n",
      "35          https://www.nyse.com/markets/arca-options  \n",
      "36                            http://www.opraplan.com  \n",
      "37           https://www.miaxoptions.com/alerts/pearl  \n",
      "38        https://www.nasdaq.com/solutions/nasdaq-nom  \n",
      "39  https://www.miaxglobal.com/markets/us-options/...  \n",
      "40         https://www.nasdaq.com/solutions/nasdaq-bx  \n",
      "41                               https://www.memx.com  \n",
      "42                    https://www.cboe.com/us/options  \n",
      "43       https://www.nasdaq.com/solutions/nasdaq-phlx  \n",
      "44                    https://www.cboe.com/us/options  \n",
      "45                                                NaN  \n",
      "46                           https://www.coinbase.com  \n",
      "47                           https://www.bitfinex.com  \n",
      "48                           https://www.bitstamp.net  \n",
      "49                            https://www.binance.us/  \n",
      "50                             https://www.kraken.com  \n",
      "51                                   http://nymex.com  \n",
      "52                                http://cmegroup.com  \n",
      "53                                   https://cbot.com  \n",
      "54                               https://cmegroup.com  \n"
     ]
    }
   ],
   "source": [
    "exchanges = pw.get_exchanges()\n",
    "print(exchanges)"
   ]
  },
  {
   "cell_type": "code",
   "execution_count": 14,
   "id": "09bee3d6",
   "metadata": {},
   "outputs": [
    {
     "name": "stdout",
     "output_type": "stream",
     "text": [
      "WARNING: Running with threading will spawn an internal ThreadPool to get responses in parallel. It is fine if you are not running a ThreadPool of your own. But If you are, know that only one pool will run at a time due to python GIL restriction. Other pool will wait. You can pass warnings=False to disable this warning OR pass run_parallel=False to disable running internal thread pool\n"
     ]
    }
   ],
   "source": [
    "hist_data = pw.get_historical_data(\"AAPL\", \"2023-01-01\", \"2023-10-01\")"
   ]
  },
  {
   "cell_type": "code",
   "execution_count": 15,
   "id": "82a748bb",
   "metadata": {},
   "outputs": [
    {
     "name": "stdout",
     "output_type": "stream",
     "text": [
      "        Volume      Vwap    Open   Close      High      Low      Timestamp  \\\n",
      "0   43570932.0  174.1828  173.98  174.20  174.7100  173.450  1684728000000   \n",
      "1   50745163.0  172.1908  173.13  171.56  173.3794  171.275  1684814400000   \n",
      "2   43711588.0  171.5088  171.09  171.84  172.4183  170.520  1684900800000   \n",
      "3   55889523.0  172.8818  172.41  172.99  173.8950  171.690  1684987200000   \n",
      "4   54834975.0  175.1454  173.32  175.43  175.7700  173.110  1685073600000   \n",
      "..         ...       ...     ...     ...       ...      ...            ...   \n",
      "86  46172740.0  175.6665  174.20  176.08  176.9700  174.150  1695614400000   \n",
      "87  64548945.0  172.7156  174.82  171.96  175.2000  171.660  1695700800000   \n",
      "88  66920708.0  170.5335  172.62  170.43  173.0400  169.050  1695787200000   \n",
      "89  56294419.0  170.2970  169.34  170.69  172.0300  167.620  1695873600000   \n",
      "90  51861083.0  171.5997  172.02  171.21  173.0700  170.341  1695960000000   \n",
      "\n",
      "    Num_Transactions            Datetime  \n",
      "0             526393 2023-05-22 04:00:00  \n",
      "1             535091 2023-05-23 04:00:00  \n",
      "2             492275 2023-05-24 04:00:00  \n",
      "3             534909 2023-05-25 04:00:00  \n",
      "4             529918 2023-05-26 04:00:00  \n",
      "..               ...                 ...  \n",
      "86            564218 2023-09-25 04:00:00  \n",
      "87            688340 2023-09-26 04:00:00  \n",
      "88            707850 2023-09-27 04:00:00  \n",
      "89            618584 2023-09-28 04:00:00  \n",
      "90            535134 2023-09-29 04:00:00  \n",
      "\n",
      "[91 rows x 9 columns]\n"
     ]
    }
   ],
   "source": [
    "print(hist_data)"
   ]
  },
  {
   "cell_type": "markdown",
   "id": "b66c3b58",
   "metadata": {},
   "source": [
    "Testing Yfinance"
   ]
  },
  {
   "cell_type": "code",
   "execution_count": 17,
   "id": "8235a6bc",
   "metadata": {},
   "outputs": [],
   "source": [
    "from src.clients.yfinance.yfinance import YF_Client\n",
    "yf = YF_Client()"
   ]
  },
  {
   "cell_type": "code",
   "execution_count": 18,
   "id": "9cc30583",
   "metadata": {},
   "outputs": [],
   "source": [
    "#get historical ticker data\n",
    "ticker = \"AAPL\"\n",
    "hist_data = yf.get_ticker_history(ticker, \"1y\")"
   ]
  },
  {
   "cell_type": "code",
   "execution_count": 19,
   "id": "6dbc6135",
   "metadata": {},
   "outputs": [
    {
     "name": "stdout",
     "output_type": "stream",
     "text": [
      "                                 Open        High         Low       Close  \\\n",
      "Date                                                                        \n",
      "2024-05-21 00:00:00-04:00  190.200491  191.832856  190.031284  191.454636   \n",
      "2024-05-22 00:00:00-04:00  191.375001  191.922444  189.384311  190.011368   \n",
      "2024-05-23 00:00:00-04:00  190.090992  190.110903  185.761250  186.010086   \n",
      "2024-05-24 00:00:00-04:00  187.941069  189.692870  187.164685  189.095657   \n",
      "2024-05-28 00:00:00-04:00  190.618520  192.101589  188.219750  189.105606   \n",
      "...                               ...         ...         ...         ...   \n",
      "2025-05-14 00:00:00-04:00  212.429993  213.940002  210.580002  212.330002   \n",
      "2025-05-15 00:00:00-04:00  210.949997  212.960007  209.539993  211.449997   \n",
      "2025-05-16 00:00:00-04:00  212.360001  212.570007  209.770004  211.259995   \n",
      "2025-05-19 00:00:00-04:00  207.910004  209.479996  204.259995  208.779999   \n",
      "2025-05-20 00:00:00-04:00  207.669998  208.470001  205.029999  206.860001   \n",
      "\n",
      "                             Volume  Dividends  Stock Splits  \n",
      "Date                                                          \n",
      "2024-05-21 00:00:00-04:00  42309400        0.0           0.0  \n",
      "2024-05-22 00:00:00-04:00  34648500        0.0           0.0  \n",
      "2024-05-23 00:00:00-04:00  51005900        0.0           0.0  \n",
      "2024-05-24 00:00:00-04:00  36294600        0.0           0.0  \n",
      "2024-05-28 00:00:00-04:00  52280100        0.0           0.0  \n",
      "...                             ...        ...           ...  \n",
      "2025-05-14 00:00:00-04:00  49325800        0.0           0.0  \n",
      "2025-05-15 00:00:00-04:00  45029500        0.0           0.0  \n",
      "2025-05-16 00:00:00-04:00  54737900        0.0           0.0  \n",
      "2025-05-19 00:00:00-04:00  46140500        0.0           0.0  \n",
      "2025-05-20 00:00:00-04:00  40940792        0.0           0.0  \n",
      "\n",
      "[250 rows x 7 columns]\n"
     ]
    }
   ],
   "source": [
    "print(hist_data)"
   ]
  },
  {
   "cell_type": "markdown",
   "id": "52d1e58b",
   "metadata": {},
   "source": [
    "We should use yfinance for recent daily historical ticker data as default."
   ]
  },
  {
   "cell_type": "code",
   "execution_count": 9,
   "id": "ac6617f9",
   "metadata": {},
   "outputs": [
    {
     "name": "stdout",
     "output_type": "stream",
     "text": [
      "YF.download() has changed argument auto_adjust default to True\n"
     ]
    },
    {
     "name": "stderr",
     "output_type": "stream",
     "text": [
      "[*********************100%***********************]  1 of 1 completed"
     ]
    },
    {
     "name": "stdout",
     "output_type": "stream",
     "text": [
      "Price            Close        High         Low        Open     Volume\n",
      "Ticker            AAPL        AAPL        AAPL        AAPL       AAPL\n",
      "Date                                                                 \n",
      "2023-01-03  123.470612  129.226052  122.582119  128.613985  112117500\n",
      "2023-01-04  124.744118  127.014709  123.480487  125.267339   89113600\n",
      "2023-01-05  123.421257  126.136090  123.164587  125.504275   80962700\n",
      "2023-01-06  127.962418  128.623848  123.292909  124.398589   87754700\n",
      "2023-01-09  128.485641  131.703962  128.228972  128.801557   70790800\n",
      "...                ...         ...         ...         ...        ...\n",
      "2023-09-25  174.569931  175.452298  172.656475  172.706049   46172700\n",
      "2023-09-26  170.485260  173.697464  170.187830  173.320733   64588900\n",
      "2023-09-27  168.968399  171.556017  167.600244  171.139620   66921800\n",
      "2023-09-28  169.226151  170.554655  166.182472  167.887722   56294400\n",
      "2023-09-29  169.741699  171.585748  168.879150  170.544750   51814200\n",
      "\n",
      "[187 rows x 5 columns]\n"
     ]
    },
    {
     "name": "stderr",
     "output_type": "stream",
     "text": [
      "\n"
     ]
    }
   ],
   "source": [
    "#try the get data function\n",
    "ticker = \"AAPL\"\n",
    "start_date = \"2023-01-01\"\n",
    "end_date = \"2023-10-01\"\n",
    "yf_data = yf.get_data(ticker, start_date, end_date)\n",
    "print(yf_data)"
   ]
  },
  {
   "cell_type": "code",
   "execution_count": 11,
   "id": "25cb6c23",
   "metadata": {},
   "outputs": [
    {
     "name": "stdout",
     "output_type": "stream",
     "text": [
      "             address1       city state    zip        country           phone  \\\n",
      "0  One Apple Park Way  Cupertino    CA  95014  United States  (408) 996-1010   \n",
      "\n",
      "                 website              industry           industryKey  \\\n",
      "0  https://www.apple.com  Consumer Electronics  consumer-electronics   \n",
      "\n",
      "           industryDisp  ... twoHundredDayAverageChangePercent sourceInterval  \\\n",
      "0  Consumer Electronics  ...                         -0.077191             15   \n",
      "\n",
      "  exchangeDataDelayedBy averageAnalystRating  cryptoTradeable marketState  \\\n",
      "0                     0            2.1 - Buy            False        POST   \n",
      "\n",
      "    shortName    longName  displayName  trailingPegRatio  \n",
      "0  Apple Inc.  Apple Inc.        Apple            2.1417  \n",
      "\n",
      "[1 rows x 180 columns]\n"
     ]
    }
   ],
   "source": [
    "#get ticker info for AAPL\n",
    "ticker_info = yf.get_ticker_info(\"AAPL\")\n",
    "print(ticker_info)"
   ]
  },
  {
   "cell_type": "markdown",
   "id": "6ef7988a",
   "metadata": {},
   "source": [
    "We could make a utils directory, create an entities.py file, and, using a list of all available public tickers, iterate through each item and call info to get an entities file for an entities dimension from yfinance."
   ]
  },
  {
   "cell_type": "code",
   "execution_count": 12,
   "id": "4b01aa7a",
   "metadata": {},
   "outputs": [
    {
     "name": "stdout",
     "output_type": "stream",
     "text": [
      "                           Dividends  Stock Splits\n",
      "Date                                              \n",
      "1987-05-11 00:00:00-04:00   0.000536           0.0\n",
      "1987-06-16 00:00:00-04:00   0.000000           2.0\n",
      "1987-08-10 00:00:00-04:00   0.000536           0.0\n",
      "1987-11-17 00:00:00-05:00   0.000714           0.0\n",
      "1988-02-12 00:00:00-05:00   0.000714           0.0\n",
      "...                              ...           ...\n",
      "2024-05-10 00:00:00-04:00   0.250000           0.0\n",
      "2024-08-12 00:00:00-04:00   0.250000           0.0\n",
      "2024-11-08 00:00:00-05:00   0.250000           0.0\n",
      "2025-02-10 00:00:00-05:00   0.250000           0.0\n",
      "2025-05-12 00:00:00-04:00   0.260000           0.0\n",
      "\n",
      "[92 rows x 2 columns]\n"
     ]
    }
   ],
   "source": [
    "#get tickers actions\n",
    "ticker_actions = yf.get_ticker_actions(\"AAPL\")\n",
    "print(ticker_actions)"
   ]
  },
  {
   "cell_type": "markdown",
   "id": "a05ad189",
   "metadata": {},
   "source": [
    "Seems unnecessary since this information is available in history. (I guess it is useful if you only use get data)"
   ]
  },
  {
   "cell_type": "code",
   "execution_count": 13,
   "id": "aa824ca2",
   "metadata": {},
   "outputs": [
    {
     "name": "stdout",
     "output_type": "stream",
     "text": [
      "Date\n",
      "1987-05-11 00:00:00-04:00    0.000536\n",
      "1987-08-10 00:00:00-04:00    0.000536\n",
      "1987-11-17 00:00:00-05:00    0.000714\n",
      "1988-02-12 00:00:00-05:00    0.000714\n",
      "1988-05-16 00:00:00-04:00    0.000714\n",
      "                               ...   \n",
      "2024-05-10 00:00:00-04:00    0.250000\n",
      "2024-08-12 00:00:00-04:00    0.250000\n",
      "2024-11-08 00:00:00-05:00    0.250000\n",
      "2025-02-10 00:00:00-05:00    0.250000\n",
      "2025-05-12 00:00:00-04:00    0.260000\n",
      "Name: Dividends, Length: 87, dtype: float64\n"
     ]
    }
   ],
   "source": [
    "#test get ticker dividends\n",
    "ticker_dividends = yf.get_ticker_dividends(\"AAPL\")\n",
    "print(ticker_dividends)"
   ]
  },
  {
   "cell_type": "code",
   "execution_count": 14,
   "id": "4ab8f6c3",
   "metadata": {},
   "outputs": [],
   "source": [
    "#test get ticker splits\n",
    "ticker_splits = yf.get_ticker_splits(\"AAPL\")"
   ]
  },
  {
   "cell_type": "code",
   "execution_count": 15,
   "id": "59a40298",
   "metadata": {},
   "outputs": [
    {
     "name": "stdout",
     "output_type": "stream",
     "text": [
      "Date\n",
      "1987-06-16 00:00:00-04:00    2.0\n",
      "2000-06-21 00:00:00-04:00    2.0\n",
      "2005-02-28 00:00:00-05:00    2.0\n",
      "2014-06-09 00:00:00-04:00    7.0\n",
      "2020-08-31 00:00:00-04:00    4.0\n",
      "Name: Stock Splits, dtype: float64\n"
     ]
    }
   ],
   "source": [
    "print(ticker_splits)"
   ]
  },
  {
   "cell_type": "code",
   "execution_count": 2,
   "id": "d89fb72c",
   "metadata": {},
   "outputs": [
    {
     "name": "stderr",
     "output_type": "stream",
     "text": [
      "[*********************100%***********************]  2 of 2 completed"
     ]
    },
    {
     "name": "stdout",
     "output_type": "stream",
     "text": [
      "Price            Close             Dividends              High              \\\n",
      "Ticker            AAPL       GOOGL      AAPL GOOGL        AAPL       GOOGL   \n",
      "Date                                                                         \n",
      "2024-05-20  190.150726  176.078186       0.0   0.0  191.026635  177.919390   \n",
      "2024-05-21  191.454636  177.003769       0.0   0.0  191.832856  177.302329   \n",
      "2024-05-22  190.011368  175.540741       0.0   0.0  191.922444  176.307066   \n",
      "2024-05-23  186.010101  172.724228       0.0   0.0  190.110918  177.401862   \n",
      "2024-05-24  189.095657  174.157379       0.0   0.0  189.692870  174.933667   \n",
      "...                ...         ...       ...   ...         ...         ...   \n",
      "2025-05-13  212.929993  159.529999       0.0   0.0  213.399994  160.570007   \n",
      "2025-05-14  212.330002  165.369995       0.0   0.0  213.940002  167.000000   \n",
      "2025-05-15  211.449997  163.960007       0.0   0.0  212.960007  166.210007   \n",
      "2025-05-16  211.259995  166.190002       0.0   0.0  212.570007  169.350006   \n",
      "2025-05-19  208.779999  166.539993       0.0   0.0  209.479996  166.630005   \n",
      "\n",
      "Price              Low                    Open             Stock Splits        \\\n",
      "Ticker            AAPL       GOOGL        AAPL       GOOGL         AAPL GOOGL   \n",
      "Date                                                                            \n",
      "2024-05-20  188.130177  175.242187  188.448695  175.351664          0.0   0.0   \n",
      "2024-05-21  190.031284  174.973467  190.200491  176.058277          0.0   0.0   \n",
      "2024-05-22  189.384311  174.376310  191.375001  175.799498          0.0   0.0   \n",
      "2024-05-23  185.761265  172.127077  190.091007  176.227484          0.0   0.0   \n",
      "2024-05-24  187.164685  172.823744  187.941069  174.147417          0.0   0.0   \n",
      "...                ...         ...         ...         ...          ...   ...   \n",
      "2025-05-13  209.000000  156.160004  210.429993  158.789993          0.0   0.0   \n",
      "2025-05-14  210.580002  159.610001  212.429993  159.960007          0.0   0.0   \n",
      "2025-05-15  209.539993  162.369995  210.949997  165.839996          0.0   0.0   \n",
      "2025-05-16  209.770004  165.619995  212.360001  167.729996          0.0   0.0   \n",
      "2025-05-19  204.259995  164.220001  207.910004  164.509995          0.0   0.0   \n",
      "\n",
      "Price         Volume            \n",
      "Ticker          AAPL     GOOGL  \n",
      "Date                            \n",
      "2024-05-20  44361300  22554400  \n",
      "2024-05-21  42309400  16989400  \n",
      "2024-05-22  34648500  17880000  \n",
      "2024-05-23  51005900  21024900  \n",
      "2024-05-24  36294600  16572500  \n",
      "...              ...       ...  \n",
      "2025-05-13  51909300  42382100  \n",
      "2025-05-14  49325800  48755900  \n",
      "2025-05-15  45029500  33146700  \n",
      "2025-05-16  53659100  42650100  \n",
      "2025-05-19  45104929  30332738  \n",
      "\n",
      "[250 rows x 14 columns]\n"
     ]
    },
    {
     "name": "stderr",
     "output_type": "stream",
     "text": [
      "\n"
     ]
    }
   ],
   "source": [
    "#test out the \"tickers\" history functions\n",
    "tickers = [\"AAPL\", \"GOOGL\"]\n",
    "period = \"1y\"\n",
    "interval = \"1d\"\n",
    "\n",
    "tickers_hist = yf.get_tickers_history(tickers, period, interval)\n",
    "print(tickers_hist)"
   ]
  },
  {
   "cell_type": "markdown",
   "id": "d81869f1",
   "metadata": {},
   "source": [
    "Don't know what happend to tickers history"
   ]
  },
  {
   "cell_type": "code",
   "execution_count": 3,
   "id": "ac5c3ec6",
   "metadata": {},
   "outputs": [
    {
     "name": "stderr",
     "output_type": "stream",
     "text": [
      "[*********************100%***********************]  2 of 2 completed"
     ]
    },
    {
     "name": "stdout",
     "output_type": "stream",
     "text": [
      "Price            Close             Dividends              High              \\\n",
      "Ticker            AAPL       GOOGL      AAPL GOOGL        AAPL       GOOGL   \n",
      "Date                                                                         \n",
      "2024-05-20  190.150726  176.078171       0.0   0.0  191.026635  177.919374   \n",
      "2024-05-21  191.454636  177.003769       0.0   0.0  191.832856  177.302329   \n",
      "2024-05-22  190.011383  175.540756       0.0   0.0  191.922459  176.307081   \n",
      "2024-05-23  186.010086  172.724213       0.0   0.0  190.110903  177.401846   \n",
      "2024-05-24  189.095657  174.157364       0.0   0.0  189.692870  174.933651   \n",
      "...                ...         ...       ...   ...         ...         ...   \n",
      "2025-05-13  212.929993  159.529999       0.0   0.0  213.399994  160.570007   \n",
      "2025-05-14  212.330002  165.369995       0.0   0.0  213.940002  167.000000   \n",
      "2025-05-15  211.449997  163.960007       0.0   0.0  212.960007  166.210007   \n",
      "2025-05-16  211.259995  166.190002       0.0   0.0  212.570007  169.350006   \n",
      "2025-05-19  208.779999  166.539993       0.0   0.0  209.479996  166.630005   \n",
      "\n",
      "Price              Low                    Open             Stock Splits        \\\n",
      "Ticker            AAPL       GOOGL        AAPL       GOOGL         AAPL GOOGL   \n",
      "Date                                                                            \n",
      "2024-05-20  188.130177  175.242171  188.448695  175.351649          0.0   0.0   \n",
      "2024-05-21  190.031284  174.973467  190.200491  176.058277          0.0   0.0   \n",
      "2024-05-22  189.384326  174.376325  191.375016  175.799514          0.0   0.0   \n",
      "2024-05-23  185.761250  172.127062  190.090992  176.227468          0.0   0.0   \n",
      "2024-05-24  187.164685  172.823728  187.941069  174.147402          0.0   0.0   \n",
      "...                ...         ...         ...         ...          ...   ...   \n",
      "2025-05-13  209.000000  156.160004  210.429993  158.789993          0.0   0.0   \n",
      "2025-05-14  210.580002  159.610001  212.429993  159.960007          0.0   0.0   \n",
      "2025-05-15  209.539993  162.369995  210.949997  165.839996          0.0   0.0   \n",
      "2025-05-16  209.770004  165.619995  212.360001  167.729996          0.0   0.0   \n",
      "2025-05-19  204.259995  164.220001  207.910004  164.509995          0.0   0.0   \n",
      "\n",
      "Price         Volume            \n",
      "Ticker          AAPL     GOOGL  \n",
      "Date                            \n",
      "2024-05-20  44361300  22554400  \n",
      "2024-05-21  42309400  16989400  \n",
      "2024-05-22  34648500  17880000  \n",
      "2024-05-23  51005900  21024900  \n",
      "2024-05-24  36294600  16572500  \n",
      "...              ...       ...  \n",
      "2025-05-13  51909300  42382100  \n",
      "2025-05-14  49325800  48755900  \n",
      "2025-05-15  45029500  33146700  \n",
      "2025-05-16  53659100  42650100  \n",
      "2025-05-19  45104929  30332738  \n",
      "\n",
      "[250 rows x 14 columns]\n"
     ]
    },
    {
     "name": "stderr",
     "output_type": "stream",
     "text": [
      "\n"
     ]
    }
   ],
   "source": [
    "#test out tickers get data\n",
    "tickers_data = yf.get_tickers_data(tickers, period, interval)\n",
    "print(tickers_data)"
   ]
  },
  {
   "cell_type": "markdown",
   "id": "a03dd492",
   "metadata": {},
   "source": [
    "Might need to do some transformations on all of the ticker and price functions across the libraries to standardize the format of the dataframes to make the intermediate layer easier."
   ]
  }
 ],
 "metadata": {
  "kernelspec": {
   "display_name": ".venv",
   "language": "python",
   "name": "python3"
  },
  "language_info": {
   "codemirror_mode": {
    "name": "ipython",
    "version": 3
   },
   "file_extension": ".py",
   "mimetype": "text/x-python",
   "name": "python",
   "nbconvert_exporter": "python",
   "pygments_lexer": "ipython3",
   "version": "3.12.6"
  }
 },
 "nbformat": 4,
 "nbformat_minor": 5
}
